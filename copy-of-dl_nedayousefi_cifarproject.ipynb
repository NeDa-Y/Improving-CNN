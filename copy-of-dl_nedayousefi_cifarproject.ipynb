{
  "nbformat": 4,
  "nbformat_minor": 0,
  "metadata": {
    "colab": {
      "provenance": [],
      "authorship_tag": "ABX9TyNRYv7LacJ7gXxmpOgDc+wA",
      "include_colab_link": true
    },
    "kernelspec": {
      "name": "python3",
      "display_name": "Python 3"
    },
    "language_info": {
      "name": "python"
    },
    "accelerator": "GPU",
    "gpuClass": "standard",
    "widgets": {
      "application/vnd.jupyter.widget-state+json": {
        "d1e78be97745425d80378367c989b3c3": {
          "model_module": "@jupyter-widgets/controls",
          "model_name": "HBoxModel",
          "model_module_version": "1.5.0",
          "state": {
            "_dom_classes": [],
            "_model_module": "@jupyter-widgets/controls",
            "_model_module_version": "1.5.0",
            "_model_name": "HBoxModel",
            "_view_count": null,
            "_view_module": "@jupyter-widgets/controls",
            "_view_module_version": "1.5.0",
            "_view_name": "HBoxView",
            "box_style": "",
            "children": [
              "IPY_MODEL_b9a81ed62e554bbda3b18a64f3d55f43",
              "IPY_MODEL_3966267abe4e41a0877f98b97541748e",
              "IPY_MODEL_db86f6e02a574cc1b266e8ad7d5b04cc"
            ],
            "layout": "IPY_MODEL_2a34f5761f0248678f794ecdb9f2a3ef"
          }
        },
        "b9a81ed62e554bbda3b18a64f3d55f43": {
          "model_module": "@jupyter-widgets/controls",
          "model_name": "HTMLModel",
          "model_module_version": "1.5.0",
          "state": {
            "_dom_classes": [],
            "_model_module": "@jupyter-widgets/controls",
            "_model_module_version": "1.5.0",
            "_model_name": "HTMLModel",
            "_view_count": null,
            "_view_module": "@jupyter-widgets/controls",
            "_view_module_version": "1.5.0",
            "_view_name": "HTMLView",
            "description": "",
            "description_tooltip": null,
            "layout": "IPY_MODEL_b52a5cd75cca4c878b6066a2e5eb48ee",
            "placeholder": "​",
            "style": "IPY_MODEL_3fa40b2d267a49a3bdf980478b7fe4fe",
            "value": "100%"
          }
        },
        "3966267abe4e41a0877f98b97541748e": {
          "model_module": "@jupyter-widgets/controls",
          "model_name": "FloatProgressModel",
          "model_module_version": "1.5.0",
          "state": {
            "_dom_classes": [],
            "_model_module": "@jupyter-widgets/controls",
            "_model_module_version": "1.5.0",
            "_model_name": "FloatProgressModel",
            "_view_count": null,
            "_view_module": "@jupyter-widgets/controls",
            "_view_module_version": "1.5.0",
            "_view_name": "ProgressView",
            "bar_style": "success",
            "description": "",
            "description_tooltip": null,
            "layout": "IPY_MODEL_b442511bbc614d78b23598f971ae3a9f",
            "max": 170498071,
            "min": 0,
            "orientation": "horizontal",
            "style": "IPY_MODEL_3d643becd36443d4acab955601a526e0",
            "value": 170498071
          }
        },
        "db86f6e02a574cc1b266e8ad7d5b04cc": {
          "model_module": "@jupyter-widgets/controls",
          "model_name": "HTMLModel",
          "model_module_version": "1.5.0",
          "state": {
            "_dom_classes": [],
            "_model_module": "@jupyter-widgets/controls",
            "_model_module_version": "1.5.0",
            "_model_name": "HTMLModel",
            "_view_count": null,
            "_view_module": "@jupyter-widgets/controls",
            "_view_module_version": "1.5.0",
            "_view_name": "HTMLView",
            "description": "",
            "description_tooltip": null,
            "layout": "IPY_MODEL_a0a8eeab1d664c5c8bdc6128b9c65e13",
            "placeholder": "​",
            "style": "IPY_MODEL_350877cf62a543609d15e08bc3dbf614",
            "value": " 170498071/170498071 [00:05&lt;00:00, 32244692.74it/s]"
          }
        },
        "2a34f5761f0248678f794ecdb9f2a3ef": {
          "model_module": "@jupyter-widgets/base",
          "model_name": "LayoutModel",
          "model_module_version": "1.2.0",
          "state": {
            "_model_module": "@jupyter-widgets/base",
            "_model_module_version": "1.2.0",
            "_model_name": "LayoutModel",
            "_view_count": null,
            "_view_module": "@jupyter-widgets/base",
            "_view_module_version": "1.2.0",
            "_view_name": "LayoutView",
            "align_content": null,
            "align_items": null,
            "align_self": null,
            "border": null,
            "bottom": null,
            "display": null,
            "flex": null,
            "flex_flow": null,
            "grid_area": null,
            "grid_auto_columns": null,
            "grid_auto_flow": null,
            "grid_auto_rows": null,
            "grid_column": null,
            "grid_gap": null,
            "grid_row": null,
            "grid_template_areas": null,
            "grid_template_columns": null,
            "grid_template_rows": null,
            "height": null,
            "justify_content": null,
            "justify_items": null,
            "left": null,
            "margin": null,
            "max_height": null,
            "max_width": null,
            "min_height": null,
            "min_width": null,
            "object_fit": null,
            "object_position": null,
            "order": null,
            "overflow": null,
            "overflow_x": null,
            "overflow_y": null,
            "padding": null,
            "right": null,
            "top": null,
            "visibility": null,
            "width": null
          }
        },
        "b52a5cd75cca4c878b6066a2e5eb48ee": {
          "model_module": "@jupyter-widgets/base",
          "model_name": "LayoutModel",
          "model_module_version": "1.2.0",
          "state": {
            "_model_module": "@jupyter-widgets/base",
            "_model_module_version": "1.2.0",
            "_model_name": "LayoutModel",
            "_view_count": null,
            "_view_module": "@jupyter-widgets/base",
            "_view_module_version": "1.2.0",
            "_view_name": "LayoutView",
            "align_content": null,
            "align_items": null,
            "align_self": null,
            "border": null,
            "bottom": null,
            "display": null,
            "flex": null,
            "flex_flow": null,
            "grid_area": null,
            "grid_auto_columns": null,
            "grid_auto_flow": null,
            "grid_auto_rows": null,
            "grid_column": null,
            "grid_gap": null,
            "grid_row": null,
            "grid_template_areas": null,
            "grid_template_columns": null,
            "grid_template_rows": null,
            "height": null,
            "justify_content": null,
            "justify_items": null,
            "left": null,
            "margin": null,
            "max_height": null,
            "max_width": null,
            "min_height": null,
            "min_width": null,
            "object_fit": null,
            "object_position": null,
            "order": null,
            "overflow": null,
            "overflow_x": null,
            "overflow_y": null,
            "padding": null,
            "right": null,
            "top": null,
            "visibility": null,
            "width": null
          }
        },
        "3fa40b2d267a49a3bdf980478b7fe4fe": {
          "model_module": "@jupyter-widgets/controls",
          "model_name": "DescriptionStyleModel",
          "model_module_version": "1.5.0",
          "state": {
            "_model_module": "@jupyter-widgets/controls",
            "_model_module_version": "1.5.0",
            "_model_name": "DescriptionStyleModel",
            "_view_count": null,
            "_view_module": "@jupyter-widgets/base",
            "_view_module_version": "1.2.0",
            "_view_name": "StyleView",
            "description_width": ""
          }
        },
        "b442511bbc614d78b23598f971ae3a9f": {
          "model_module": "@jupyter-widgets/base",
          "model_name": "LayoutModel",
          "model_module_version": "1.2.0",
          "state": {
            "_model_module": "@jupyter-widgets/base",
            "_model_module_version": "1.2.0",
            "_model_name": "LayoutModel",
            "_view_count": null,
            "_view_module": "@jupyter-widgets/base",
            "_view_module_version": "1.2.0",
            "_view_name": "LayoutView",
            "align_content": null,
            "align_items": null,
            "align_self": null,
            "border": null,
            "bottom": null,
            "display": null,
            "flex": null,
            "flex_flow": null,
            "grid_area": null,
            "grid_auto_columns": null,
            "grid_auto_flow": null,
            "grid_auto_rows": null,
            "grid_column": null,
            "grid_gap": null,
            "grid_row": null,
            "grid_template_areas": null,
            "grid_template_columns": null,
            "grid_template_rows": null,
            "height": null,
            "justify_content": null,
            "justify_items": null,
            "left": null,
            "margin": null,
            "max_height": null,
            "max_width": null,
            "min_height": null,
            "min_width": null,
            "object_fit": null,
            "object_position": null,
            "order": null,
            "overflow": null,
            "overflow_x": null,
            "overflow_y": null,
            "padding": null,
            "right": null,
            "top": null,
            "visibility": null,
            "width": null
          }
        },
        "3d643becd36443d4acab955601a526e0": {
          "model_module": "@jupyter-widgets/controls",
          "model_name": "ProgressStyleModel",
          "model_module_version": "1.5.0",
          "state": {
            "_model_module": "@jupyter-widgets/controls",
            "_model_module_version": "1.5.0",
            "_model_name": "ProgressStyleModel",
            "_view_count": null,
            "_view_module": "@jupyter-widgets/base",
            "_view_module_version": "1.2.0",
            "_view_name": "StyleView",
            "bar_color": null,
            "description_width": ""
          }
        },
        "a0a8eeab1d664c5c8bdc6128b9c65e13": {
          "model_module": "@jupyter-widgets/base",
          "model_name": "LayoutModel",
          "model_module_version": "1.2.0",
          "state": {
            "_model_module": "@jupyter-widgets/base",
            "_model_module_version": "1.2.0",
            "_model_name": "LayoutModel",
            "_view_count": null,
            "_view_module": "@jupyter-widgets/base",
            "_view_module_version": "1.2.0",
            "_view_name": "LayoutView",
            "align_content": null,
            "align_items": null,
            "align_self": null,
            "border": null,
            "bottom": null,
            "display": null,
            "flex": null,
            "flex_flow": null,
            "grid_area": null,
            "grid_auto_columns": null,
            "grid_auto_flow": null,
            "grid_auto_rows": null,
            "grid_column": null,
            "grid_gap": null,
            "grid_row": null,
            "grid_template_areas": null,
            "grid_template_columns": null,
            "grid_template_rows": null,
            "height": null,
            "justify_content": null,
            "justify_items": null,
            "left": null,
            "margin": null,
            "max_height": null,
            "max_width": null,
            "min_height": null,
            "min_width": null,
            "object_fit": null,
            "object_position": null,
            "order": null,
            "overflow": null,
            "overflow_x": null,
            "overflow_y": null,
            "padding": null,
            "right": null,
            "top": null,
            "visibility": null,
            "width": null
          }
        },
        "350877cf62a543609d15e08bc3dbf614": {
          "model_module": "@jupyter-widgets/controls",
          "model_name": "DescriptionStyleModel",
          "model_module_version": "1.5.0",
          "state": {
            "_model_module": "@jupyter-widgets/controls",
            "_model_module_version": "1.5.0",
            "_model_name": "DescriptionStyleModel",
            "_view_count": null,
            "_view_module": "@jupyter-widgets/base",
            "_view_module_version": "1.2.0",
            "_view_name": "StyleView",
            "description_width": ""
          }
        }
      }
    }
  },
  "cells": [
    {
      "cell_type": "markdown",
      "metadata": {
        "id": "view-in-github",
        "colab_type": "text"
      },
      "source": [
        "<a href=\"https://colab.research.google.com/gist/NeDa-Y/d693918235d0d053831adb4bad3c6390/copy-of-dl_nedayousefi_cifarproject.ipynb\" target=\"_parent\"><img src=\"https://colab.research.google.com/assets/colab-badge.svg\" alt=\"Open In Colab\"/></a>"
      ]
    },
    {
      "cell_type": "markdown",
      "source": [
        "# **Improving CNN for Cfar**"
      ],
      "metadata": {
        "id": "3EdFu2YR9n7u"
      }
    },
    {
      "cell_type": "markdown",
      "source": [
        "# **First Model**"
      ],
      "metadata": {
        "id": "wZngZvq19r00"
      }
    },
    {
      "cell_type": "code",
      "source": [
        "import tensorflow as tf\n",
        "from tensorflow.keras import datasets, layers, models\n",
        "import matplotlib.pyplot as plt\n",
        "import numpy as np"
      ],
      "metadata": {
        "id": "ubU9K22T9ZRj"
      },
      "execution_count": null,
      "outputs": []
    },
    {
      "cell_type": "code",
      "source": [
        "(X_train, y_train), (X_test,y_test) = datasets.cifar10.load_data()\n",
        "X_train.shape"
      ],
      "metadata": {
        "colab": {
          "base_uri": "https://localhost:8080/"
        },
        "id": "Olrmde1J9x7g",
        "outputId": "9e653de5-93cc-43ef-daa5-ccb354d48269"
      },
      "execution_count": null,
      "outputs": [
        {
          "output_type": "stream",
          "name": "stdout",
          "text": [
            "Downloading data from https://www.cs.toronto.edu/~kriz/cifar-10-python.tar.gz\n",
            "170498071/170498071 [==============================] - 6s 0us/step\n"
          ]
        },
        {
          "output_type": "execute_result",
          "data": {
            "text/plain": [
              "(50000, 32, 32, 3)"
            ]
          },
          "metadata": {},
          "execution_count": 12
        }
      ]
    },
    {
      "cell_type": "code",
      "source": [
        "X_test.shape"
      ],
      "metadata": {
        "colab": {
          "base_uri": "https://localhost:8080/"
        },
        "id": "vuYLbJrq90n1",
        "outputId": "aa7bb9cd-5b57-4836-f6fb-8843663d9301"
      },
      "execution_count": null,
      "outputs": [
        {
          "output_type": "execute_result",
          "data": {
            "text/plain": [
              "(10000, 32, 32, 3)"
            ]
          },
          "metadata": {},
          "execution_count": 13
        }
      ]
    },
    {
      "cell_type": "code",
      "source": [
        "y_train.shape"
      ],
      "metadata": {
        "colab": {
          "base_uri": "https://localhost:8080/"
        },
        "id": "tSaw47Q4-HUH",
        "outputId": "a23bf713-89f1-49ff-e3c3-aa4c8943a0a3"
      },
      "execution_count": null,
      "outputs": [
        {
          "output_type": "execute_result",
          "data": {
            "text/plain": [
              "(50000, 1)"
            ]
          },
          "metadata": {},
          "execution_count": 14
        }
      ]
    },
    {
      "cell_type": "code",
      "source": [
        "y_train[:5]"
      ],
      "metadata": {
        "colab": {
          "base_uri": "https://localhost:8080/"
        },
        "id": "7QRCbqQD-Lm4",
        "outputId": "71edb2b2-b95d-447d-c71a-b0e38ad9be8d"
      },
      "execution_count": null,
      "outputs": [
        {
          "output_type": "execute_result",
          "data": {
            "text/plain": [
              "array([[6],\n",
              "       [9],\n",
              "       [9],\n",
              "       [4],\n",
              "       [1]], dtype=uint8)"
            ]
          },
          "metadata": {},
          "execution_count": 15
        }
      ]
    },
    {
      "cell_type": "code",
      "source": [
        "y_train = y_train.reshape(-1,)\n",
        "y_train[:5]"
      ],
      "metadata": {
        "colab": {
          "base_uri": "https://localhost:8080/"
        },
        "id": "ZxyyDCxE-QW2",
        "outputId": "713f6e07-4f0f-466c-b46c-3eea2fd5dbd4"
      },
      "execution_count": null,
      "outputs": [
        {
          "output_type": "execute_result",
          "data": {
            "text/plain": [
              "array([6, 9, 9, 4, 1], dtype=uint8)"
            ]
          },
          "metadata": {},
          "execution_count": 16
        }
      ]
    },
    {
      "cell_type": "code",
      "source": [
        "y_test = y_test.reshape(-1,)"
      ],
      "metadata": {
        "id": "zSAQtQQH-TqK"
      },
      "execution_count": null,
      "outputs": []
    },
    {
      "cell_type": "code",
      "source": [
        "classes = [\"airplane\",\"automobile\",\"bird\",\"cat\",\"deer\",\"dog\",\"frog\",\"horse\",\"ship\",\"truck\"]\n"
      ],
      "metadata": {
        "id": "-SRyYxQQ93ym"
      },
      "execution_count": null,
      "outputs": []
    },
    {
      "cell_type": "code",
      "source": [
        "def plot_sample(X, y, index):\n",
        "    plt.figure(figsize = (15,2))\n",
        "    plt.imshow(X[index])\n",
        "    plt.xlabel(classes[y[index]])"
      ],
      "metadata": {
        "id": "_ydR6TQH-Yxc"
      },
      "execution_count": null,
      "outputs": []
    },
    {
      "cell_type": "code",
      "source": [
        "plot_sample(X_train, y_train, 0)"
      ],
      "metadata": {
        "colab": {
          "base_uri": "https://localhost:8080/",
          "height": 173
        },
        "id": "SJi7w_Sk-cgo",
        "outputId": "3af22603-110c-4740-c9a0-19e4c767da31"
      },
      "execution_count": null,
      "outputs": [
        {
          "output_type": "display_data",
          "data": {
            "text/plain": [
              "<Figure size 1080x144 with 1 Axes>"
            ],
            "image/png": "[encoded data removed]"
          },
          "metadata": {
            "needs_background": "light"
          }
        }
      ]
    },
    {
      "cell_type": "code",
      "source": [
        "# show random images from train\n",
        "cols = 8\n",
        "rows = 2\n",
        "fig = plt.figure(figsize=(2 * cols - 1, 2.5 * rows - 1))\n",
        "for i in range(cols):\n",
        "    for j in range(rows):\n",
        "        random_index = np.random.randint(0, len(y_train))\n",
        "        ax = fig.add_subplot(rows, cols, i * rows + j + 1)\n",
        "        ax.grid('off')\n",
        "        ax.axis('off')\n",
        "        ax.imshow(X_train[random_index, :])\n",
        "        ax.set_title(classes[y_train[random_index]])\n",
        "plt.show()"
      ],
      "metadata": {
        "colab": {
          "base_uri": "https://localhost:8080/",
          "height": 255
        },
        "id": "pBRC5kQX-euO",
        "outputId": "12aad922-fcd4-4197-be3a-f076fbe92818"
      },
      "execution_count": null,
      "outputs": [
        {
          "output_type": "display_data",
          "data": {
            "text/plain": [
              "<Figure size 1080x288 with 16 Axes>"
            ],
            "image/png": "[encoded data removed]"
          },
          "metadata": {
            "needs_background": "light"
          }
        }
      ]
    },
    {
      "cell_type": "code",
      "source": [
        "X_train = X_train / 255.0\n",
        "X_test = X_test / 255.0"
      ],
      "metadata": {
        "id": "_w7Krx48-kic"
      },
      "execution_count": null,
      "outputs": []
    },
    {
      "cell_type": "code",
      "source": [
        "#defining a simple CNN model\n",
        "cnn = models.Sequential([\n",
        "    layers.Conv2D(filters=32, kernel_size=(3, 3), activation='relu', input_shape=(32, 32, 3)),\n",
        "    layers.MaxPooling2D((2, 2)),\n",
        "    \n",
        "    layers.Conv2D(filters=64, kernel_size=(3, 3), activation='relu'),\n",
        "    layers.MaxPooling2D((2, 2)),\n",
        "    \n",
        "    layers.Flatten(),\n",
        "    layers.Dense(64, activation='relu'),\n",
        "    layers.Dense(10, activation='softmax')\n",
        "])"
      ],
      "metadata": {
        "id": "wfwy0CkY-oaW"
      },
      "execution_count": null,
      "outputs": []
    },
    {
      "cell_type": "code",
      "source": [
        "cnn.compile(optimizer='adam',\n",
        "              loss='sparse_categorical_crossentropy',\n",
        "              metrics=['accuracy'])"
      ],
      "metadata": {
        "id": "kPZnxBfe-sI9"
      },
      "execution_count": null,
      "outputs": []
    },
    {
      "cell_type": "code",
      "source": [
        "cnn.fit(X_train, y_train, epochs=20)"
      ],
      "metadata": {
        "colab": {
          "base_uri": "https://localhost:8080/"
        },
        "id": "S1ZCkCoG-vxA",
        "outputId": "8e84da5b-e8e8-48a4-ef17-c96053e84ad4"
      },
      "execution_count": null,
      "outputs": [
        {
          "output_type": "stream",
          "name": "stdout",
          "text": [
            "Epoch 1/20\n",
            "1563/1563 [==============================] - 13s 4ms/step - loss: 1.4872 - accuracy: 0.4646\n",
            "Epoch 2/20\n",
            "1563/1563 [==============================] - 6s 4ms/step - loss: 1.1395 - accuracy: 0.6001\n",
            "Epoch 3/20\n",
            "1563/1563 [==============================] - 6s 4ms/step - loss: 1.0095 - accuracy: 0.6482\n",
            "Epoch 4/20\n",
            "1563/1563 [==============================] - 6s 4ms/step - loss: 0.9255 - accuracy: 0.6775\n",
            "Epoch 5/20\n",
            "1563/1563 [==============================] - 6s 4ms/step - loss: 0.8627 - accuracy: 0.7011\n",
            "Epoch 6/20\n",
            "1563/1563 [==============================] - 6s 4ms/step - loss: 0.8053 - accuracy: 0.7207\n",
            "Epoch 7/20\n",
            "1563/1563 [==============================] - 6s 4ms/step - loss: 0.7587 - accuracy: 0.7342\n",
            "Epoch 8/20\n",
            "1563/1563 [==============================] - 6s 4ms/step - loss: 0.7184 - accuracy: 0.7511\n",
            "Epoch 9/20\n",
            "1563/1563 [==============================] - 6s 4ms/step - loss: 0.6794 - accuracy: 0.7638\n",
            "Epoch 10/20\n",
            "1563/1563 [==============================] - 6s 4ms/step - loss: 0.6436 - accuracy: 0.7747\n",
            "Epoch 11/20\n",
            "1563/1563 [==============================] - 6s 4ms/step - loss: 0.6073 - accuracy: 0.7893\n",
            "Epoch 12/20\n",
            "1563/1563 [==============================] - 6s 4ms/step - loss: 0.5730 - accuracy: 0.8009\n",
            "Epoch 13/20\n",
            "1563/1563 [==============================] - 6s 4ms/step - loss: 0.5399 - accuracy: 0.8113\n",
            "Epoch 14/20\n",
            "1563/1563 [==============================] - 7s 4ms/step - loss: 0.5139 - accuracy: 0.8217\n",
            "Epoch 15/20\n",
            "1563/1563 [==============================] - 6s 4ms/step - loss: 0.4875 - accuracy: 0.8300\n",
            "Epoch 16/20\n",
            "1563/1563 [==============================] - 8s 5ms/step - loss: 0.4563 - accuracy: 0.8405\n",
            "Epoch 17/20\n",
            "1563/1563 [==============================] - 7s 4ms/step - loss: 0.4362 - accuracy: 0.8465\n",
            "Epoch 18/20\n",
            "1563/1563 [==============================] - 7s 4ms/step - loss: 0.4084 - accuracy: 0.8575\n",
            "Epoch 19/20\n",
            "1563/1563 [==============================] - 7s 4ms/step - loss: 0.3854 - accuracy: 0.8649\n",
            "Epoch 20/20\n",
            "1563/1563 [==============================] - 6s 4ms/step - loss: 0.3611 - accuracy: 0.8732\n"
          ]
        },
        {
          "output_type": "execute_result",
          "data": {
            "text/plain": [
              "<keras.callbacks.History at 0x7f2e8a261610>"
            ]
          },
          "metadata": {},
          "execution_count": 25
        }
      ]
    },
    {
      "cell_type": "code",
      "source": [
        "cnn.evaluate(X_test,y_test)"
      ],
      "metadata": {
        "colab": {
          "base_uri": "https://localhost:8080/"
        },
        "id": "MvUAD5pR-0iS",
        "outputId": "87da8c45-0486-49a3-e1d5-1757224ccae4"
      },
      "execution_count": null,
      "outputs": [
        {
          "output_type": "stream",
          "name": "stdout",
          "text": [
            "313/313 [==============================] - 1s 3ms/step - loss: 1.1802 - accuracy: 0.6913\n"
          ]
        },
        {
          "output_type": "execute_result",
          "data": {
            "text/plain": [
              "[1.1801611185073853, 0.6912999749183655]"
            ]
          },
          "metadata": {},
          "execution_count": 26
        }
      ]
    },
    {
      "cell_type": "markdown",
      "source": [
        "# **The first simple model achieved following results:**\n",
        "#**First Model Results**\n",
        "# **Train accuracy: 0.8732**\n",
        "# **Test accuracy: 0.6912**"
      ],
      "metadata": {
        "id": "pFLckBGP_N_F"
      }
    },
    {
      "cell_type": "markdown",
      "source": [
        "# **Second Model**"
      ],
      "metadata": {
        "id": "J7HQG6Ud_jtE"
      }
    },
    {
      "cell_type": "markdown",
      "source": [
        "# **Since the first model achived the bad result both in training and validating dataset so we should solve the problem of high bias/underfitting and also high variance/over fitting**"
      ],
      "metadata": {
        "id": "cXy6SZ3v_oM6"
      }
    },
    {
      "cell_type": "markdown",
      "source": [
        "# **For solving the problem of high bais/underfitting and in other words the problem of low training accuracy, we can use more training time, different structural model**"
      ],
      "metadata": {
        "id": "ZGZxeTZ1_1S9"
      }
    },
    {
      "cell_type": "markdown",
      "source": [
        "# **For solving the problem of high variance/overfitting and in other words the problem of low generalization/ low val/test accuracy, we can use Regularization, Dropout,more data, different structural model**"
      ],
      "metadata": {
        "id": "RXTzyPnV_8iI"
      }
    },
    {
      "cell_type": "markdown",
      "source": [
        "# **As per above mentioned, I used: Batch Normalization, Maxpooling, and longer training time(100 epoch)**"
      ],
      "metadata": {
        "id": "vyw5VIVaAD5f"
      }
    },
    {
      "cell_type": "code",
      "source": [
        "import tensorflow as tf\n",
        "import numpy as np                                \n",
        "import matplotlib.pyplot as plt\n",
        "import keras \n",
        "from keras.datasets import cifar10\n",
        "from keras.models import Sequential\n",
        "from keras.layers import Dense, Dropout, Flatten\n",
        "from keras.layers import Conv2D, MaxPooling2D, BatchNormalization\n",
        "from keras.optimizers import SGD, Adam\n",
        "from keras.regularizers import l2\n",
        "import h5py\n",
        "from keras.models import load_model\n",
        "from keras.preprocessing.image import ImageDataGenerator\n",
        "import tensorflow as tf\n",
        "from keras import datasets, layers, models\n",
        "from keras import datasets, layers, models"
      ],
      "metadata": {
        "id": "2D3k1GCj_YcR"
      },
      "execution_count": null,
      "outputs": []
    },
    {
      "cell_type": "code",
      "source": [
        "(X_train, y_train), (X_test,y_test) = datasets.cifar10.load_data()\n"
      ],
      "metadata": {
        "id": "ls1PjL2ZAQgA"
      },
      "execution_count": null,
      "outputs": []
    },
    {
      "cell_type": "code",
      "source": [
        "#reshape into images\n",
        "img_rows, img_cols , channels= 32,32,3\n",
        "x_train = X_train.reshape(X_train.shape[0], img_rows, img_cols, channels)\n",
        "x_test = X_test.reshape(X_test.shape[0], img_rows, img_cols, channels)\n",
        "input_shape = (img_rows, img_cols, 1)\n",
        "print('x_train shape:', x_train.shape)\n",
        "print(x_train.shape[0], 'train samples')\n",
        "print(x_test.shape[0], 'test samples')"
      ],
      "metadata": {
        "colab": {
          "base_uri": "https://localhost:8080/"
        },
        "id": "dmzUki_XAUoi",
        "outputId": "cb8e7a07-1b21-44cd-f7b4-fed6117d8a48"
      },
      "execution_count": null,
      "outputs": [
        {
          "output_type": "stream",
          "name": "stdout",
          "text": [
            "x_train shape: (50000, 32, 32, 3)\n",
            "50000 train samples\n",
            "10000 test samples\n"
          ]
        }
      ]
    },
    {
      "cell_type": "code",
      "source": [
        "#convert integers to float; normalise and center the mean\n",
        "x_train=x_train.astype(\"float32\")  \n",
        "x_test=x_test.astype(\"float32\")\n",
        "mean=np.mean(x_train)\n",
        "std=np.std(x_train)\n",
        "x_test=(x_test-mean)/std\n",
        "x_train=(x_train-mean)/std"
      ],
      "metadata": {
        "id": "gzSqQdJxAXTh"
      },
      "execution_count": null,
      "outputs": []
    },
    {
      "cell_type": "code",
      "source": [
        "# labels\n",
        "num_classes=10\n",
        "y_train = keras.utils.to_categorical(y_train, num_classes)\n",
        "y_test = keras.utils.to_categorical(y_test, num_classes)"
      ],
      "metadata": {
        "id": "1Zciso7wAdDD"
      },
      "execution_count": null,
      "outputs": []
    },
    {
      "cell_type": "code",
      "source": [
        "reg=None\n",
        "num_filters=32\n",
        "ac='relu'\n",
        "adm=Adam(lr=0.001,decay=0, beta_1=0.9, beta_2=0.999, epsilon=1e-08)\n",
        "opt=adm\n",
        "drop_dense=0.5\n",
        "drop_conv=0\n",
        "\n",
        "model2 = Sequential()\n",
        "\n",
        "model2.add(Conv2D(num_filters, (3, 3), activation=ac, kernel_regularizer=reg, input_shape=(img_rows, img_cols, channels),padding='same'))\n",
        "model2.add(BatchNormalization(axis=-1))\n",
        "model2.add(Conv2D(num_filters, (3, 3), activation=ac,kernel_regularizer=reg,padding='same'))\n",
        "model2.add(BatchNormalization(axis=-1))\n",
        "model2.add(MaxPooling2D(pool_size=(2, 2)))   # reduces to 16x16x3xnum_filters\n",
        "model2.add(Dropout(drop_conv))\n",
        "\n",
        "model2.add(Conv2D(2*num_filters, (3, 3), activation=ac,kernel_regularizer=reg,padding='same'))\n",
        "model2.add(BatchNormalization(axis=-1))\n",
        "model2.add(Conv2D(2*num_filters, (3, 3), activation=ac,kernel_regularizer=reg,padding='same'))\n",
        "model2.add(BatchNormalization(axis=-1))\n",
        "model2.add(MaxPooling2D(pool_size=(2, 2)))   # reduces to 8x8x3x(2*num_filters)\n",
        "model2.add(Dropout(drop_conv))\n",
        "\n",
        "model2.add(Conv2D(4*num_filters, (3, 3), activation=ac,kernel_regularizer=reg,padding='same'))\n",
        "model2.add(BatchNormalization(axis=-1))\n",
        "model2.add(Conv2D(4*num_filters, (3, 3), activation=ac,kernel_regularizer=reg,padding='same'))\n",
        "model2.add(BatchNormalization(axis=-1))\n",
        "model2.add(MaxPooling2D(pool_size=(2, 2)))   # reduces to 4x4x3x(4*num_filters)\n",
        "model2.add(Dropout(drop_conv))\n",
        "\n",
        "model2.add(Flatten())\n",
        "model2.add(Dense(512, activation=ac,kernel_regularizer=reg))\n",
        "model2.add(BatchNormalization())\n",
        "model2.add(Dropout(drop_dense))\n",
        "model2.add(Dense(num_classes, activation='softmax'))\n",
        "\n",
        "model2.compile(loss='categorical_crossentropy', metrics=['accuracy'],optimizer=opt)"
      ],
      "metadata": {
        "colab": {
          "base_uri": "https://localhost:8080/"
        },
        "id": "Or3NdYosAfgs",
        "outputId": "5da1567b-760b-42bd-db11-29e27bc00ec7"
      },
      "execution_count": null,
      "outputs": [
        {
          "output_type": "stream",
          "name": "stderr",
          "text": [
            "/usr/local/lib/python3.8/dist-packages/keras/optimizers/optimizer_v2/adam.py:110: UserWarning: The `lr` argument is deprecated, use `learning_rate` instead.\n",
            "  super(Adam, self).__init__(name, **kwargs)\n"
          ]
        }
      ]
    },
    {
      "cell_type": "code",
      "source": [
        "model2.summary()"
      ],
      "metadata": {
        "colab": {
          "base_uri": "https://localhost:8080/"
        },
        "id": "MvRf9gfdAk9z",
        "outputId": "8bf2560e-e1cb-4517-a8d3-e5b02b95642a"
      },
      "execution_count": null,
      "outputs": [
        {
          "output_type": "stream",
          "name": "stdout",
          "text": [
            "Model: \"sequential_2\"\n",
            "_________________________________________________________________\n",
            " Layer (type)                Output Shape              Param #   \n",
            "=================================================================\n",
            " conv2d_8 (Conv2D)           (None, 32, 32, 32)        896       \n",
            "                                                                 \n",
            " batch_normalization_7 (Batc  (None, 32, 32, 32)       128       \n",
            " hNormalization)                                                 \n",
            "                                                                 \n",
            " conv2d_9 (Conv2D)           (None, 32, 32, 32)        9248      \n",
            "                                                                 \n",
            " batch_normalization_8 (Batc  (None, 32, 32, 32)       128       \n",
            " hNormalization)                                                 \n",
            "                                                                 \n",
            " max_pooling2d_5 (MaxPooling  (None, 16, 16, 32)       0         \n",
            " 2D)                                                             \n",
            "                                                                 \n",
            " dropout_4 (Dropout)         (None, 16, 16, 32)        0         \n",
            "                                                                 \n",
            " conv2d_10 (Conv2D)          (None, 16, 16, 64)        18496     \n",
            "                                                                 \n",
            " batch_normalization_9 (Batc  (None, 16, 16, 64)       256       \n",
            " hNormalization)                                                 \n",
            "                                                                 \n",
            " conv2d_11 (Conv2D)          (None, 16, 16, 64)        36928     \n",
            "                                                                 \n",
            " batch_normalization_10 (Bat  (None, 16, 16, 64)       256       \n",
            " chNormalization)                                                \n",
            "                                                                 \n",
            " max_pooling2d_6 (MaxPooling  (None, 8, 8, 64)         0         \n",
            " 2D)                                                             \n",
            "                                                                 \n",
            " dropout_5 (Dropout)         (None, 8, 8, 64)          0         \n",
            "                                                                 \n",
            " conv2d_12 (Conv2D)          (None, 8, 8, 128)         73856     \n",
            "                                                                 \n",
            " batch_normalization_11 (Bat  (None, 8, 8, 128)        512       \n",
            " chNormalization)                                                \n",
            "                                                                 \n",
            " conv2d_13 (Conv2D)          (None, 8, 8, 128)         147584    \n",
            "                                                                 \n",
            " batch_normalization_12 (Bat  (None, 8, 8, 128)        512       \n",
            " chNormalization)                                                \n",
            "                                                                 \n",
            " max_pooling2d_7 (MaxPooling  (None, 4, 4, 128)        0         \n",
            " 2D)                                                             \n",
            "                                                                 \n",
            " dropout_6 (Dropout)         (None, 4, 4, 128)         0         \n",
            "                                                                 \n",
            " flatten_2 (Flatten)         (None, 2048)              0         \n",
            "                                                                 \n",
            " dense_4 (Dense)             (None, 512)               1049088   \n",
            "                                                                 \n",
            " batch_normalization_13 (Bat  (None, 512)              2048      \n",
            " chNormalization)                                                \n",
            "                                                                 \n",
            " dropout_7 (Dropout)         (None, 512)               0         \n",
            "                                                                 \n",
            " dense_5 (Dense)             (None, 10)                5130      \n",
            "                                                                 \n",
            "=================================================================\n",
            "Total params: 1,345,066\n",
            "Trainable params: 1,343,146\n",
            "Non-trainable params: 1,920\n",
            "_________________________________________________________________\n"
          ]
        }
      ]
    },
    {
      "cell_type": "code",
      "source": [
        "# training \n",
        "history=model2.fit(x_train, y_train, batch_size=128, epochs=100, validation_data=(x_test, y_test))"
      ],
      "metadata": {
        "colab": {
          "base_uri": "https://localhost:8080/"
        },
        "id": "ctjDrc7-BCI6",
        "outputId": "efdef919-4c72-4835-93be-a29f1243e221"
      },
      "execution_count": null,
      "outputs": [
        {
          "output_type": "stream",
          "name": "stdout",
          "text": [
            "Epoch 1/100\n",
            "391/391 [==============================] - 9s 19ms/step - loss: 1.4576 - accuracy: 0.5205 - val_loss: 1.2281 - val_accuracy: 0.5615\n",
            "Epoch 2/100\n",
            "391/391 [==============================] - 7s 18ms/step - loss: 0.8705 - accuracy: 0.6962 - val_loss: 0.8640 - val_accuracy: 0.7116\n",
            "Epoch 3/100\n",
            "391/391 [==============================] - 7s 18ms/step - loss: 0.6811 - accuracy: 0.7619 - val_loss: 0.7063 - val_accuracy: 0.7593\n",
            "Epoch 4/100\n",
            "391/391 [==============================] - 7s 18ms/step - loss: 0.5588 - accuracy: 0.8038 - val_loss: 0.7268 - val_accuracy: 0.7627\n",
            "Epoch 5/100\n",
            "391/391 [==============================] - 7s 17ms/step - loss: 0.4732 - accuracy: 0.8357 - val_loss: 0.6814 - val_accuracy: 0.7723\n",
            "Epoch 6/100\n",
            "391/391 [==============================] - 7s 18ms/step - loss: 0.3880 - accuracy: 0.8634 - val_loss: 0.6876 - val_accuracy: 0.7837\n",
            "Epoch 7/100\n",
            "391/391 [==============================] - 7s 18ms/step - loss: 0.3233 - accuracy: 0.8877 - val_loss: 0.6586 - val_accuracy: 0.7912\n",
            "Epoch 8/100\n",
            "391/391 [==============================] - 8s 19ms/step - loss: 0.2737 - accuracy: 0.9047 - val_loss: 0.7268 - val_accuracy: 0.7906\n",
            "Epoch 9/100\n",
            "391/391 [==============================] - 7s 17ms/step - loss: 0.2205 - accuracy: 0.9227 - val_loss: 0.7055 - val_accuracy: 0.7992\n",
            "Epoch 10/100\n",
            "391/391 [==============================] - 7s 17ms/step - loss: 0.1751 - accuracy: 0.9370 - val_loss: 0.7590 - val_accuracy: 0.7995\n",
            "Epoch 11/100\n",
            "391/391 [==============================] - 7s 17ms/step - loss: 0.1560 - accuracy: 0.9452 - val_loss: 0.7475 - val_accuracy: 0.8047\n",
            "Epoch 12/100\n",
            "391/391 [==============================] - 9s 22ms/step - loss: 0.1323 - accuracy: 0.9534 - val_loss: 0.8617 - val_accuracy: 0.7973\n",
            "Epoch 13/100\n",
            "391/391 [==============================] - 8s 21ms/step - loss: 0.1165 - accuracy: 0.9582 - val_loss: 0.8228 - val_accuracy: 0.7989\n",
            "Epoch 14/100\n",
            "391/391 [==============================] - 7s 17ms/step - loss: 0.1113 - accuracy: 0.9612 - val_loss: 0.9203 - val_accuracy: 0.7906\n",
            "Epoch 15/100\n",
            "391/391 [==============================] - 8s 21ms/step - loss: 0.1059 - accuracy: 0.9625 - val_loss: 0.9116 - val_accuracy: 0.7979\n",
            "Epoch 16/100\n",
            "391/391 [==============================] - 7s 18ms/step - loss: 0.0880 - accuracy: 0.9691 - val_loss: 0.8802 - val_accuracy: 0.8010\n",
            "Epoch 17/100\n",
            "391/391 [==============================] - 7s 19ms/step - loss: 0.0852 - accuracy: 0.9701 - val_loss: 0.9107 - val_accuracy: 0.8040\n",
            "Epoch 18/100\n",
            "391/391 [==============================] - 7s 18ms/step - loss: 0.0819 - accuracy: 0.9702 - val_loss: 0.9041 - val_accuracy: 0.8028\n",
            "Epoch 19/100\n",
            "391/391 [==============================] - 7s 17ms/step - loss: 0.0779 - accuracy: 0.9728 - val_loss: 0.9293 - val_accuracy: 0.8050\n",
            "Epoch 20/100\n",
            "391/391 [==============================] - 7s 17ms/step - loss: 0.0688 - accuracy: 0.9757 - val_loss: 0.9219 - val_accuracy: 0.8052\n",
            "Epoch 21/100\n",
            "391/391 [==============================] - 8s 20ms/step - loss: 0.0659 - accuracy: 0.9765 - val_loss: 0.9762 - val_accuracy: 0.8040\n",
            "Epoch 22/100\n",
            "391/391 [==============================] - 7s 18ms/step - loss: 0.0608 - accuracy: 0.9785 - val_loss: 0.9726 - val_accuracy: 0.8070\n",
            "Epoch 23/100\n",
            "391/391 [==============================] - 7s 19ms/step - loss: 0.0581 - accuracy: 0.9792 - val_loss: 0.9994 - val_accuracy: 0.8074\n",
            "Epoch 24/100\n",
            "391/391 [==============================] - 7s 17ms/step - loss: 0.0609 - accuracy: 0.9780 - val_loss: 0.9517 - val_accuracy: 0.8073\n",
            "Epoch 25/100\n",
            "391/391 [==============================] - 7s 18ms/step - loss: 0.0534 - accuracy: 0.9809 - val_loss: 0.9533 - val_accuracy: 0.8064\n",
            "Epoch 26/100\n",
            "391/391 [==============================] - 7s 18ms/step - loss: 0.0607 - accuracy: 0.9793 - val_loss: 0.9525 - val_accuracy: 0.8123\n",
            "Epoch 27/100\n",
            "391/391 [==============================] - 7s 18ms/step - loss: 0.0543 - accuracy: 0.9804 - val_loss: 0.9631 - val_accuracy: 0.8134\n",
            "Epoch 28/100\n",
            "391/391 [==============================] - 8s 19ms/step - loss: 0.0493 - accuracy: 0.9829 - val_loss: 0.9392 - val_accuracy: 0.8213\n",
            "Epoch 29/100\n",
            "391/391 [==============================] - 7s 17ms/step - loss: 0.0481 - accuracy: 0.9834 - val_loss: 0.9981 - val_accuracy: 0.8148\n",
            "Epoch 30/100\n",
            "391/391 [==============================] - 7s 18ms/step - loss: 0.0499 - accuracy: 0.9826 - val_loss: 1.0506 - val_accuracy: 0.8081\n",
            "Epoch 31/100\n",
            "391/391 [==============================] - 7s 17ms/step - loss: 0.0371 - accuracy: 0.9872 - val_loss: 0.9941 - val_accuracy: 0.8114\n",
            "Epoch 32/100\n",
            "391/391 [==============================] - 7s 18ms/step - loss: 0.0408 - accuracy: 0.9860 - val_loss: 1.0932 - val_accuracy: 0.8078\n",
            "Epoch 33/100\n",
            "391/391 [==============================] - 7s 17ms/step - loss: 0.0511 - accuracy: 0.9825 - val_loss: 1.0969 - val_accuracy: 0.8053\n",
            "Epoch 34/100\n",
            "391/391 [==============================] - 7s 18ms/step - loss: 0.0489 - accuracy: 0.9831 - val_loss: 1.1055 - val_accuracy: 0.8066\n",
            "Epoch 35/100\n",
            "391/391 [==============================] - 8s 21ms/step - loss: 0.0339 - accuracy: 0.9880 - val_loss: 1.0906 - val_accuracy: 0.8093\n",
            "Epoch 36/100\n",
            "391/391 [==============================] - 7s 19ms/step - loss: 0.0362 - accuracy: 0.9876 - val_loss: 1.0516 - val_accuracy: 0.8163\n",
            "Epoch 37/100\n",
            "391/391 [==============================] - 7s 17ms/step - loss: 0.0355 - accuracy: 0.9873 - val_loss: 1.1017 - val_accuracy: 0.8153\n",
            "Epoch 38/100\n",
            "391/391 [==============================] - 7s 17ms/step - loss: 0.0431 - accuracy: 0.9848 - val_loss: 1.0670 - val_accuracy: 0.8105\n",
            "Epoch 39/100\n",
            "391/391 [==============================] - 7s 17ms/step - loss: 0.0385 - accuracy: 0.9869 - val_loss: 1.0414 - val_accuracy: 0.8165\n",
            "Epoch 40/100\n",
            "391/391 [==============================] - 7s 18ms/step - loss: 0.0323 - accuracy: 0.9889 - val_loss: 1.0480 - val_accuracy: 0.8170\n",
            "Epoch 41/100\n",
            "391/391 [==============================] - 7s 18ms/step - loss: 0.0287 - accuracy: 0.9897 - val_loss: 1.0617 - val_accuracy: 0.8194\n",
            "Epoch 42/100\n",
            "391/391 [==============================] - 7s 17ms/step - loss: 0.0369 - accuracy: 0.9873 - val_loss: 1.0699 - val_accuracy: 0.8100\n",
            "Epoch 43/100\n",
            "391/391 [==============================] - 7s 19ms/step - loss: 0.0341 - accuracy: 0.9881 - val_loss: 1.0495 - val_accuracy: 0.8228\n",
            "Epoch 44/100\n",
            "391/391 [==============================] - 8s 19ms/step - loss: 0.0293 - accuracy: 0.9899 - val_loss: 1.1007 - val_accuracy: 0.8167\n",
            "Epoch 45/100\n",
            "391/391 [==============================] - 7s 18ms/step - loss: 0.0266 - accuracy: 0.9909 - val_loss: 1.1339 - val_accuracy: 0.8155\n",
            "Epoch 46/100\n",
            "391/391 [==============================] - 7s 18ms/step - loss: 0.0289 - accuracy: 0.9901 - val_loss: 1.1518 - val_accuracy: 0.8133\n",
            "Epoch 47/100\n",
            "391/391 [==============================] - 7s 17ms/step - loss: 0.0375 - accuracy: 0.9874 - val_loss: 1.0974 - val_accuracy: 0.8205\n",
            "Epoch 48/100\n",
            "391/391 [==============================] - 7s 17ms/step - loss: 0.0284 - accuracy: 0.9898 - val_loss: 1.0965 - val_accuracy: 0.8176\n",
            "Epoch 49/100\n",
            "391/391 [==============================] - 7s 17ms/step - loss: 0.0239 - accuracy: 0.9916 - val_loss: 1.1205 - val_accuracy: 0.8224\n",
            "Epoch 50/100\n",
            "391/391 [==============================] - 7s 17ms/step - loss: 0.0283 - accuracy: 0.9904 - val_loss: 1.1150 - val_accuracy: 0.8139\n",
            "Epoch 51/100\n",
            "391/391 [==============================] - 7s 19ms/step - loss: 0.0272 - accuracy: 0.9906 - val_loss: 1.1429 - val_accuracy: 0.8188\n",
            "Epoch 52/100\n",
            "391/391 [==============================] - 7s 18ms/step - loss: 0.0276 - accuracy: 0.9907 - val_loss: 1.1278 - val_accuracy: 0.8197\n",
            "Epoch 53/100\n",
            "391/391 [==============================] - 7s 18ms/step - loss: 0.0256 - accuracy: 0.9911 - val_loss: 1.1417 - val_accuracy: 0.8138\n",
            "Epoch 54/100\n",
            "391/391 [==============================] - 7s 17ms/step - loss: 0.0287 - accuracy: 0.9903 - val_loss: 1.1511 - val_accuracy: 0.8124\n",
            "Epoch 55/100\n",
            "391/391 [==============================] - 7s 18ms/step - loss: 0.0290 - accuracy: 0.9905 - val_loss: 1.1880 - val_accuracy: 0.8209\n",
            "Epoch 56/100\n",
            "391/391 [==============================] - 7s 18ms/step - loss: 0.0239 - accuracy: 0.9915 - val_loss: 1.1816 - val_accuracy: 0.8190\n",
            "Epoch 57/100\n",
            "391/391 [==============================] - 7s 18ms/step - loss: 0.0248 - accuracy: 0.9917 - val_loss: 1.2107 - val_accuracy: 0.8151\n",
            "Epoch 58/100\n",
            "391/391 [==============================] - 7s 18ms/step - loss: 0.0233 - accuracy: 0.9922 - val_loss: 1.1441 - val_accuracy: 0.8216\n",
            "Epoch 59/100\n",
            "391/391 [==============================] - 7s 17ms/step - loss: 0.0247 - accuracy: 0.9914 - val_loss: 1.1575 - val_accuracy: 0.8241\n",
            "Epoch 60/100\n",
            "391/391 [==============================] - 7s 17ms/step - loss: 0.0233 - accuracy: 0.9919 - val_loss: 1.1923 - val_accuracy: 0.8169\n",
            "Epoch 61/100\n",
            "391/391 [==============================] - 7s 17ms/step - loss: 0.0206 - accuracy: 0.9931 - val_loss: 1.1656 - val_accuracy: 0.8217\n",
            "Epoch 62/100\n",
            "391/391 [==============================] - 7s 19ms/step - loss: 0.0234 - accuracy: 0.9923 - val_loss: 1.1171 - val_accuracy: 0.8247\n",
            "Epoch 63/100\n",
            "391/391 [==============================] - 7s 17ms/step - loss: 0.0211 - accuracy: 0.9930 - val_loss: 1.2099 - val_accuracy: 0.8163\n",
            "Epoch 64/100\n",
            "391/391 [==============================] - 7s 19ms/step - loss: 0.0178 - accuracy: 0.9938 - val_loss: 1.1533 - val_accuracy: 0.8263\n",
            "Epoch 65/100\n",
            "391/391 [==============================] - 7s 17ms/step - loss: 0.0244 - accuracy: 0.9917 - val_loss: 1.1962 - val_accuracy: 0.8226\n",
            "Epoch 66/100\n",
            "391/391 [==============================] - 7s 17ms/step - loss: 0.0206 - accuracy: 0.9931 - val_loss: 1.1720 - val_accuracy: 0.8210\n",
            "Epoch 67/100\n",
            "391/391 [==============================] - 7s 17ms/step - loss: 0.0221 - accuracy: 0.9923 - val_loss: 1.1662 - val_accuracy: 0.8205\n",
            "Epoch 68/100\n",
            "391/391 [==============================] - 7s 18ms/step - loss: 0.0198 - accuracy: 0.9931 - val_loss: 1.2341 - val_accuracy: 0.8196\n",
            "Epoch 69/100\n",
            "391/391 [==============================] - 7s 18ms/step - loss: 0.0201 - accuracy: 0.9927 - val_loss: 1.1892 - val_accuracy: 0.8231\n",
            "Epoch 70/100\n",
            "391/391 [==============================] - 7s 18ms/step - loss: 0.0188 - accuracy: 0.9938 - val_loss: 1.1783 - val_accuracy: 0.8235\n",
            "Epoch 71/100\n",
            "391/391 [==============================] - 7s 17ms/step - loss: 0.0185 - accuracy: 0.9938 - val_loss: 1.2376 - val_accuracy: 0.8221\n",
            "Epoch 72/100\n",
            "391/391 [==============================] - 7s 17ms/step - loss: 0.0190 - accuracy: 0.9936 - val_loss: 1.2612 - val_accuracy: 0.8121\n",
            "Epoch 73/100\n",
            "391/391 [==============================] - 7s 17ms/step - loss: 0.0219 - accuracy: 0.9930 - val_loss: 1.2512 - val_accuracy: 0.8153\n",
            "Epoch 74/100\n",
            "391/391 [==============================] - 7s 17ms/step - loss: 0.0234 - accuracy: 0.9920 - val_loss: 1.2157 - val_accuracy: 0.8271\n",
            "Epoch 75/100\n",
            "391/391 [==============================] - 7s 18ms/step - loss: 0.0141 - accuracy: 0.9951 - val_loss: 1.2455 - val_accuracy: 0.8228\n",
            "Epoch 76/100\n",
            "391/391 [==============================] - 8s 19ms/step - loss: 0.0164 - accuracy: 0.9943 - val_loss: 1.2300 - val_accuracy: 0.8199\n",
            "Epoch 77/100\n",
            "391/391 [==============================] - 7s 17ms/step - loss: 0.0183 - accuracy: 0.9937 - val_loss: 1.3023 - val_accuracy: 0.8208\n",
            "Epoch 78/100\n",
            "391/391 [==============================] - 7s 18ms/step - loss: 0.0195 - accuracy: 0.9936 - val_loss: 1.2844 - val_accuracy: 0.8172\n",
            "Epoch 79/100\n",
            "391/391 [==============================] - 7s 19ms/step - loss: 0.0202 - accuracy: 0.9931 - val_loss: 1.2277 - val_accuracy: 0.8200\n",
            "Epoch 80/100\n",
            "391/391 [==============================] - 7s 17ms/step - loss: 0.0160 - accuracy: 0.9946 - val_loss: 1.2537 - val_accuracy: 0.8215\n",
            "Epoch 81/100\n",
            "391/391 [==============================] - 7s 18ms/step - loss: 0.0203 - accuracy: 0.9932 - val_loss: 1.2422 - val_accuracy: 0.8177\n",
            "Epoch 82/100\n",
            "391/391 [==============================] - 7s 18ms/step - loss: 0.0177 - accuracy: 0.9939 - val_loss: 1.2941 - val_accuracy: 0.8220\n",
            "Epoch 83/100\n",
            "391/391 [==============================] - 7s 17ms/step - loss: 0.0171 - accuracy: 0.9945 - val_loss: 1.2868 - val_accuracy: 0.8200\n",
            "Epoch 84/100\n",
            "391/391 [==============================] - 7s 18ms/step - loss: 0.0126 - accuracy: 0.9957 - val_loss: 1.2757 - val_accuracy: 0.8183\n",
            "Epoch 85/100\n",
            "391/391 [==============================] - 7s 17ms/step - loss: 0.0134 - accuracy: 0.9955 - val_loss: 1.2560 - val_accuracy: 0.8270\n",
            "Epoch 86/100\n",
            "391/391 [==============================] - 7s 17ms/step - loss: 0.0136 - accuracy: 0.9952 - val_loss: 1.2031 - val_accuracy: 0.8283\n",
            "Epoch 87/100\n",
            "391/391 [==============================] - 7s 17ms/step - loss: 0.0164 - accuracy: 0.9942 - val_loss: 1.2404 - val_accuracy: 0.8271\n",
            "Epoch 88/100\n",
            "391/391 [==============================] - 7s 19ms/step - loss: 0.0219 - accuracy: 0.9926 - val_loss: 1.2856 - val_accuracy: 0.8230\n",
            "Epoch 89/100\n",
            "391/391 [==============================] - 7s 17ms/step - loss: 0.0163 - accuracy: 0.9946 - val_loss: 1.2378 - val_accuracy: 0.8209\n",
            "Epoch 90/100\n",
            "391/391 [==============================] - 7s 18ms/step - loss: 0.0128 - accuracy: 0.9958 - val_loss: 1.2629 - val_accuracy: 0.8225\n",
            "Epoch 91/100\n",
            "391/391 [==============================] - 7s 18ms/step - loss: 0.0165 - accuracy: 0.9945 - val_loss: 1.2438 - val_accuracy: 0.8240\n",
            "Epoch 92/100\n",
            "391/391 [==============================] - 7s 18ms/step - loss: 0.0135 - accuracy: 0.9951 - val_loss: 1.2494 - val_accuracy: 0.8235\n",
            "Epoch 93/100\n",
            "391/391 [==============================] - 7s 19ms/step - loss: 0.0128 - accuracy: 0.9954 - val_loss: 1.3597 - val_accuracy: 0.8202\n",
            "Epoch 94/100\n",
            "391/391 [==============================] - 7s 17ms/step - loss: 0.0125 - accuracy: 0.9955 - val_loss: 1.2404 - val_accuracy: 0.8285\n",
            "Epoch 95/100\n",
            "391/391 [==============================] - 7s 18ms/step - loss: 0.0143 - accuracy: 0.9953 - val_loss: 1.2835 - val_accuracy: 0.8187\n",
            "Epoch 96/100\n",
            "391/391 [==============================] - 7s 18ms/step - loss: 0.0127 - accuracy: 0.9956 - val_loss: 1.3557 - val_accuracy: 0.8216\n",
            "Epoch 97/100\n",
            "391/391 [==============================] - 8s 19ms/step - loss: 0.0182 - accuracy: 0.9941 - val_loss: 1.3413 - val_accuracy: 0.8205\n",
            "Epoch 98/100\n",
            "391/391 [==============================] - 7s 17ms/step - loss: 0.0153 - accuracy: 0.9945 - val_loss: 1.3567 - val_accuracy: 0.8251\n",
            "Epoch 99/100\n",
            "391/391 [==============================] - 7s 19ms/step - loss: 0.0132 - accuracy: 0.9953 - val_loss: 1.3104 - val_accuracy: 0.8325\n",
            "Epoch 100/100\n",
            "391/391 [==============================] - 7s 17ms/step - loss: 0.0135 - accuracy: 0.9954 - val_loss: 1.3148 - val_accuracy: 0.8222\n"
          ]
        }
      ]
    },
    {
      "cell_type": "code",
      "source": [
        "#training accuracy \n",
        "train_acc=model2.evaluate(x_train,y_train,batch_size=128)\n",
        "train_acc"
      ],
      "metadata": {
        "colab": {
          "base_uri": "https://localhost:8080/"
        },
        "id": "7PIlXVn7BdnA",
        "outputId": "70b45635-8bae-4c87-8c0f-9be98e91fca4"
      },
      "execution_count": null,
      "outputs": [
        {
          "output_type": "stream",
          "name": "stdout",
          "text": [
            "391/391 [==============================] - 2s 6ms/step - loss: 0.0047 - accuracy: 0.9983\n"
          ]
        },
        {
          "output_type": "execute_result",
          "data": {
            "text/plain": [
              "[0.004668953828513622, 0.9982600212097168]"
            ]
          },
          "metadata": {},
          "execution_count": 38
        }
      ]
    },
    {
      "cell_type": "code",
      "source": [
        "model2_test_acc=model2.evaluate(x_test,y_test,batch_size=128)\n",
        "model2_test_acc"
      ],
      "metadata": {
        "colab": {
          "base_uri": "https://localhost:8080/"
        },
        "id": "jKXOTqvzBJ5z",
        "outputId": "9a7cc111-1c97-4de8-ddc8-cf702d2f7c54"
      },
      "execution_count": null,
      "outputs": [
        {
          "output_type": "stream",
          "name": "stdout",
          "text": [
            "79/79 [==============================] - 1s 7ms/step - loss: 1.3148 - accuracy: 0.8222\n"
          ]
        },
        {
          "output_type": "execute_result",
          "data": {
            "text/plain": [
              "[1.3147509098052979, 0.8222000002861023]"
            ]
          },
          "metadata": {},
          "execution_count": 39
        }
      ]
    },
    {
      "cell_type": "markdown",
      "source": [
        "# **By using Batch Normalization, Maxpooling, and longer training time(100 epoch), the result of model 2 is:**"
      ],
      "metadata": {
        "id": "qQl21ot9BuJn"
      }
    },
    {
      "cell_type": "markdown",
      "source": [
        "# **Second Model results:**"
      ],
      "metadata": {
        "id": "1R6kTaP9CUPD"
      }
    },
    {
      "cell_type": "markdown",
      "source": [
        "# **Training Accuracy: 0.9983**\n",
        "# **Test Accuracy: 0.8222**"
      ],
      "metadata": {
        "id": "Q6oGE_ALB1k3"
      }
    },
    {
      "cell_type": "markdown",
      "source": [
        "# **The result of second model shows that training accuracy is pretty well and the problem of high bias/ underfitting is completly solved, and also the Test accuracy is getteing much better.**\n"
      ],
      "metadata": {
        "id": "KHPEgNSqCgaw"
      }
    },
    {
      "cell_type": "markdown",
      "source": [
        "# **Third Model**"
      ],
      "metadata": {
        "id": "n8CBu8Z0Cnox"
      }
    },
    {
      "cell_type": "markdown",
      "source": [
        "# **In the third model we should just focus on improving the val/ test accuracy by using Regularization, Dropout, Data augmentation**"
      ],
      "metadata": {
        "id": "wLsrqumfCrqs"
      }
    },
    {
      "cell_type": "markdown",
      "source": [
        "# **In this model I add L2 regularization, Data augmentation**"
      ],
      "metadata": {
        "id": "apHPJAIdCz_c"
      }
    },
    {
      "cell_type": "code",
      "source": [
        "import tensorflow as tf\n",
        "import numpy as np                                \n",
        "import matplotlib.pyplot as plt\n",
        "import keras as k\n",
        "from keras.datasets import cifar10\n",
        "from keras.models import Sequential\n",
        "from keras.layers import Dense, Dropout, Flatten\n",
        "from keras.layers import Conv2D, MaxPooling2D, BatchNormalization\n",
        "from keras.optimizers import SGD, Adam\n",
        "from keras.regularizers import l2\n",
        "import h5py\n",
        "from keras.models import load_model\n",
        "from keras.preprocessing.image import ImageDataGenerator\n",
        "from keras import datasets, layers, models"
      ],
      "metadata": {
        "id": "wrHr5WW_Byet"
      },
      "execution_count": null,
      "outputs": []
    },
    {
      "cell_type": "code",
      "source": [
        "(X_train, y_train), (X_test,y_test) = datasets.cifar10.load_data()\n"
      ],
      "metadata": {
        "id": "NzghevS5DQSn"
      },
      "execution_count": null,
      "outputs": []
    },
    {
      "cell_type": "code",
      "source": [
        "#reshape into images\n",
        "img_rows, img_cols , channels= 32,32,3\n",
        "x_train = X_train.reshape(X_train.shape[0], img_rows, img_cols, channels)\n",
        "x_test = X_test.reshape(X_test.shape[0], img_rows, img_cols, channels)\n",
        "input_shape = (img_rows, img_cols, 1)\n",
        "print('x_train shape:', x_train.shape)\n",
        "print(x_train.shape[0], 'train samples')\n",
        "print(x_test.shape[0], 'test samples')"
      ],
      "metadata": {
        "colab": {
          "base_uri": "https://localhost:8080/"
        },
        "id": "jyDFCW6uDTzY",
        "outputId": "c9a6790f-2873-4441-f2e6-032751aedd8c"
      },
      "execution_count": null,
      "outputs": [
        {
          "output_type": "stream",
          "name": "stdout",
          "text": [
            "x_train shape: (50000, 32, 32, 3)\n",
            "50000 train samples\n",
            "10000 test samples\n"
          ]
        }
      ]
    },
    {
      "cell_type": "code",
      "source": [
        "#convert integers to float; normalise and center the mean\n",
        "x_train=x_train.astype(\"float32\")  \n",
        "x_test=x_test.astype(\"float32\")\n",
        "mean=np.mean(x_train)\n",
        "std=np.std(x_train)\n",
        "x_test=(x_test-mean)/std\n",
        "x_train=(x_train-mean)/std\n",
        "\n",
        "# labels\n",
        "num_classes=10\n",
        "y_train = keras.utils.to_categorical(y_train, num_classes)\n",
        "y_test = keras.utils.to_categorical(y_test, num_classes)"
      ],
      "metadata": {
        "id": "06spCoYFDYzY"
      },
      "execution_count": null,
      "outputs": []
    },
    {
      "cell_type": "code",
      "source": [
        "reg2=l2(1e-4)   # L2 or \"ridge\" regularisation\n",
        "num_filters2=32\n",
        "ac2='relu'\n",
        "adm2=Adam(lr=0.001,decay=0, beta_1=0.9, beta_2=0.999, epsilon=1e-08)\n",
        "opt2=adm2\n",
        "drop_dense2=0.5\n",
        "drop_conv2=0\n",
        "\n",
        "model3 = Sequential()\n",
        "\n",
        "model3.add(Conv2D(num_filters2, (3, 3), activation=ac2, kernel_regularizer=reg2, input_shape=(img_rows, img_cols, channels),padding='same'))\n",
        "model3.add(BatchNormalization(axis=-1))\n",
        "model3.add(Conv2D(num_filters2, (3, 3), activation=ac2,kernel_regularizer=reg2,padding='same'))\n",
        "model3.add(BatchNormalization(axis=-1))\n",
        "model3.add(MaxPooling2D(pool_size=(2, 2)))   # reduces to 16x16x3xnum_filters\n",
        "model3.add(Dropout(drop_conv2))\n",
        "\n",
        "model3.add(Conv2D(2*num_filters2, (3, 3), activation=ac2,kernel_regularizer=reg2,padding='same'))\n",
        "model3.add(BatchNormalization(axis=-1))\n",
        "model3.add(Conv2D(2*num_filters2, (3, 3), activation=ac2,kernel_regularizer=reg2,padding='same'))\n",
        "model3.add(BatchNormalization(axis=-1))\n",
        "model3.add(MaxPooling2D(pool_size=(2, 2)))   # reduces to 8x8x3x(2*num_filters)\n",
        "model3.add(Dropout(drop_conv2))\n",
        "\n",
        "model3.add(Conv2D(4*num_filters2, (3, 3), activation=ac2,kernel_regularizer=reg2,padding='same'))\n",
        "model3.add(BatchNormalization(axis=-1))\n",
        "model3.add(Conv2D(4*num_filters2, (3, 3), activation=ac2,kernel_regularizer=reg2,padding='same'))\n",
        "model3.add(BatchNormalization(axis=-1))\n",
        "model3.add(MaxPooling2D(pool_size=(2, 2)))   # reduces to 4x4x3x(4*num_filters)\n",
        "model3.add(Dropout(drop_conv2))\n",
        "\n",
        "model3.add(Flatten())\n",
        "model3.add(Dense(512, activation=ac2,kernel_regularizer=reg2))\n",
        "model3.add(BatchNormalization())\n",
        "model3.add(Dropout(drop_dense2))\n",
        "model3.add(Dense(num_classes, activation='softmax'))\n",
        "\n",
        "model3.compile(loss='categorical_crossentropy', metrics=['accuracy'],optimizer=opt2)"
      ],
      "metadata": {
        "colab": {
          "base_uri": "https://localhost:8080/"
        },
        "id": "39KWsoNMDfmo",
        "outputId": "f9a9a97f-dc27-4d6d-ec65-ebfc38ef9ebd"
      },
      "execution_count": null,
      "outputs": [
        {
          "output_type": "stream",
          "name": "stderr",
          "text": [
            "/usr/local/lib/python3.8/dist-packages/keras/optimizers/optimizer_v2/adam.py:110: UserWarning: The `lr` argument is deprecated, use `learning_rate` instead.\n",
            "  super(Adam, self).__init__(name, **kwargs)\n"
          ]
        }
      ]
    },
    {
      "cell_type": "code",
      "source": [
        "train_datagen = ImageDataGenerator(\n",
        "        rotation_range=20,\n",
        "        zoom_range=0.15,\n",
        "        width_shift_range=0.2,\n",
        "        height_shift_range=0.2,\n",
        "        shear_range=0.15,\n",
        "        horizontal_flip=True,\n",
        "        fill_mode=\"nearest\")\n",
        "\n",
        "test_datagen = ImageDataGenerator()"
      ],
      "metadata": {
        "id": "-OcaFpaIDkEd"
      },
      "execution_count": null,
      "outputs": []
    },
    {
      "cell_type": "code",
      "source": [
        "batch_size = 128"
      ],
      "metadata": {
        "id": "mf6GZh1yDoUZ"
      },
      "execution_count": null,
      "outputs": []
    },
    {
      "cell_type": "code",
      "source": [
        "train_generator = train_datagen.flow(x_train, y_train, batch_size=batch_size)\n",
        "valid_generator = train_datagen.flow(x_train, y_train, batch_size=batch_size)\n",
        "test_generator = test_datagen.flow(x_test, batch_size=1)"
      ],
      "metadata": {
        "id": "hWo0NNHxDrxB"
      },
      "execution_count": null,
      "outputs": []
    },
    {
      "cell_type": "code",
      "source": [
        "# set up image augmentation\n",
        "datagen = ImageDataGenerator(\n",
        "    rotation_range=15,\n",
        "    horizontal_flip=True,\n",
        "    width_shift_range=0.1,\n",
        "    height_shift_range=0.1\n",
        "    #zoom_range=0.3\n",
        "    )\n",
        "datagen.fit(x_train)"
      ],
      "metadata": {
        "id": "pJgHPQQvDvVp"
      },
      "execution_count": null,
      "outputs": []
    },
    {
      "cell_type": "code",
      "source": [
        "# train with image augmentation\n",
        "history3=model3.fit_generator(datagen.flow(x_train, y_train, batch_size=128),\n",
        "                    steps_per_epoch = len(x_train) / 128, epochs=100, validation_data=(x_test, y_test))"
      ],
      "metadata": {
        "colab": {
          "base_uri": "https://localhost:8080/"
        },
        "id": "a8n2sNZvDy-z",
        "outputId": "9c44d389-272c-4564-84d7-ac8bfff1770f"
      },
      "execution_count": null,
      "outputs": [
        {
          "output_type": "stream",
          "name": "stderr",
          "text": [
            "<ipython-input-50-07459da9308f>:2: UserWarning: `Model.fit_generator` is deprecated and will be removed in a future version. Please use `Model.fit`, which supports generators.\n",
            "  history3=model3.fit_generator(datagen.flow(x_train, y_train, batch_size=128),\n"
          ]
        },
        {
          "output_type": "stream",
          "name": "stdout",
          "text": [
            "Epoch 1/100\n",
            "390/390 [==============================] - 35s 85ms/step - loss: 1.7944 - accuracy: 0.4493 - val_loss: 1.2979 - val_accuracy: 0.5804\n",
            "Epoch 2/100\n",
            "390/390 [==============================] - 30s 76ms/step - loss: 1.2251 - accuracy: 0.6125 - val_loss: 1.1826 - val_accuracy: 0.6493\n",
            "Epoch 3/100\n",
            "390/390 [==============================] - 38s 99ms/step - loss: 1.0327 - accuracy: 0.6840 - val_loss: 1.2508 - val_accuracy: 0.6561\n",
            "Epoch 4/100\n",
            "390/390 [==============================] - 32s 81ms/step - loss: 0.9302 - accuracy: 0.7217 - val_loss: 0.8919 - val_accuracy: 0.7460\n",
            "Epoch 5/100\n",
            "390/390 [==============================] - 35s 91ms/step - loss: 0.8554 - accuracy: 0.7498 - val_loss: 0.9327 - val_accuracy: 0.7494\n",
            "Epoch 6/100\n",
            "390/390 [==============================] - 31s 78ms/step - loss: 0.8010 - accuracy: 0.7717 - val_loss: 0.8240 - val_accuracy: 0.7718\n",
            "Epoch 7/100\n",
            "390/390 [==============================] - 30s 76ms/step - loss: 0.7665 - accuracy: 0.7853 - val_loss: 0.7697 - val_accuracy: 0.7902\n",
            "Epoch 8/100\n",
            "390/390 [==============================] - 30s 77ms/step - loss: 0.7385 - accuracy: 0.7962 - val_loss: 0.8389 - val_accuracy: 0.7754\n",
            "Epoch 9/100\n",
            "390/390 [==============================] - 29s 75ms/step - loss: 0.7196 - accuracy: 0.8066 - val_loss: 0.7965 - val_accuracy: 0.7958\n",
            "Epoch 10/100\n",
            "390/390 [==============================] - 32s 82ms/step - loss: 0.6915 - accuracy: 0.8199 - val_loss: 0.7395 - val_accuracy: 0.8176\n",
            "Epoch 11/100\n",
            "390/390 [==============================] - 34s 86ms/step - loss: 0.6826 - accuracy: 0.8239 - val_loss: 0.7412 - val_accuracy: 0.8153\n",
            "Epoch 12/100\n",
            "390/390 [==============================] - 31s 79ms/step - loss: 0.6671 - accuracy: 0.8315 - val_loss: 0.7402 - val_accuracy: 0.8164\n",
            "Epoch 13/100\n",
            "390/390 [==============================] - 30s 75ms/step - loss: 0.6620 - accuracy: 0.8381 - val_loss: 0.6821 - val_accuracy: 0.8328\n",
            "Epoch 14/100\n",
            "390/390 [==============================] - 30s 77ms/step - loss: 0.6518 - accuracy: 0.8412 - val_loss: 0.6716 - val_accuracy: 0.8422\n",
            "Epoch 15/100\n",
            "390/390 [==============================] - 29s 75ms/step - loss: 0.6506 - accuracy: 0.8450 - val_loss: 0.7170 - val_accuracy: 0.8301\n",
            "Epoch 16/100\n",
            "390/390 [==============================] - 29s 75ms/step - loss: 0.6395 - accuracy: 0.8510 - val_loss: 0.7099 - val_accuracy: 0.8358\n",
            "Epoch 17/100\n",
            "390/390 [==============================] - 29s 75ms/step - loss: 0.6316 - accuracy: 0.8546 - val_loss: 0.7772 - val_accuracy: 0.8171\n",
            "Epoch 18/100\n",
            "390/390 [==============================] - 31s 80ms/step - loss: 0.6257 - accuracy: 0.8572 - val_loss: 0.6887 - val_accuracy: 0.8408\n",
            "Epoch 19/100\n",
            "390/390 [==============================] - 32s 83ms/step - loss: 0.6179 - accuracy: 0.8608 - val_loss: 0.7458 - val_accuracy: 0.8282\n",
            "Epoch 20/100\n",
            "390/390 [==============================] - 34s 86ms/step - loss: 0.6115 - accuracy: 0.8666 - val_loss: 0.7141 - val_accuracy: 0.8445\n",
            "Epoch 21/100\n",
            "390/390 [==============================] - 46s 119ms/step - loss: 0.6132 - accuracy: 0.8671 - val_loss: 0.6920 - val_accuracy: 0.8489\n",
            "Epoch 22/100\n",
            "390/390 [==============================] - 37s 94ms/step - loss: 0.6050 - accuracy: 0.8696 - val_loss: 0.6560 - val_accuracy: 0.8547\n",
            "Epoch 23/100\n",
            "390/390 [==============================] - 30s 78ms/step - loss: 0.6004 - accuracy: 0.8731 - val_loss: 0.6818 - val_accuracy: 0.8534\n",
            "Epoch 24/100\n",
            "390/390 [==============================] - 29s 75ms/step - loss: 0.6004 - accuracy: 0.8744 - val_loss: 0.7059 - val_accuracy: 0.8435\n",
            "Epoch 25/100\n",
            "390/390 [==============================] - 29s 75ms/step - loss: 0.5946 - accuracy: 0.8760 - val_loss: 0.7091 - val_accuracy: 0.8397\n",
            "Epoch 26/100\n",
            "390/390 [==============================] - 30s 78ms/step - loss: 0.5899 - accuracy: 0.8790 - val_loss: 0.7287 - val_accuracy: 0.8390\n",
            "Epoch 27/100\n",
            "390/390 [==============================] - 30s 76ms/step - loss: 0.5928 - accuracy: 0.8784 - val_loss: 0.7322 - val_accuracy: 0.8381\n",
            "Epoch 28/100\n",
            "390/390 [==============================] - 29s 75ms/step - loss: 0.5870 - accuracy: 0.8820 - val_loss: 0.6919 - val_accuracy: 0.8502\n",
            "Epoch 29/100\n",
            "390/390 [==============================] - 30s 77ms/step - loss: 0.5883 - accuracy: 0.8816 - val_loss: 0.6573 - val_accuracy: 0.8649\n",
            "Epoch 30/100\n",
            "390/390 [==============================] - 29s 75ms/step - loss: 0.5797 - accuracy: 0.8856 - val_loss: 0.6986 - val_accuracy: 0.8509\n",
            "Epoch 31/100\n",
            "390/390 [==============================] - 29s 75ms/step - loss: 0.5777 - accuracy: 0.8861 - val_loss: 0.7288 - val_accuracy: 0.8512\n",
            "Epoch 32/100\n",
            "390/390 [==============================] - 29s 75ms/step - loss: 0.5779 - accuracy: 0.8872 - val_loss: 0.6629 - val_accuracy: 0.8703\n",
            "Epoch 33/100\n",
            "390/390 [==============================] - 30s 77ms/step - loss: 0.5719 - accuracy: 0.8888 - val_loss: 0.6719 - val_accuracy: 0.8630\n",
            "Epoch 34/100\n",
            "390/390 [==============================] - 31s 79ms/step - loss: 0.5698 - accuracy: 0.8913 - val_loss: 0.7451 - val_accuracy: 0.8449\n",
            "Epoch 35/100\n",
            "390/390 [==============================] - 30s 77ms/step - loss: 0.5724 - accuracy: 0.8899 - val_loss: 0.7263 - val_accuracy: 0.8480\n",
            "Epoch 36/100\n",
            "390/390 [==============================] - 30s 77ms/step - loss: 0.5626 - accuracy: 0.8935 - val_loss: 0.7088 - val_accuracy: 0.8471\n",
            "Epoch 37/100\n",
            "390/390 [==============================] - 30s 76ms/step - loss: 0.5674 - accuracy: 0.8914 - val_loss: 0.6939 - val_accuracy: 0.8599\n",
            "Epoch 38/100\n",
            "390/390 [==============================] - 29s 75ms/step - loss: 0.5580 - accuracy: 0.8962 - val_loss: 0.6412 - val_accuracy: 0.8735\n",
            "Epoch 39/100\n",
            "390/390 [==============================] - 30s 77ms/step - loss: 0.5571 - accuracy: 0.8960 - val_loss: 0.6945 - val_accuracy: 0.8598\n",
            "Epoch 40/100\n",
            "390/390 [==============================] - 31s 80ms/step - loss: 0.5550 - accuracy: 0.8971 - val_loss: 0.6841 - val_accuracy: 0.8620\n",
            "Epoch 41/100\n",
            "390/390 [==============================] - 30s 77ms/step - loss: 0.5583 - accuracy: 0.8956 - val_loss: 0.6858 - val_accuracy: 0.8648\n",
            "Epoch 42/100\n",
            "390/390 [==============================] - 30s 76ms/step - loss: 0.5553 - accuracy: 0.8973 - val_loss: 0.6785 - val_accuracy: 0.8660\n",
            "Epoch 43/100\n",
            "390/390 [==============================] - 30s 78ms/step - loss: 0.5558 - accuracy: 0.8979 - val_loss: 0.6595 - val_accuracy: 0.8687\n",
            "Epoch 44/100\n",
            "390/390 [==============================] - 30s 76ms/step - loss: 0.5470 - accuracy: 0.8993 - val_loss: 0.6885 - val_accuracy: 0.8617\n",
            "Epoch 45/100\n",
            "390/390 [==============================] - 30s 77ms/step - loss: 0.5528 - accuracy: 0.8979 - val_loss: 0.6799 - val_accuracy: 0.8643\n",
            "Epoch 46/100\n",
            "390/390 [==============================] - 30s 77ms/step - loss: 0.5494 - accuracy: 0.8996 - val_loss: 0.6610 - val_accuracy: 0.8722\n",
            "Epoch 47/100\n",
            "390/390 [==============================] - 30s 76ms/step - loss: 0.5417 - accuracy: 0.9012 - val_loss: 0.6773 - val_accuracy: 0.8653\n",
            "Epoch 48/100\n",
            "390/390 [==============================] - 30s 77ms/step - loss: 0.5388 - accuracy: 0.9032 - val_loss: 0.6330 - val_accuracy: 0.8799\n",
            "Epoch 49/100\n",
            "390/390 [==============================] - 30s 76ms/step - loss: 0.5420 - accuracy: 0.9039 - val_loss: 0.6726 - val_accuracy: 0.8686\n",
            "Epoch 50/100\n",
            "390/390 [==============================] - 30s 76ms/step - loss: 0.5428 - accuracy: 0.9025 - val_loss: 0.6539 - val_accuracy: 0.8764\n",
            "Epoch 51/100\n",
            "390/390 [==============================] - 31s 79ms/step - loss: 0.5422 - accuracy: 0.9033 - val_loss: 0.6899 - val_accuracy: 0.8608\n",
            "Epoch 52/100\n",
            "390/390 [==============================] - 30s 76ms/step - loss: 0.5342 - accuracy: 0.9054 - val_loss: 0.6359 - val_accuracy: 0.8768\n",
            "Epoch 53/100\n",
            "390/390 [==============================] - 30s 77ms/step - loss: 0.5379 - accuracy: 0.9059 - val_loss: 0.6514 - val_accuracy: 0.8772\n",
            "Epoch 54/100\n",
            "390/390 [==============================] - 30s 77ms/step - loss: 0.5368 - accuracy: 0.9048 - val_loss: 0.7403 - val_accuracy: 0.8495\n",
            "Epoch 55/100\n",
            "390/390 [==============================] - 30s 77ms/step - loss: 0.5362 - accuracy: 0.9047 - val_loss: 0.7527 - val_accuracy: 0.8514\n",
            "Epoch 56/100\n",
            "390/390 [==============================] - 31s 79ms/step - loss: 0.5356 - accuracy: 0.9047 - val_loss: 0.6716 - val_accuracy: 0.8705\n",
            "Epoch 57/100\n",
            "390/390 [==============================] - 30s 77ms/step - loss: 0.5348 - accuracy: 0.9067 - val_loss: 0.6733 - val_accuracy: 0.8682\n",
            "Epoch 58/100\n",
            "390/390 [==============================] - 30s 77ms/step - loss: 0.5292 - accuracy: 0.9076 - val_loss: 0.6798 - val_accuracy: 0.8652\n",
            "Epoch 59/100\n",
            "390/390 [==============================] - 30s 77ms/step - loss: 0.5286 - accuracy: 0.9070 - val_loss: 0.6907 - val_accuracy: 0.8654\n",
            "Epoch 60/100\n",
            "390/390 [==============================] - 36s 91ms/step - loss: 0.5280 - accuracy: 0.9087 - val_loss: 0.6636 - val_accuracy: 0.8695\n",
            "Epoch 61/100\n",
            "390/390 [==============================] - 30s 77ms/step - loss: 0.5257 - accuracy: 0.9098 - val_loss: 0.6622 - val_accuracy: 0.8730\n",
            "Epoch 62/100\n",
            "390/390 [==============================] - 32s 81ms/step - loss: 0.5346 - accuracy: 0.9053 - val_loss: 0.6402 - val_accuracy: 0.8827\n",
            "Epoch 63/100\n",
            "390/390 [==============================] - 30s 77ms/step - loss: 0.5251 - accuracy: 0.9090 - val_loss: 0.6690 - val_accuracy: 0.8711\n",
            "Epoch 64/100\n",
            "390/390 [==============================] - 30s 77ms/step - loss: 0.5304 - accuracy: 0.9087 - val_loss: 0.7052 - val_accuracy: 0.8619\n",
            "Epoch 65/100\n",
            "390/390 [==============================] - 30s 78ms/step - loss: 0.5293 - accuracy: 0.9078 - val_loss: 0.6377 - val_accuracy: 0.8811\n",
            "Epoch 66/100\n",
            "390/390 [==============================] - 30s 77ms/step - loss: 0.5210 - accuracy: 0.9116 - val_loss: 0.6693 - val_accuracy: 0.8724\n",
            "Epoch 67/100\n",
            "390/390 [==============================] - 31s 79ms/step - loss: 0.5273 - accuracy: 0.9083 - val_loss: 0.7331 - val_accuracy: 0.8589\n",
            "Epoch 68/100\n",
            "390/390 [==============================] - 30s 77ms/step - loss: 0.5208 - accuracy: 0.9127 - val_loss: 0.7050 - val_accuracy: 0.8651\n",
            "Epoch 69/100\n",
            "390/390 [==============================] - 30s 77ms/step - loss: 0.5226 - accuracy: 0.9109 - val_loss: 0.6669 - val_accuracy: 0.8719\n",
            "Epoch 70/100\n",
            "390/390 [==============================] - 30s 77ms/step - loss: 0.5213 - accuracy: 0.9107 - val_loss: 0.6549 - val_accuracy: 0.8771\n",
            "Epoch 71/100\n",
            "390/390 [==============================] - 30s 76ms/step - loss: 0.5183 - accuracy: 0.9123 - val_loss: 0.6385 - val_accuracy: 0.8752\n",
            "Epoch 72/100\n",
            "390/390 [==============================] - 29s 75ms/step - loss: 0.5229 - accuracy: 0.9108 - val_loss: 0.7364 - val_accuracy: 0.8547\n",
            "Epoch 73/100\n",
            "390/390 [==============================] - 37s 96ms/step - loss: 0.5179 - accuracy: 0.9122 - val_loss: 0.6361 - val_accuracy: 0.8785\n",
            "Epoch 74/100\n",
            "390/390 [==============================] - 34s 88ms/step - loss: 0.5162 - accuracy: 0.9129 - val_loss: 0.6409 - val_accuracy: 0.8821\n",
            "Epoch 75/100\n",
            "390/390 [==============================] - 35s 88ms/step - loss: 0.5110 - accuracy: 0.9133 - val_loss: 0.6710 - val_accuracy: 0.8762\n",
            "Epoch 76/100\n",
            "390/390 [==============================] - 30s 77ms/step - loss: 0.5223 - accuracy: 0.9093 - val_loss: 0.6919 - val_accuracy: 0.8694\n",
            "Epoch 77/100\n",
            "390/390 [==============================] - 34s 86ms/step - loss: 0.5175 - accuracy: 0.9124 - val_loss: 0.6203 - val_accuracy: 0.8860\n",
            "Epoch 78/100\n",
            "390/390 [==============================] - 36s 92ms/step - loss: 0.5090 - accuracy: 0.9150 - val_loss: 0.6625 - val_accuracy: 0.8709\n",
            "Epoch 79/100\n",
            "390/390 [==============================] - 32s 83ms/step - loss: 0.5113 - accuracy: 0.9152 - val_loss: 0.6806 - val_accuracy: 0.8707\n",
            "Epoch 80/100\n",
            "390/390 [==============================] - 34s 87ms/step - loss: 0.5096 - accuracy: 0.9148 - val_loss: 0.6419 - val_accuracy: 0.8840\n",
            "Epoch 81/100\n",
            "390/390 [==============================] - 31s 78ms/step - loss: 0.5137 - accuracy: 0.9137 - val_loss: 0.6341 - val_accuracy: 0.8815\n",
            "Epoch 82/100\n",
            "390/390 [==============================] - 34s 88ms/step - loss: 0.5086 - accuracy: 0.9136 - val_loss: 0.6572 - val_accuracy: 0.8778\n",
            "Epoch 83/100\n",
            "390/390 [==============================] - 34s 88ms/step - loss: 0.5091 - accuracy: 0.9156 - val_loss: 0.7001 - val_accuracy: 0.8672\n",
            "Epoch 84/100\n",
            "390/390 [==============================] - 34s 86ms/step - loss: 0.5081 - accuracy: 0.9153 - val_loss: 0.6457 - val_accuracy: 0.8813\n",
            "Epoch 85/100\n",
            "390/390 [==============================] - 29s 75ms/step - loss: 0.5095 - accuracy: 0.9140 - val_loss: 0.7173 - val_accuracy: 0.8586\n",
            "Epoch 86/100\n",
            "390/390 [==============================] - 30s 77ms/step - loss: 0.5047 - accuracy: 0.9161 - val_loss: 0.6802 - val_accuracy: 0.8704\n",
            "Epoch 87/100\n",
            "390/390 [==============================] - 30s 76ms/step - loss: 0.5012 - accuracy: 0.9168 - val_loss: 0.6660 - val_accuracy: 0.8743\n",
            "Epoch 88/100\n",
            "390/390 [==============================] - 30s 77ms/step - loss: 0.5034 - accuracy: 0.9162 - val_loss: 0.6510 - val_accuracy: 0.8759\n",
            "Epoch 89/100\n",
            "390/390 [==============================] - 30s 77ms/step - loss: 0.5052 - accuracy: 0.9152 - val_loss: 0.6774 - val_accuracy: 0.8708\n",
            "Epoch 90/100\n",
            "390/390 [==============================] - 30s 76ms/step - loss: 0.5070 - accuracy: 0.9160 - val_loss: 0.6755 - val_accuracy: 0.8719\n",
            "Epoch 91/100\n",
            "390/390 [==============================] - 34s 88ms/step - loss: 0.5022 - accuracy: 0.9167 - val_loss: 0.6622 - val_accuracy: 0.8742\n",
            "Epoch 92/100\n",
            "390/390 [==============================] - 30s 76ms/step - loss: 0.5036 - accuracy: 0.9165 - val_loss: 0.7558 - val_accuracy: 0.8571\n",
            "Epoch 93/100\n",
            "390/390 [==============================] - 31s 78ms/step - loss: 0.5012 - accuracy: 0.9158 - val_loss: 0.6825 - val_accuracy: 0.8734\n",
            "Epoch 94/100\n",
            "390/390 [==============================] - 30s 76ms/step - loss: 0.4976 - accuracy: 0.9178 - val_loss: 0.6979 - val_accuracy: 0.8658\n",
            "Epoch 95/100\n",
            "390/390 [==============================] - 30s 76ms/step - loss: 0.5025 - accuracy: 0.9177 - val_loss: 0.6484 - val_accuracy: 0.8769\n",
            "Epoch 96/100\n",
            "390/390 [==============================] - 30s 76ms/step - loss: 0.5025 - accuracy: 0.9170 - val_loss: 0.6451 - val_accuracy: 0.8825\n",
            "Epoch 97/100\n",
            "390/390 [==============================] - 30s 76ms/step - loss: 0.5011 - accuracy: 0.9167 - val_loss: 0.6167 - val_accuracy: 0.8892\n",
            "Epoch 98/100\n",
            "390/390 [==============================] - 31s 78ms/step - loss: 0.4964 - accuracy: 0.9188 - val_loss: 0.6721 - val_accuracy: 0.8758\n",
            "Epoch 99/100\n",
            "390/390 [==============================] - 30s 76ms/step - loss: 0.4944 - accuracy: 0.9194 - val_loss: 0.6474 - val_accuracy: 0.8749\n",
            "Epoch 100/100\n",
            "390/390 [==============================] - 30s 76ms/step - loss: 0.4976 - accuracy: 0.9171 - val_loss: 0.6624 - val_accuracy: 0.8731\n"
          ]
        }
      ]
    },
    {
      "cell_type": "code",
      "source": [
        "model3_train_acc=model3.evaluate(x_train,y_train,batch_size=128)\n",
        "model3_train_acc"
      ],
      "metadata": {
        "colab": {
          "base_uri": "https://localhost:8080/"
        },
        "id": "5_fZcFD_FCa-",
        "outputId": "aabd65e6-68f3-419c-f23a-7ed5da9298df"
      },
      "execution_count": null,
      "outputs": [
        {
          "output_type": "stream",
          "name": "stdout",
          "text": [
            "391/391 [==============================] - 2s 6ms/step - loss: 0.4588 - accuracy: 0.9316\n"
          ]
        },
        {
          "output_type": "execute_result",
          "data": {
            "text/plain": [
              "[0.45882508158683777, 0.9315800070762634]"
            ]
          },
          "metadata": {},
          "execution_count": 51
        }
      ]
    },
    {
      "cell_type": "code",
      "source": [
        "model3_test_acc=model3.evaluate(x_test,y_test,batch_size=128)\n",
        "model3_test_acc"
      ],
      "metadata": {
        "colab": {
          "base_uri": "https://localhost:8080/"
        },
        "id": "U4igsx73FRxs",
        "outputId": "9a02d433-6c68-483e-a9bf-caaeb05b0871"
      },
      "execution_count": null,
      "outputs": [
        {
          "output_type": "stream",
          "name": "stdout",
          "text": [
            "79/79 [==============================] - 1s 7ms/step - loss: 0.6624 - accuracy: 0.8731\n"
          ]
        },
        {
          "output_type": "execute_result",
          "data": {
            "text/plain": [
              "[0.6623848080635071, 0.8730999827384949]"
            ]
          },
          "metadata": {},
          "execution_count": 52
        }
      ]
    },
    {
      "cell_type": "markdown",
      "source": [
        "# **By adding L2 regularization and Data augmentation, the results are as follows**\n",
        "#**The results for Third Model are:**\n",
        "#**Training Accuracy: 0.9315**\n",
        "#**Test Accuracy: 0.8730**"
      ],
      "metadata": {
        "id": "L-vQNb49YSvh"
      }
    },
    {
      "cell_type": "markdown",
      "source": [
        "# **Fourth Model**"
      ],
      "metadata": {
        "id": "Uyndc1tTYx-w"
      }
    },
    {
      "cell_type": "markdown",
      "source": [
        "# **In Fourth Model, I add Dropout and all the previous model is unchanged**"
      ],
      "metadata": {
        "id": "ImmszSQXY0kc"
      }
    },
    {
      "cell_type": "code",
      "source": [
        "reg2=None\n",
        "num_filters2=32\n",
        "ac2='relu'\n",
        "adm2=Adam(lr=0.001,decay=0, beta_1=0.9, beta_2=0.999, epsilon=1e-08)\n",
        "opt2=adm2\n",
        "drop_dense2=0.5\n",
        "drop_conv2=0.1\n",
        "\n",
        "model4 = Sequential()\n",
        "\n",
        "model4.add(Conv2D(num_filters2, (3, 3), activation=ac2, kernel_regularizer=reg2, input_shape=(img_rows, img_cols, channels),padding='same'))\n",
        "model4.add(BatchNormalization(axis=-1))\n",
        "model4.add(Conv2D(num_filters2, (3, 3), activation=ac2,kernel_regularizer=reg2,padding='same'))\n",
        "model4.add(BatchNormalization(axis=-1))\n",
        "model4.add(MaxPooling2D(pool_size=(2, 2)))   # reduces to 16x16x3xnum_filters\n",
        "model4.add(Dropout(drop_conv2))\n",
        "\n",
        "model4.add(Conv2D(2*num_filters2, (3, 3), activation=ac2,kernel_regularizer=reg2,padding='same'))\n",
        "model4.add(BatchNormalization(axis=-1))\n",
        "model4.add(Conv2D(2*num_filters2, (3, 3), activation=ac2,kernel_regularizer=reg2,padding='same'))\n",
        "model4.add(BatchNormalization(axis=-1))\n",
        "model4.add(MaxPooling2D(pool_size=(2, 2)))   # reduces to 8x8x3x(2*num_filters)\n",
        "model4.add(Dropout(drop_conv2))\n",
        "\n",
        "model4.add(Conv2D(4*num_filters2, (3, 3), activation=ac2,kernel_regularizer=reg2,padding='same'))\n",
        "model4.add(BatchNormalization(axis=-1))\n",
        "model4.add(Conv2D(4*num_filters2, (3, 3), activation=ac2,kernel_regularizer=reg2,padding='same'))\n",
        "model4.add(BatchNormalization(axis=-1))\n",
        "model4.add(MaxPooling2D(pool_size=(2, 2)))   # reduces to 4x4x3x(4*num_filters)\n",
        "model4.add(Dropout(drop_conv2))\n",
        "\n",
        "model4.add(Flatten())\n",
        "model4.add(Dense(512, activation=ac2,kernel_regularizer=reg2))\n",
        "model4.add(BatchNormalization())\n",
        "model4.add(Dropout(drop_dense2))\n",
        "model4.add(Dense(num_classes, activation='softmax'))\n",
        "\n",
        "model4.compile(loss='categorical_crossentropy', metrics=['accuracy'],optimizer=opt2)"
      ],
      "metadata": {
        "colab": {
          "base_uri": "https://localhost:8080/"
        },
        "id": "uj51miIZQMI2",
        "outputId": "0776db0e-dd13-4b18-9228-3af423bb757b"
      },
      "execution_count": null,
      "outputs": [
        {
          "output_type": "stream",
          "name": "stderr",
          "text": [
            "/usr/local/lib/python3.8/dist-packages/keras/optimizers/optimizer_v2/adam.py:110: UserWarning: The `lr` argument is deprecated, use `learning_rate` instead.\n",
            "  super(Adam, self).__init__(name, **kwargs)\n"
          ]
        }
      ]
    },
    {
      "cell_type": "code",
      "source": [
        "train_datagen = ImageDataGenerator(\n",
        "        rotation_range=20,\n",
        "        zoom_range=0.15,\n",
        "        width_shift_range=0.2,\n",
        "        height_shift_range=0.2,\n",
        "        shear_range=0.15,\n",
        "        horizontal_flip=True,\n",
        "        fill_mode=\"nearest\")\n",
        "\n",
        "test_datagen = ImageDataGenerator()"
      ],
      "metadata": {
        "id": "kuT__0ALRdc9"
      },
      "execution_count": null,
      "outputs": []
    },
    {
      "cell_type": "code",
      "source": [
        "batch_size = 128"
      ],
      "metadata": {
        "id": "xlcNK_hbRiGw"
      },
      "execution_count": null,
      "outputs": []
    },
    {
      "cell_type": "code",
      "source": [
        "train_generator = train_datagen.flow(x_train, y_train, batch_size=batch_size)\n",
        "valid_generator = train_datagen.flow(x_train, y_train, batch_size=batch_size)\n",
        "test_generator = test_datagen.flow(x_test, batch_size=1)"
      ],
      "metadata": {
        "id": "jQpAQwTERn_v"
      },
      "execution_count": null,
      "outputs": []
    },
    {
      "cell_type": "code",
      "source": [
        "# set up image augmentation\n",
        "datagen = ImageDataGenerator(\n",
        "    rotation_range=15,\n",
        "    horizontal_flip=True,\n",
        "    width_shift_range=0.1,\n",
        "    height_shift_range=0.1\n",
        "    #zoom_range=0.3\n",
        "    )\n",
        "datagen.fit(x_train)"
      ],
      "metadata": {
        "id": "gbEuXSyHRs4y"
      },
      "execution_count": null,
      "outputs": []
    },
    {
      "cell_type": "code",
      "source": [
        "# train with image augmentation\n",
        "history4=model4.fit_generator(datagen.flow(x_train, y_train, batch_size=128),\n",
        "                    steps_per_epoch = len(x_train) / 128, epochs=100, validation_data=(x_test, y_test))"
      ],
      "metadata": {
        "colab": {
          "base_uri": "https://localhost:8080/"
        },
        "id": "UsbLwpdmRyNu",
        "outputId": "938c9363-3228-416f-aab4-bd7f7cc8afbf"
      },
      "execution_count": null,
      "outputs": [
        {
          "output_type": "stream",
          "name": "stdout",
          "text": [
            "Epoch 1/100\n"
          ]
        },
        {
          "output_type": "stream",
          "name": "stderr",
          "text": [
            "<ipython-input-63-28d7e4481e69>:2: UserWarning: `Model.fit_generator` is deprecated and will be removed in a future version. Please use `Model.fit`, which supports generators.\n",
            "  history4=model4.fit_generator(datagen.flow(x_train, y_train, batch_size=128),\n"
          ]
        },
        {
          "output_type": "stream",
          "name": "stdout",
          "text": [
            "390/390 [==============================] - 32s 80ms/step - loss: 1.6568 - accuracy: 0.4526 - val_loss: 1.1757 - val_accuracy: 0.5766\n",
            "Epoch 2/100\n",
            "390/390 [==============================] - 31s 79ms/step - loss: 1.0739 - accuracy: 0.6214 - val_loss: 0.9419 - val_accuracy: 0.6778\n",
            "Epoch 3/100\n",
            "390/390 [==============================] - 31s 78ms/step - loss: 0.8761 - accuracy: 0.6929 - val_loss: 0.8096 - val_accuracy: 0.7220\n",
            "Epoch 4/100\n",
            "390/390 [==============================] - 29s 74ms/step - loss: 0.7702 - accuracy: 0.7286 - val_loss: 0.9161 - val_accuracy: 0.7016\n",
            "Epoch 5/100\n",
            "390/390 [==============================] - 30s 76ms/step - loss: 0.7000 - accuracy: 0.7564 - val_loss: 0.8219 - val_accuracy: 0.7249\n",
            "Epoch 6/100\n",
            "390/390 [==============================] - 29s 74ms/step - loss: 0.6454 - accuracy: 0.7772 - val_loss: 0.6362 - val_accuracy: 0.7898\n",
            "Epoch 7/100\n",
            "390/390 [==============================] - 29s 74ms/step - loss: 0.6092 - accuracy: 0.7878 - val_loss: 0.5583 - val_accuracy: 0.8103\n",
            "Epoch 8/100\n",
            "390/390 [==============================] - 30s 77ms/step - loss: 0.5683 - accuracy: 0.8030 - val_loss: 0.7360 - val_accuracy: 0.7611\n",
            "Epoch 9/100\n",
            "390/390 [==============================] - 29s 75ms/step - loss: 0.5440 - accuracy: 0.8119 - val_loss: 0.5365 - val_accuracy: 0.8180\n",
            "Epoch 10/100\n",
            "390/390 [==============================] - 30s 75ms/step - loss: 0.5166 - accuracy: 0.8226 - val_loss: 0.6136 - val_accuracy: 0.8042\n",
            "Epoch 11/100\n",
            "390/390 [==============================] - 29s 74ms/step - loss: 0.4897 - accuracy: 0.8310 - val_loss: 0.5984 - val_accuracy: 0.8085\n",
            "Epoch 12/100\n",
            "390/390 [==============================] - 29s 73ms/step - loss: 0.4714 - accuracy: 0.8372 - val_loss: 0.4940 - val_accuracy: 0.8342\n",
            "Epoch 13/100\n",
            "390/390 [==============================] - 30s 77ms/step - loss: 0.4572 - accuracy: 0.8428 - val_loss: 0.5096 - val_accuracy: 0.8284\n",
            "Epoch 14/100\n",
            "390/390 [==============================] - 29s 74ms/step - loss: 0.4409 - accuracy: 0.8479 - val_loss: 0.4451 - val_accuracy: 0.8467\n",
            "Epoch 15/100\n",
            "390/390 [==============================] - 29s 75ms/step - loss: 0.4199 - accuracy: 0.8561 - val_loss: 0.5875 - val_accuracy: 0.8148\n",
            "Epoch 16/100\n",
            "390/390 [==============================] - 29s 75ms/step - loss: 0.4086 - accuracy: 0.8591 - val_loss: 0.5262 - val_accuracy: 0.8334\n",
            "Epoch 17/100\n",
            "390/390 [==============================] - 29s 75ms/step - loss: 0.4025 - accuracy: 0.8608 - val_loss: 0.4730 - val_accuracy: 0.8456\n",
            "Epoch 18/100\n",
            "390/390 [==============================] - 29s 74ms/step - loss: 0.3858 - accuracy: 0.8663 - val_loss: 0.4481 - val_accuracy: 0.8497\n",
            "Epoch 19/100\n",
            "390/390 [==============================] - 30s 78ms/step - loss: 0.3731 - accuracy: 0.8685 - val_loss: 0.4315 - val_accuracy: 0.8574\n",
            "Epoch 20/100\n",
            "390/390 [==============================] - 29s 75ms/step - loss: 0.3651 - accuracy: 0.8753 - val_loss: 0.4466 - val_accuracy: 0.8514\n",
            "Epoch 21/100\n",
            "390/390 [==============================] - 29s 74ms/step - loss: 0.3518 - accuracy: 0.8776 - val_loss: 0.4783 - val_accuracy: 0.8463\n",
            "Epoch 22/100\n",
            "390/390 [==============================] - 29s 74ms/step - loss: 0.3447 - accuracy: 0.8797 - val_loss: 0.4237 - val_accuracy: 0.8591\n",
            "Epoch 23/100\n",
            "390/390 [==============================] - 29s 75ms/step - loss: 0.3330 - accuracy: 0.8847 - val_loss: 0.4229 - val_accuracy: 0.8678\n",
            "Epoch 24/100\n",
            "390/390 [==============================] - 30s 77ms/step - loss: 0.3302 - accuracy: 0.8856 - val_loss: 0.4591 - val_accuracy: 0.8576\n",
            "Epoch 25/100\n",
            "390/390 [==============================] - 29s 75ms/step - loss: 0.3147 - accuracy: 0.8896 - val_loss: 0.4821 - val_accuracy: 0.8508\n",
            "Epoch 26/100\n",
            "390/390 [==============================] - 29s 75ms/step - loss: 0.3090 - accuracy: 0.8915 - val_loss: 0.4793 - val_accuracy: 0.8532\n",
            "Epoch 27/100\n",
            "390/390 [==============================] - 29s 75ms/step - loss: 0.3073 - accuracy: 0.8933 - val_loss: 0.4100 - val_accuracy: 0.8691\n",
            "Epoch 28/100\n",
            "390/390 [==============================] - 29s 74ms/step - loss: 0.3022 - accuracy: 0.8945 - val_loss: 0.4272 - val_accuracy: 0.8653\n",
            "Epoch 29/100\n",
            "390/390 [==============================] - 30s 77ms/step - loss: 0.2901 - accuracy: 0.8993 - val_loss: 0.4157 - val_accuracy: 0.8701\n",
            "Epoch 30/100\n",
            "390/390 [==============================] - 29s 75ms/step - loss: 0.2827 - accuracy: 0.9013 - val_loss: 0.4404 - val_accuracy: 0.8627\n",
            "Epoch 31/100\n",
            "390/390 [==============================] - 29s 74ms/step - loss: 0.2808 - accuracy: 0.9017 - val_loss: 0.4155 - val_accuracy: 0.8739\n",
            "Epoch 32/100\n",
            "390/390 [==============================] - 29s 74ms/step - loss: 0.2796 - accuracy: 0.9011 - val_loss: 0.3684 - val_accuracy: 0.8809\n",
            "Epoch 33/100\n",
            "390/390 [==============================] - 30s 76ms/step - loss: 0.2679 - accuracy: 0.9053 - val_loss: 0.4368 - val_accuracy: 0.8664\n",
            "Epoch 34/100\n",
            "390/390 [==============================] - 30s 76ms/step - loss: 0.2656 - accuracy: 0.9051 - val_loss: 0.4476 - val_accuracy: 0.8665\n",
            "Epoch 35/100\n",
            "390/390 [==============================] - 30s 78ms/step - loss: 0.2612 - accuracy: 0.9087 - val_loss: 0.4612 - val_accuracy: 0.8578\n",
            "Epoch 36/100\n",
            "390/390 [==============================] - 30s 76ms/step - loss: 0.2586 - accuracy: 0.9112 - val_loss: 0.4300 - val_accuracy: 0.8649\n",
            "Epoch 37/100\n",
            "390/390 [==============================] - 29s 74ms/step - loss: 0.2448 - accuracy: 0.9151 - val_loss: 0.4156 - val_accuracy: 0.8728\n",
            "Epoch 38/100\n",
            "390/390 [==============================] - 29s 74ms/step - loss: 0.2488 - accuracy: 0.9132 - val_loss: 0.4233 - val_accuracy: 0.8708\n",
            "Epoch 39/100\n",
            "390/390 [==============================] - 29s 75ms/step - loss: 0.2431 - accuracy: 0.9155 - val_loss: 0.3778 - val_accuracy: 0.8841\n",
            "Epoch 40/100\n",
            "390/390 [==============================] - 30s 77ms/step - loss: 0.2403 - accuracy: 0.9165 - val_loss: 0.3804 - val_accuracy: 0.8811\n",
            "Epoch 41/100\n",
            "390/390 [==============================] - 29s 75ms/step - loss: 0.2340 - accuracy: 0.9191 - val_loss: 0.4065 - val_accuracy: 0.8780\n",
            "Epoch 42/100\n",
            "390/390 [==============================] - 30s 76ms/step - loss: 0.2343 - accuracy: 0.9178 - val_loss: 0.3731 - val_accuracy: 0.8838\n",
            "Epoch 43/100\n",
            "390/390 [==============================] - 29s 75ms/step - loss: 0.2269 - accuracy: 0.9191 - val_loss: 0.3960 - val_accuracy: 0.8802\n",
            "Epoch 44/100\n",
            "390/390 [==============================] - 29s 74ms/step - loss: 0.2245 - accuracy: 0.9219 - val_loss: 0.3706 - val_accuracy: 0.8872\n",
            "Epoch 45/100\n",
            "390/390 [==============================] - 30s 77ms/step - loss: 0.2196 - accuracy: 0.9239 - val_loss: 0.4294 - val_accuracy: 0.8727\n",
            "Epoch 46/100\n",
            "390/390 [==============================] - 30s 76ms/step - loss: 0.2179 - accuracy: 0.9230 - val_loss: 0.4013 - val_accuracy: 0.8820\n",
            "Epoch 47/100\n",
            "390/390 [==============================] - 29s 74ms/step - loss: 0.2148 - accuracy: 0.9247 - val_loss: 0.3778 - val_accuracy: 0.8852\n",
            "Epoch 48/100\n",
            "390/390 [==============================] - 29s 75ms/step - loss: 0.2138 - accuracy: 0.9257 - val_loss: 0.4386 - val_accuracy: 0.8754\n",
            "Epoch 49/100\n",
            "390/390 [==============================] - 30s 76ms/step - loss: 0.2107 - accuracy: 0.9261 - val_loss: 0.4014 - val_accuracy: 0.8801\n",
            "Epoch 50/100\n",
            "390/390 [==============================] - 30s 77ms/step - loss: 0.2059 - accuracy: 0.9280 - val_loss: 0.4293 - val_accuracy: 0.8753\n",
            "Epoch 51/100\n",
            "390/390 [==============================] - 29s 75ms/step - loss: 0.2041 - accuracy: 0.9283 - val_loss: 0.4549 - val_accuracy: 0.8694\n",
            "Epoch 52/100\n",
            "390/390 [==============================] - 30s 76ms/step - loss: 0.2018 - accuracy: 0.9293 - val_loss: 0.3788 - val_accuracy: 0.8870\n",
            "Epoch 53/100\n",
            "390/390 [==============================] - 36s 93ms/step - loss: 0.1978 - accuracy: 0.9298 - val_loss: 0.4145 - val_accuracy: 0.8758\n",
            "Epoch 54/100\n",
            "390/390 [==============================] - 47s 119ms/step - loss: 0.1944 - accuracy: 0.9319 - val_loss: 0.4191 - val_accuracy: 0.8787\n",
            "Epoch 55/100\n",
            "390/390 [==============================] - 42s 107ms/step - loss: 0.1925 - accuracy: 0.9318 - val_loss: 0.3878 - val_accuracy: 0.8881\n",
            "Epoch 56/100\n",
            "390/390 [==============================] - 36s 92ms/step - loss: 0.1930 - accuracy: 0.9324 - val_loss: 0.3906 - val_accuracy: 0.8839\n",
            "Epoch 57/100\n",
            "390/390 [==============================] - 44s 112ms/step - loss: 0.1883 - accuracy: 0.9336 - val_loss: 0.4534 - val_accuracy: 0.8735\n",
            "Epoch 58/100\n",
            "390/390 [==============================] - 35s 89ms/step - loss: 0.1898 - accuracy: 0.9326 - val_loss: 0.3801 - val_accuracy: 0.8841\n",
            "Epoch 59/100\n",
            "390/390 [==============================] - 32s 82ms/step - loss: 0.1859 - accuracy: 0.9348 - val_loss: 0.4139 - val_accuracy: 0.8800\n",
            "Epoch 60/100\n",
            "390/390 [==============================] - 35s 89ms/step - loss: 0.1837 - accuracy: 0.9352 - val_loss: 0.4081 - val_accuracy: 0.8819\n",
            "Epoch 61/100\n",
            "390/390 [==============================] - 29s 75ms/step - loss: 0.1776 - accuracy: 0.9377 - val_loss: 0.4442 - val_accuracy: 0.8748\n",
            "Epoch 62/100\n",
            "390/390 [==============================] - 30s 78ms/step - loss: 0.1773 - accuracy: 0.9368 - val_loss: 0.3952 - val_accuracy: 0.8876\n",
            "Epoch 63/100\n",
            "390/390 [==============================] - 31s 80ms/step - loss: 0.1775 - accuracy: 0.9370 - val_loss: 0.4249 - val_accuracy: 0.8814\n",
            "Epoch 64/100\n",
            "390/390 [==============================] - 29s 75ms/step - loss: 0.1762 - accuracy: 0.9385 - val_loss: 0.3729 - val_accuracy: 0.8912\n",
            "Epoch 65/100\n",
            "390/390 [==============================] - 29s 74ms/step - loss: 0.1743 - accuracy: 0.9388 - val_loss: 0.4093 - val_accuracy: 0.8830\n",
            "Epoch 66/100\n",
            "390/390 [==============================] - 30s 76ms/step - loss: 0.1705 - accuracy: 0.9403 - val_loss: 0.3988 - val_accuracy: 0.8850\n",
            "Epoch 67/100\n",
            "390/390 [==============================] - 30s 77ms/step - loss: 0.1710 - accuracy: 0.9398 - val_loss: 0.4495 - val_accuracy: 0.8715\n",
            "Epoch 68/100\n",
            "390/390 [==============================] - 29s 75ms/step - loss: 0.1679 - accuracy: 0.9407 - val_loss: 0.4155 - val_accuracy: 0.8803\n",
            "Epoch 69/100\n",
            "390/390 [==============================] - 29s 75ms/step - loss: 0.1609 - accuracy: 0.9424 - val_loss: 0.4244 - val_accuracy: 0.8808\n",
            "Epoch 70/100\n",
            "390/390 [==============================] - 29s 75ms/step - loss: 0.1681 - accuracy: 0.9404 - val_loss: 0.4307 - val_accuracy: 0.8837\n",
            "Epoch 71/100\n",
            "390/390 [==============================] - 29s 75ms/step - loss: 0.1586 - accuracy: 0.9438 - val_loss: 0.4033 - val_accuracy: 0.8843\n",
            "Epoch 72/100\n",
            "390/390 [==============================] - 30s 77ms/step - loss: 0.1609 - accuracy: 0.9433 - val_loss: 0.3841 - val_accuracy: 0.8893\n",
            "Epoch 73/100\n",
            "390/390 [==============================] - 29s 75ms/step - loss: 0.1583 - accuracy: 0.9433 - val_loss: 0.4260 - val_accuracy: 0.8830\n",
            "Epoch 74/100\n",
            "390/390 [==============================] - 29s 75ms/step - loss: 0.1632 - accuracy: 0.9423 - val_loss: 0.4142 - val_accuracy: 0.8870\n",
            "Epoch 75/100\n",
            "390/390 [==============================] - 29s 75ms/step - loss: 0.1561 - accuracy: 0.9451 - val_loss: 0.3862 - val_accuracy: 0.8912\n",
            "Epoch 76/100\n",
            "390/390 [==============================] - 29s 75ms/step - loss: 0.1538 - accuracy: 0.9461 - val_loss: 0.4322 - val_accuracy: 0.8843\n",
            "Epoch 77/100\n",
            "390/390 [==============================] - 30s 77ms/step - loss: 0.1548 - accuracy: 0.9469 - val_loss: 0.4197 - val_accuracy: 0.8851\n",
            "Epoch 78/100\n",
            "390/390 [==============================] - 29s 74ms/step - loss: 0.1540 - accuracy: 0.9465 - val_loss: 0.3897 - val_accuracy: 0.8926\n",
            "Epoch 79/100\n",
            "390/390 [==============================] - 29s 75ms/step - loss: 0.1524 - accuracy: 0.9466 - val_loss: 0.4132 - val_accuracy: 0.8871\n",
            "Epoch 80/100\n",
            "390/390 [==============================] - 29s 75ms/step - loss: 0.1486 - accuracy: 0.9471 - val_loss: 0.4300 - val_accuracy: 0.8861\n",
            "Epoch 81/100\n",
            "390/390 [==============================] - 29s 75ms/step - loss: 0.1480 - accuracy: 0.9478 - val_loss: 0.3768 - val_accuracy: 0.8912\n",
            "Epoch 82/100\n",
            "390/390 [==============================] - 30s 77ms/step - loss: 0.1458 - accuracy: 0.9488 - val_loss: 0.3907 - val_accuracy: 0.8923\n",
            "Epoch 83/100\n",
            "390/390 [==============================] - 29s 75ms/step - loss: 0.1466 - accuracy: 0.9474 - val_loss: 0.4134 - val_accuracy: 0.8873\n",
            "Epoch 84/100\n",
            "390/390 [==============================] - 29s 75ms/step - loss: 0.1457 - accuracy: 0.9479 - val_loss: 0.4123 - val_accuracy: 0.8885\n",
            "Epoch 85/100\n",
            "390/390 [==============================] - 29s 75ms/step - loss: 0.1454 - accuracy: 0.9493 - val_loss: 0.4044 - val_accuracy: 0.8925\n",
            "Epoch 86/100\n",
            "390/390 [==============================] - 29s 75ms/step - loss: 0.1463 - accuracy: 0.9472 - val_loss: 0.3872 - val_accuracy: 0.8949\n",
            "Epoch 87/100\n",
            "390/390 [==============================] - 29s 75ms/step - loss: 0.1417 - accuracy: 0.9497 - val_loss: 0.3907 - val_accuracy: 0.8933\n",
            "Epoch 88/100\n",
            "390/390 [==============================] - 30s 76ms/step - loss: 0.1401 - accuracy: 0.9501 - val_loss: 0.4177 - val_accuracy: 0.8899\n",
            "Epoch 89/100\n",
            "390/390 [==============================] - 29s 75ms/step - loss: 0.1366 - accuracy: 0.9527 - val_loss: 0.4040 - val_accuracy: 0.8903\n",
            "Epoch 90/100\n",
            "390/390 [==============================] - 29s 75ms/step - loss: 0.1403 - accuracy: 0.9511 - val_loss: 0.4407 - val_accuracy: 0.8846\n",
            "Epoch 91/100\n",
            "390/390 [==============================] - 29s 75ms/step - loss: 0.1334 - accuracy: 0.9532 - val_loss: 0.4172 - val_accuracy: 0.8899\n",
            "Epoch 92/100\n",
            "390/390 [==============================] - 29s 75ms/step - loss: 0.1377 - accuracy: 0.9509 - val_loss: 0.4174 - val_accuracy: 0.8873\n",
            "Epoch 93/100\n",
            "390/390 [==============================] - 30s 77ms/step - loss: 0.1345 - accuracy: 0.9522 - val_loss: 0.4267 - val_accuracy: 0.8890\n",
            "Epoch 94/100\n",
            "390/390 [==============================] - 30s 76ms/step - loss: 0.1341 - accuracy: 0.9531 - val_loss: 0.4473 - val_accuracy: 0.8840\n",
            "Epoch 95/100\n",
            "390/390 [==============================] - 29s 75ms/step - loss: 0.1338 - accuracy: 0.9526 - val_loss: 0.4278 - val_accuracy: 0.8865\n",
            "Epoch 96/100\n",
            "390/390 [==============================] - 29s 75ms/step - loss: 0.1346 - accuracy: 0.9525 - val_loss: 0.4050 - val_accuracy: 0.8955\n",
            "Epoch 97/100\n",
            "390/390 [==============================] - 29s 75ms/step - loss: 0.1290 - accuracy: 0.9551 - val_loss: 0.4627 - val_accuracy: 0.8776\n",
            "Epoch 98/100\n",
            "390/390 [==============================] - 30s 77ms/step - loss: 0.1311 - accuracy: 0.9536 - val_loss: 0.3989 - val_accuracy: 0.8922\n",
            "Epoch 99/100\n",
            "390/390 [==============================] - 29s 75ms/step - loss: 0.1283 - accuracy: 0.9556 - val_loss: 0.4103 - val_accuracy: 0.8921\n",
            "Epoch 100/100\n",
            "390/390 [==============================] - 29s 75ms/step - loss: 0.1271 - accuracy: 0.9552 - val_loss: 0.4019 - val_accuracy: 0.8910\n"
          ]
        }
      ]
    },
    {
      "cell_type": "code",
      "source": [
        "model4_train_acc=model4.evaluate(x_train,y_train,batch_size=128)\n",
        "model4_train_acc"
      ],
      "metadata": {
        "colab": {
          "base_uri": "https://localhost:8080/"
        },
        "id": "TlWbckBUeFjq",
        "outputId": "e9df1601-0dc9-42e8-8127-bb4f5b077ed6"
      },
      "execution_count": null,
      "outputs": [
        {
          "output_type": "stream",
          "name": "stdout",
          "text": [
            "391/391 [==============================] - 2s 6ms/step - loss: 0.0658 - accuracy: 0.9774\n"
          ]
        },
        {
          "output_type": "execute_result",
          "data": {
            "text/plain": [
              "[0.06581171602010727, 0.977400004863739]"
            ]
          },
          "metadata": {},
          "execution_count": 64
        }
      ]
    },
    {
      "cell_type": "code",
      "source": [
        "model4_test_acc=model4.evaluate(x_test,y_test,batch_size=128)\n",
        "model4_test_acc"
      ],
      "metadata": {
        "colab": {
          "base_uri": "https://localhost:8080/"
        },
        "id": "91ezbZQqeOND",
        "outputId": "04b1ea0c-e701-467d-a04a-4ff072e40119"
      },
      "execution_count": null,
      "outputs": [
        {
          "output_type": "stream",
          "name": "stdout",
          "text": [
            "79/79 [==============================] - 1s 7ms/step - loss: 0.4019 - accuracy: 0.8910\n"
          ]
        },
        {
          "output_type": "execute_result",
          "data": {
            "text/plain": [
              "[0.40191560983657837, 0.890999972820282]"
            ]
          },
          "metadata": {},
          "execution_count": 65
        }
      ]
    },
    {
      "cell_type": "markdown",
      "source": [
        "# **By adding L2 regularization, Data augmentation, dropout, batch Normalization and 100 Epoch of training in to the first model, the Fourth model achieved the following results:**"
      ],
      "metadata": {
        "id": "WJS0tG5mFBUC"
      }
    },
    {
      "cell_type": "markdown",
      "source": [
        "## **Fourth Model Results**"
      ],
      "metadata": {
        "id": "NUEOen5MFdyE"
      }
    },
    {
      "cell_type": "markdown",
      "source": [
        "# **Training accuracy: 0.9774**\n",
        "# **Test accuracy: 0.891**"
      ],
      "metadata": {
        "id": "fV03U4YCFjp1"
      }
    },
    {
      "cell_type": "markdown",
      "source": [
        "# **Fifth Model**"
      ],
      "metadata": {
        "id": "Yw-zKGj5GHfZ"
      }
    },
    {
      "cell_type": "markdown",
      "source": [
        "# **In fifth Model, I tried to change the optimizer from \"ADAM\" to \"RMSprop\" All the remaining of model Unchanged**"
      ],
      "metadata": {
        "id": "i5EQgu9pGP-t"
      }
    },
    {
      "cell_type": "code",
      "source": [
        "#reg2=l2(1e-4)   # L2 or \"ridge\" regularisation\n",
        "reg2=None\n",
        "num_filters2=32\n",
        "ac2='relu'\n",
        "adm2=Adam(lr=0.001,decay=0, beta_1=0.9, beta_2=0.999, epsilon=1e-08)\n",
        "opt2=adm2\n",
        "drop_dense2=0.5\n",
        "drop_conv2=0\n",
        "\n",
        "model5 = Sequential()\n",
        "\n",
        "model5.add(Conv2D(num_filters2, (3, 3), activation=ac2, kernel_regularizer=reg2, input_shape=(img_rows, img_cols, channels),padding='same'))\n",
        "model5.add(BatchNormalization(axis=-1))\n",
        "model5.add(Conv2D(num_filters2, (3, 3), activation=ac2,kernel_regularizer=reg2,padding='same'))\n",
        "model5.add(BatchNormalization(axis=-1))\n",
        "model5.add(MaxPooling2D(pool_size=(2, 2)))   # reduces to 16x16x3xnum_filters\n",
        "model5.add(Dropout(drop_conv2))\n",
        "\n",
        "model5.add(Conv2D(2*num_filters2, (3, 3), activation=ac2,kernel_regularizer=reg2,padding='same'))\n",
        "model5.add(BatchNormalization(axis=-1))\n",
        "model5.add(Conv2D(2*num_filters2, (3, 3), activation=ac2,kernel_regularizer=reg2,padding='same'))\n",
        "model5.add(BatchNormalization(axis=-1))\n",
        "model5.add(MaxPooling2D(pool_size=(2, 2)))   # reduces to 8x8x3x(2*num_filters)\n",
        "model5.add(Dropout(drop_conv2))\n",
        "\n",
        "model5.add(Conv2D(4*num_filters2, (3, 3), activation=ac2,kernel_regularizer=reg2,padding='same'))\n",
        "model5.add(BatchNormalization(axis=-1))\n",
        "model5.add(Conv2D(4*num_filters2, (3, 3), activation=ac2,kernel_regularizer=reg2,padding='same'))\n",
        "model5.add(BatchNormalization(axis=-1))\n",
        "model5.add(MaxPooling2D(pool_size=(2, 2)))   # reduces to 4x4x3x(4*num_filters)\n",
        "model5.add(Dropout(drop_conv2))\n",
        "\n",
        "model5.add(Flatten())\n",
        "model5.add(Dense(512, activation=ac2,kernel_regularizer=reg2))\n",
        "model5.add(BatchNormalization())\n",
        "model5.add(Dropout(drop_dense2))\n",
        "model5.add(Dense(num_classes, activation='softmax'))\n",
        "\n",
        "model5.compile(loss='categorical_crossentropy', metrics=['accuracy'],optimizer='RMSprop')"
      ],
      "metadata": {
        "colab": {
          "base_uri": "https://localhost:8080/"
        },
        "id": "AlkXKSbnE7JJ",
        "outputId": "fe2df267-72dd-4dff-e648-e7ccafee44b3"
      },
      "execution_count": null,
      "outputs": [
        {
          "output_type": "stream",
          "name": "stderr",
          "text": [
            "/usr/local/lib/python3.8/dist-packages/keras/optimizers/optimizer_v2/adam.py:110: UserWarning: The `lr` argument is deprecated, use `learning_rate` instead.\n",
            "  super(Adam, self).__init__(name, **kwargs)\n"
          ]
        }
      ]
    },
    {
      "cell_type": "code",
      "source": [
        "train_datagen = ImageDataGenerator(\n",
        "        rotation_range=20,\n",
        "        zoom_range=0.15,\n",
        "        width_shift_range=0.2,\n",
        "        height_shift_range=0.2,\n",
        "        shear_range=0.15,\n",
        "        horizontal_flip=True,\n",
        "        fill_mode=\"nearest\")\n",
        "\n",
        "test_datagen = ImageDataGenerator()"
      ],
      "metadata": {
        "id": "Ebko3IOpHLDX"
      },
      "execution_count": null,
      "outputs": []
    },
    {
      "cell_type": "code",
      "source": [
        "batch_size=128\n",
        "train_generator = train_datagen.flow(x_train, y_train, batch_size=batch_size)\n",
        "valid_generator = train_datagen.flow(x_train, y_train, batch_size=batch_size)\n",
        "test_generator = test_datagen.flow(x_test, batch_size=1)"
      ],
      "metadata": {
        "id": "R4y7nTAaHP3f"
      },
      "execution_count": null,
      "outputs": []
    },
    {
      "cell_type": "code",
      "source": [
        "# set up image augmentation\n",
        "datagen = ImageDataGenerator(\n",
        "    rotation_range=15,\n",
        "    horizontal_flip=True,\n",
        "    width_shift_range=0.1,\n",
        "    height_shift_range=0.1\n",
        "    #zoom_range=0.3\n",
        "    )\n",
        "datagen.fit(x_train)"
      ],
      "metadata": {
        "id": "4X4FwYr0HVT1"
      },
      "execution_count": null,
      "outputs": []
    },
    {
      "cell_type": "code",
      "source": [
        "# train \n",
        "history5=model5.fit_generator(datagen.flow(x_train, y_train, batch_size=128),\n",
        "                    steps_per_epoch = len(x_train) / 128, epochs=100, validation_data=(x_test, y_test))"
      ],
      "metadata": {
        "colab": {
          "base_uri": "https://localhost:8080/"
        },
        "id": "YvtZdm6pHZ3G",
        "outputId": "25bb818a-4039-4f3a-f3f6-5f34a2712ddc"
      },
      "execution_count": null,
      "outputs": [
        {
          "output_type": "stream",
          "name": "stdout",
          "text": [
            "Epoch 1/100\n"
          ]
        },
        {
          "output_type": "stream",
          "name": "stderr",
          "text": [
            "<ipython-input-71-69e5db199422>:2: UserWarning: `Model.fit_generator` is deprecated and will be removed in a future version. Please use `Model.fit`, which supports generators.\n",
            "  history5=model5.fit_generator(datagen.flow(x_train, y_train, batch_size=128),\n"
          ]
        },
        {
          "output_type": "stream",
          "name": "stdout",
          "text": [
            "390/390 [==============================] - 42s 103ms/step - loss: 1.6558 - accuracy: 0.4625 - val_loss: 1.0797 - val_accuracy: 0.6130\n",
            "Epoch 2/100\n",
            "390/390 [==============================] - 30s 76ms/step - loss: 1.0353 - accuracy: 0.6436 - val_loss: 1.0021 - val_accuracy: 0.6742\n",
            "Epoch 3/100\n",
            "390/390 [==============================] - 29s 75ms/step - loss: 0.8306 - accuracy: 0.7116 - val_loss: 0.7521 - val_accuracy: 0.7476\n",
            "Epoch 4/100\n",
            "390/390 [==============================] - 37s 95ms/step - loss: 0.7292 - accuracy: 0.7469 - val_loss: 0.7238 - val_accuracy: 0.7574\n",
            "Epoch 5/100\n",
            "390/390 [==============================] - 40s 101ms/step - loss: 0.6570 - accuracy: 0.7735 - val_loss: 0.6132 - val_accuracy: 0.7947\n",
            "Epoch 6/100\n",
            "390/390 [==============================] - 34s 88ms/step - loss: 0.6130 - accuracy: 0.7907 - val_loss: 0.6945 - val_accuracy: 0.7822\n",
            "Epoch 7/100\n",
            "390/390 [==============================] - 40s 101ms/step - loss: 0.5637 - accuracy: 0.8063 - val_loss: 0.6193 - val_accuracy: 0.8073\n",
            "Epoch 8/100\n",
            "390/390 [==============================] - 32s 81ms/step - loss: 0.5346 - accuracy: 0.8163 - val_loss: 0.5831 - val_accuracy: 0.8141\n",
            "Epoch 9/100\n",
            "390/390 [==============================] - 39s 99ms/step - loss: 0.5117 - accuracy: 0.8249 - val_loss: 0.6290 - val_accuracy: 0.8032\n",
            "Epoch 10/100\n",
            "390/390 [==============================] - 29s 74ms/step - loss: 0.4880 - accuracy: 0.8327 - val_loss: 0.6182 - val_accuracy: 0.8019\n",
            "Epoch 11/100\n",
            "390/390 [==============================] - 30s 77ms/step - loss: 0.4703 - accuracy: 0.8369 - val_loss: 0.5085 - val_accuracy: 0.8373\n",
            "Epoch 12/100\n",
            "390/390 [==============================] - 29s 75ms/step - loss: 0.4536 - accuracy: 0.8448 - val_loss: 0.4948 - val_accuracy: 0.8370\n",
            "Epoch 13/100\n",
            "390/390 [==============================] - 29s 75ms/step - loss: 0.4336 - accuracy: 0.8519 - val_loss: 0.4792 - val_accuracy: 0.8495\n",
            "Epoch 14/100\n",
            "390/390 [==============================] - 30s 77ms/step - loss: 0.4263 - accuracy: 0.8538 - val_loss: 0.5249 - val_accuracy: 0.8344\n",
            "Epoch 15/100\n",
            "390/390 [==============================] - 29s 74ms/step - loss: 0.4092 - accuracy: 0.8599 - val_loss: 0.4822 - val_accuracy: 0.8425\n",
            "Epoch 16/100\n",
            "390/390 [==============================] - 29s 75ms/step - loss: 0.3931 - accuracy: 0.8649 - val_loss: 0.5641 - val_accuracy: 0.8255\n",
            "Epoch 17/100\n",
            "390/390 [==============================] - 29s 75ms/step - loss: 0.3836 - accuracy: 0.8684 - val_loss: 0.4825 - val_accuracy: 0.8506\n",
            "Epoch 18/100\n",
            "390/390 [==============================] - 29s 74ms/step - loss: 0.3726 - accuracy: 0.8713 - val_loss: 0.4612 - val_accuracy: 0.8503\n",
            "Epoch 19/100\n",
            "390/390 [==============================] - 30s 77ms/step - loss: 0.3629 - accuracy: 0.8751 - val_loss: 0.4699 - val_accuracy: 0.8509\n",
            "Epoch 20/100\n",
            "390/390 [==============================] - 29s 75ms/step - loss: 0.3584 - accuracy: 0.8754 - val_loss: 0.5187 - val_accuracy: 0.8360\n",
            "Epoch 21/100\n",
            "390/390 [==============================] - 29s 74ms/step - loss: 0.3470 - accuracy: 0.8815 - val_loss: 0.5501 - val_accuracy: 0.8374\n",
            "Epoch 22/100\n",
            "390/390 [==============================] - 29s 75ms/step - loss: 0.3357 - accuracy: 0.8843 - val_loss: 0.4376 - val_accuracy: 0.8671\n",
            "Epoch 23/100\n",
            "390/390 [==============================] - 29s 74ms/step - loss: 0.3320 - accuracy: 0.8840 - val_loss: 0.4778 - val_accuracy: 0.8517\n",
            "Epoch 24/100\n",
            "390/390 [==============================] - 30s 76ms/step - loss: 0.3251 - accuracy: 0.8886 - val_loss: 0.4322 - val_accuracy: 0.8662\n",
            "Epoch 25/100\n",
            "390/390 [==============================] - 29s 75ms/step - loss: 0.3209 - accuracy: 0.8912 - val_loss: 0.4913 - val_accuracy: 0.8565\n",
            "Epoch 26/100\n",
            "390/390 [==============================] - 29s 74ms/step - loss: 0.3139 - accuracy: 0.8915 - val_loss: 0.4356 - val_accuracy: 0.8709\n",
            "Epoch 27/100\n",
            "390/390 [==============================] - 29s 75ms/step - loss: 0.3071 - accuracy: 0.8958 - val_loss: 0.4599 - val_accuracy: 0.8587\n",
            "Epoch 28/100\n",
            "390/390 [==============================] - 29s 74ms/step - loss: 0.3018 - accuracy: 0.8966 - val_loss: 0.4706 - val_accuracy: 0.8648\n",
            "Epoch 29/100\n",
            "390/390 [==============================] - 30s 76ms/step - loss: 0.2935 - accuracy: 0.8992 - val_loss: 0.4070 - val_accuracy: 0.8729\n",
            "Epoch 30/100\n",
            "390/390 [==============================] - 29s 74ms/step - loss: 0.2948 - accuracy: 0.8979 - val_loss: 0.4971 - val_accuracy: 0.8556\n",
            "Epoch 31/100\n",
            "390/390 [==============================] - 29s 75ms/step - loss: 0.2869 - accuracy: 0.9014 - val_loss: 0.5119 - val_accuracy: 0.8569\n",
            "Epoch 32/100\n",
            "390/390 [==============================] - 29s 74ms/step - loss: 0.2842 - accuracy: 0.9025 - val_loss: 0.4359 - val_accuracy: 0.8690\n",
            "Epoch 33/100\n",
            "390/390 [==============================] - 30s 77ms/step - loss: 0.2804 - accuracy: 0.9030 - val_loss: 0.4836 - val_accuracy: 0.8584\n",
            "Epoch 34/100\n",
            "390/390 [==============================] - 29s 74ms/step - loss: 0.2762 - accuracy: 0.9048 - val_loss: 0.3912 - val_accuracy: 0.8848\n",
            "Epoch 35/100\n",
            "390/390 [==============================] - 29s 74ms/step - loss: 0.2688 - accuracy: 0.9077 - val_loss: 0.3902 - val_accuracy: 0.8825\n",
            "Epoch 36/100\n",
            "390/390 [==============================] - 29s 74ms/step - loss: 0.2612 - accuracy: 0.9121 - val_loss: 0.3974 - val_accuracy: 0.8785\n",
            "Epoch 37/100\n",
            "390/390 [==============================] - 29s 75ms/step - loss: 0.2607 - accuracy: 0.9112 - val_loss: 0.5104 - val_accuracy: 0.8671\n",
            "Epoch 38/100\n",
            "390/390 [==============================] - 30s 76ms/step - loss: 0.2586 - accuracy: 0.9096 - val_loss: 0.4403 - val_accuracy: 0.8761\n",
            "Epoch 39/100\n",
            "390/390 [==============================] - 29s 75ms/step - loss: 0.2603 - accuracy: 0.9094 - val_loss: 0.4272 - val_accuracy: 0.8785\n",
            "Epoch 40/100\n",
            "390/390 [==============================] - 29s 74ms/step - loss: 0.2489 - accuracy: 0.9126 - val_loss: 0.5023 - val_accuracy: 0.8645\n",
            "Epoch 41/100\n",
            "390/390 [==============================] - 29s 75ms/step - loss: 0.2536 - accuracy: 0.9124 - val_loss: 0.4012 - val_accuracy: 0.8827\n",
            "Epoch 42/100\n",
            "390/390 [==============================] - 30s 76ms/step - loss: 0.2436 - accuracy: 0.9154 - val_loss: 0.5550 - val_accuracy: 0.8628\n",
            "Epoch 43/100\n",
            "390/390 [==============================] - 30s 77ms/step - loss: 0.2452 - accuracy: 0.9165 - val_loss: 0.4684 - val_accuracy: 0.8761\n",
            "Epoch 44/100\n",
            "390/390 [==============================] - 29s 74ms/step - loss: 0.2404 - accuracy: 0.9169 - val_loss: 0.4617 - val_accuracy: 0.8719\n",
            "Epoch 45/100\n",
            "390/390 [==============================] - 29s 74ms/step - loss: 0.2378 - accuracy: 0.9176 - val_loss: 0.4414 - val_accuracy: 0.8749\n",
            "Epoch 46/100\n",
            "390/390 [==============================] - 29s 75ms/step - loss: 0.2318 - accuracy: 0.9196 - val_loss: 0.5222 - val_accuracy: 0.8624\n",
            "Epoch 47/100\n",
            "390/390 [==============================] - 29s 74ms/step - loss: 0.2308 - accuracy: 0.9216 - val_loss: 0.4140 - val_accuracy: 0.8805\n",
            "Epoch 48/100\n",
            "390/390 [==============================] - 30s 77ms/step - loss: 0.2301 - accuracy: 0.9219 - val_loss: 0.4080 - val_accuracy: 0.8792\n",
            "Epoch 49/100\n",
            "390/390 [==============================] - 29s 75ms/step - loss: 0.2273 - accuracy: 0.9211 - val_loss: 0.4539 - val_accuracy: 0.8761\n",
            "Epoch 50/100\n",
            "390/390 [==============================] - 30s 76ms/step - loss: 0.2303 - accuracy: 0.9207 - val_loss: 0.4050 - val_accuracy: 0.8849\n",
            "Epoch 51/100\n",
            "390/390 [==============================] - 30s 76ms/step - loss: 0.2232 - accuracy: 0.9229 - val_loss: 0.5109 - val_accuracy: 0.8551\n",
            "Epoch 52/100\n",
            "390/390 [==============================] - 29s 75ms/step - loss: 0.2241 - accuracy: 0.9232 - val_loss: 0.4521 - val_accuracy: 0.8732\n",
            "Epoch 53/100\n",
            "390/390 [==============================] - 30s 78ms/step - loss: 0.2161 - accuracy: 0.9251 - val_loss: 0.4904 - val_accuracy: 0.8773\n",
            "Epoch 54/100\n",
            "390/390 [==============================] - 29s 75ms/step - loss: 0.2152 - accuracy: 0.9259 - val_loss: 0.4570 - val_accuracy: 0.8759\n",
            "Epoch 55/100\n",
            "390/390 [==============================] - 30s 76ms/step - loss: 0.2153 - accuracy: 0.9262 - val_loss: 0.4386 - val_accuracy: 0.8810\n",
            "Epoch 56/100\n",
            "390/390 [==============================] - 29s 74ms/step - loss: 0.2129 - accuracy: 0.9282 - val_loss: 0.4414 - val_accuracy: 0.8799\n",
            "Epoch 57/100\n",
            "390/390 [==============================] - 29s 74ms/step - loss: 0.2149 - accuracy: 0.9280 - val_loss: 0.4466 - val_accuracy: 0.8795\n",
            "Epoch 58/100\n",
            "390/390 [==============================] - 30s 77ms/step - loss: 0.2076 - accuracy: 0.9282 - val_loss: 0.4036 - val_accuracy: 0.8877\n",
            "Epoch 59/100\n",
            "390/390 [==============================] - 29s 75ms/step - loss: 0.2083 - accuracy: 0.9303 - val_loss: 0.3892 - val_accuracy: 0.8910\n",
            "Epoch 60/100\n",
            "390/390 [==============================] - 29s 74ms/step - loss: 0.2037 - accuracy: 0.9308 - val_loss: 0.4283 - val_accuracy: 0.8825\n",
            "Epoch 61/100\n",
            "390/390 [==============================] - 29s 75ms/step - loss: 0.2049 - accuracy: 0.9294 - val_loss: 0.4106 - val_accuracy: 0.8865\n",
            "Epoch 62/100\n",
            "390/390 [==============================] - 29s 75ms/step - loss: 0.1997 - accuracy: 0.9304 - val_loss: 0.4548 - val_accuracy: 0.8845\n",
            "Epoch 63/100\n",
            "390/390 [==============================] - 30s 77ms/step - loss: 0.2004 - accuracy: 0.9321 - val_loss: 0.4121 - val_accuracy: 0.8790\n",
            "Epoch 64/100\n",
            "390/390 [==============================] - 29s 74ms/step - loss: 0.1997 - accuracy: 0.9306 - val_loss: 0.4988 - val_accuracy: 0.8774\n",
            "Epoch 65/100\n",
            "390/390 [==============================] - 29s 74ms/step - loss: 0.1993 - accuracy: 0.9320 - val_loss: 0.4555 - val_accuracy: 0.8719\n",
            "Epoch 66/100\n",
            "390/390 [==============================] - 29s 74ms/step - loss: 0.1970 - accuracy: 0.9326 - val_loss: 0.5343 - val_accuracy: 0.8709\n",
            "Epoch 67/100\n",
            "390/390 [==============================] - 29s 75ms/step - loss: 0.1946 - accuracy: 0.9345 - val_loss: 0.4177 - val_accuracy: 0.8841\n",
            "Epoch 68/100\n",
            "390/390 [==============================] - 30s 76ms/step - loss: 0.1930 - accuracy: 0.9332 - val_loss: 0.4966 - val_accuracy: 0.8783\n",
            "Epoch 69/100\n",
            "390/390 [==============================] - 29s 75ms/step - loss: 0.1882 - accuracy: 0.9355 - val_loss: 0.4454 - val_accuracy: 0.8812\n",
            "Epoch 70/100\n",
            "390/390 [==============================] - 29s 75ms/step - loss: 0.1877 - accuracy: 0.9359 - val_loss: 0.4414 - val_accuracy: 0.8896\n",
            "Epoch 71/100\n",
            "390/390 [==============================] - 29s 75ms/step - loss: 0.1852 - accuracy: 0.9369 - val_loss: 0.4434 - val_accuracy: 0.8861\n",
            "Epoch 72/100\n",
            "390/390 [==============================] - 29s 75ms/step - loss: 0.1873 - accuracy: 0.9364 - val_loss: 0.4564 - val_accuracy: 0.8879\n",
            "Epoch 73/100\n",
            "390/390 [==============================] - 30s 77ms/step - loss: 0.1929 - accuracy: 0.9345 - val_loss: 0.4385 - val_accuracy: 0.8858\n",
            "Epoch 74/100\n",
            "390/390 [==============================] - 29s 75ms/step - loss: 0.1843 - accuracy: 0.9386 - val_loss: 0.4150 - val_accuracy: 0.8806\n",
            "Epoch 75/100\n",
            "390/390 [==============================] - 29s 75ms/step - loss: 0.1833 - accuracy: 0.9391 - val_loss: 0.3966 - val_accuracy: 0.8901\n",
            "Epoch 76/100\n",
            "390/390 [==============================] - 29s 74ms/step - loss: 0.1804 - accuracy: 0.9378 - val_loss: 0.5286 - val_accuracy: 0.8817\n",
            "Epoch 77/100\n",
            "390/390 [==============================] - 29s 75ms/step - loss: 0.1809 - accuracy: 0.9373 - val_loss: 0.4455 - val_accuracy: 0.8882\n",
            "Epoch 78/100\n",
            "390/390 [==============================] - 30s 77ms/step - loss: 0.1785 - accuracy: 0.9393 - val_loss: 0.4700 - val_accuracy: 0.8777\n",
            "Epoch 79/100\n",
            "390/390 [==============================] - 29s 75ms/step - loss: 0.1765 - accuracy: 0.9399 - val_loss: 0.4832 - val_accuracy: 0.8858\n",
            "Epoch 80/100\n",
            "390/390 [==============================] - 29s 75ms/step - loss: 0.1784 - accuracy: 0.9383 - val_loss: 0.4263 - val_accuracy: 0.8858\n",
            "Epoch 81/100\n",
            "390/390 [==============================] - 29s 74ms/step - loss: 0.1772 - accuracy: 0.9391 - val_loss: 0.4470 - val_accuracy: 0.8890\n",
            "Epoch 82/100\n",
            "390/390 [==============================] - 30s 77ms/step - loss: 0.1716 - accuracy: 0.9401 - val_loss: 0.4011 - val_accuracy: 0.8932\n",
            "Epoch 83/100\n",
            "390/390 [==============================] - 29s 75ms/step - loss: 0.1777 - accuracy: 0.9401 - val_loss: 0.4479 - val_accuracy: 0.8821\n",
            "Epoch 84/100\n",
            "390/390 [==============================] - 29s 74ms/step - loss: 0.1743 - accuracy: 0.9402 - val_loss: 0.4728 - val_accuracy: 0.8933\n",
            "Epoch 85/100\n",
            "390/390 [==============================] - 29s 74ms/step - loss: 0.1698 - accuracy: 0.9414 - val_loss: 0.5300 - val_accuracy: 0.8732\n",
            "Epoch 86/100\n",
            "390/390 [==============================] - 29s 74ms/step - loss: 0.1735 - accuracy: 0.9413 - val_loss: 0.4198 - val_accuracy: 0.8905\n",
            "Epoch 87/100\n",
            "390/390 [==============================] - 30s 77ms/step - loss: 0.1696 - accuracy: 0.9414 - val_loss: 0.4291 - val_accuracy: 0.8825\n",
            "Epoch 88/100\n",
            "390/390 [==============================] - 29s 74ms/step - loss: 0.1695 - accuracy: 0.9422 - val_loss: 0.4427 - val_accuracy: 0.8853\n",
            "Epoch 89/100\n",
            "390/390 [==============================] - 29s 74ms/step - loss: 0.1678 - accuracy: 0.9429 - val_loss: 0.4557 - val_accuracy: 0.8895\n",
            "Epoch 90/100\n",
            "390/390 [==============================] - 29s 74ms/step - loss: 0.1697 - accuracy: 0.9421 - val_loss: 0.4584 - val_accuracy: 0.8862\n",
            "Epoch 91/100\n",
            "390/390 [==============================] - 29s 74ms/step - loss: 0.1665 - accuracy: 0.9421 - val_loss: 0.4621 - val_accuracy: 0.8814\n",
            "Epoch 92/100\n",
            "390/390 [==============================] - 30s 76ms/step - loss: 0.1634 - accuracy: 0.9452 - val_loss: 0.4914 - val_accuracy: 0.8865\n",
            "Epoch 93/100\n",
            "390/390 [==============================] - 29s 74ms/step - loss: 0.1601 - accuracy: 0.9450 - val_loss: 0.4805 - val_accuracy: 0.8857\n",
            "Epoch 94/100\n",
            "390/390 [==============================] - 29s 74ms/step - loss: 0.1608 - accuracy: 0.9457 - val_loss: 0.4182 - val_accuracy: 0.8868\n",
            "Epoch 95/100\n",
            "390/390 [==============================] - 29s 73ms/step - loss: 0.1595 - accuracy: 0.9454 - val_loss: 0.5276 - val_accuracy: 0.8821\n",
            "Epoch 96/100\n",
            "390/390 [==============================] - 30s 76ms/step - loss: 0.1563 - accuracy: 0.9458 - val_loss: 0.4199 - val_accuracy: 0.8890\n",
            "Epoch 97/100\n",
            "390/390 [==============================] - 29s 74ms/step - loss: 0.1558 - accuracy: 0.9461 - val_loss: 0.4935 - val_accuracy: 0.8873\n",
            "Epoch 98/100\n",
            "390/390 [==============================] - 29s 74ms/step - loss: 0.1615 - accuracy: 0.9454 - val_loss: 0.4765 - val_accuracy: 0.8864\n",
            "Epoch 99/100\n",
            "390/390 [==============================] - 29s 75ms/step - loss: 0.1537 - accuracy: 0.9472 - val_loss: 0.4375 - val_accuracy: 0.8842\n",
            "Epoch 100/100\n",
            "390/390 [==============================] - 29s 75ms/step - loss: 0.1560 - accuracy: 0.9471 - val_loss: 0.4302 - val_accuracy: 0.8932\n"
          ]
        }
      ]
    },
    {
      "cell_type": "code",
      "source": [
        "model5_train_acc=model5.evaluate(x_train,y_train,batch_size=128)\n",
        "model5_train_acc"
      ],
      "metadata": {
        "colab": {
          "base_uri": "https://localhost:8080/"
        },
        "id": "Jwr8iKlXHxN5",
        "outputId": "4d6cdab0-3fe9-4e31-96dd-369ca5b40169"
      },
      "execution_count": null,
      "outputs": [
        {
          "output_type": "stream",
          "name": "stdout",
          "text": [
            "391/391 [==============================] - 2s 6ms/step - loss: 0.0858 - accuracy: 0.9708\n"
          ]
        },
        {
          "output_type": "execute_result",
          "data": {
            "text/plain": [
              "[0.08584918081760406, 0.9707599878311157]"
            ]
          },
          "metadata": {},
          "execution_count": 72
        }
      ]
    },
    {
      "cell_type": "code",
      "source": [
        "model5_test_acc=model5.evaluate(x_test,y_test,batch_size=128)\n",
        "model5_test_acc"
      ],
      "metadata": {
        "colab": {
          "base_uri": "https://localhost:8080/"
        },
        "id": "l9HiQQSbH3H6",
        "outputId": "d7170a6b-f180-4c41-beff-d77c0da21221"
      },
      "execution_count": null,
      "outputs": [
        {
          "output_type": "stream",
          "name": "stdout",
          "text": [
            "79/79 [==============================] - 1s 7ms/step - loss: 0.4302 - accuracy: 0.8932\n"
          ]
        },
        {
          "output_type": "execute_result",
          "data": {
            "text/plain": [
              "[0.4302097260951996, 0.8931999802589417]"
            ]
          },
          "metadata": {},
          "execution_count": 73
        }
      ]
    },
    {
      "cell_type": "markdown",
      "source": [
        "# **By using Regularization, Data Augmentation, Dropout, More training(100 Epoch), Batch Normalization, and RMSprop, The results are as follows:**\n",
        "#**Training Accuracy:0.97**\n",
        "#**Test Accuracy:0.8932**"
      ],
      "metadata": {
        "id": "m6udAwzTfSN1"
      }
    },
    {
      "cell_type": "markdown",
      "source": [
        "# **The Results are nearly same as using all features by applying ADAM optimizer**"
      ],
      "metadata": {
        "id": "SVZiZ4gKqu0P"
      }
    },
    {
      "cell_type": "markdown",
      "source": [
        "# **So, by now, I should focus on different Nn structure, learning rate, Weight Decay, Different batch size, Momentum, Different Augmentation parameters and These Kind of parameters for observing the results by changing them**"
      ],
      "metadata": {
        "id": "V7aglvgsq5Q1"
      }
    },
    {
      "cell_type": "markdown",
      "source": [
        "# **The Sixth model**"
      ],
      "metadata": {
        "id": "A2u3QNfurWSk"
      }
    },
    {
      "cell_type": "markdown",
      "source": [
        "# **Defining Sixth model by different parameters and Some changes in previous Models as follows**"
      ],
      "metadata": {
        "id": "2aUdZlILru1T"
      }
    },
    {
      "cell_type": "code",
      "source": [
        "import inspect\n",
        "from collections import namedtuple, defaultdict\n",
        "from functools import partial\n",
        "import functools\n",
        "from itertools import chain, count, islice as take\n",
        "\n",
        "#####################\n",
        "## dict utils\n",
        "#####################\n",
        "\n",
        "union = lambda *dicts: {k: v for d in dicts for (k, v) in d.items()}\n",
        "\n",
        "make_tuple = lambda path: (path,) if isinstance(path, str) else path\n",
        "\n",
        "def path_iter(nested_dict, pfx=()):\n",
        "    for name, val in nested_dict.items():\n",
        "        if isinstance(val, dict): yield from path_iter(val, pfx+make_tuple(name))\n",
        "        else: yield (pfx+make_tuple(name), val)  \n",
        "            \n",
        "map_values = lambda func, dct: {k: func(v) for k,v in dct.items()}\n",
        "\n",
        "def map_nested(func, nested_dict):\n",
        "    return {k: map_nested(func, v) if isinstance(v, dict) else func(v) for k,v in nested_dict.items()}\n",
        "\n",
        "def group_by_key(seq):\n",
        "    res = defaultdict(list)\n",
        "    for k, v in seq: \n",
        "        res[k].append(v) \n",
        "    return res\n",
        "\n",
        "reorder = lambda dct, keys: {k: dct[k] for k in keys}\n",
        "\n",
        "#####################\n",
        "## graph building\n",
        "#####################\n",
        "\n",
        "def identity(value): return value\n",
        "\n",
        "def build_graph(net, path_map='_'.join):\n",
        "    net = {path: node if len(node) is 3 else (*node, None) for path, node in path_iter(net)}\n",
        "    default_inputs = chain([('input',)], net.keys())\n",
        "    resolve_path = lambda path, pfx: pfx+path if (pfx+path in net or not pfx) else resolve_path(net, path, pfx[:-1])\n",
        "    return {path_map(path): (typ, value, ([path_map(default)] if inputs is None else [path_map(resolve_path(make_tuple(k), path[:-1])) for k in inputs])) \n",
        "            for (path, (typ, value, inputs)), default in zip(net.items(), default_inputs)}\n",
        "\n",
        "#####################\n",
        "## network visualisation \n",
        "#####################\n",
        "import IPython.display\n",
        "\n",
        "class ColorMap(dict):\n",
        "    palette = (\n",
        "        'bebada,ffffb3,fb8072,8dd3c7,80b1d3,fdb462,b3de69,fccde5,bc80bd,ccebc5,ffed6f,1f78b4,33a02c,e31a1c,ff7f00,'\n",
        "        '4dddf8,e66493,b07b87,4e90e3,dea05e,d0c281,f0e189,e9e8b1,e0eb71,bbd2a4,6ed641,57eb9c,3ca4d4,92d5e7,b15928'\n",
        "    ).split(',')\n",
        " \n",
        "    def __missing__(self, key):\n",
        "        self[key] = self.palette[len(self) % len(self.palette)]\n",
        "        return self[key]\n",
        "\n",
        "def make_pydot(nodes, edges, direction='LR', sep='_', **kwargs):\n",
        "    from pydot import Dot, Cluster, Node, Edge\n",
        "    class Subgraphs(dict):\n",
        "        def __missing__(self, path):\n",
        "            *parent, label = path\n",
        "            subgraph = Cluster(sep.join(path), label=label, style='rounded, filled', fillcolor='#77777744')\n",
        "            self[tuple(parent)].add_subgraph(subgraph)\n",
        "            return subgraph\n",
        "    g = Dot(rankdir=direction, directed=True, **kwargs)\n",
        "    g.set_node_defaults(\n",
        "        shape='box', style='rounded, filled', fillcolor='#ffffff')\n",
        "    subgraphs = Subgraphs({(): g})\n",
        "    for path, attr in nodes:\n",
        "        *parent, label = path.split(sep)\n",
        "        subgraphs[tuple(parent)].add_node(\n",
        "            Node(name=path, label=label, **attr))\n",
        "    for src, dst, attr in edges:\n",
        "        g.add_edge(Edge(src, dst, **attr))\n",
        "    return g\n",
        "\n",
        "class DotGraph():\n",
        "    colors = ColorMap()   \n",
        "    def __init__(self, graph, size=15, direction='LR'):\n",
        "        self.nodes = [(k, {\n",
        "            'tooltip': '%s %.1000r' % (typ, value), \n",
        "            'fillcolor': '#'+self.colors[typ],\n",
        "        }) for k, (typ, value, inputs) in graph.items()] \n",
        "        self.edges = [(src, k, {}) for (k, (_,_,inputs)) in graph.items() for src in inputs]\n",
        "        self.size, self.direction = size, direction\n",
        "\n",
        "    def dot_graph(self, **kwargs):\n",
        "        return make_pydot(self.nodes, self.edges, size=self.size, \n",
        "                            direction=self.direction, **kwargs)\n",
        "\n",
        "    def svg(self, **kwargs):\n",
        "        return self.dot_graph(**kwargs).create(format='svg').decode('utf-8')\n",
        "\n",
        "    try:\n",
        "        import pydot\n",
        "        def _repr_svg_(self):\n",
        "            return self.svg()\n",
        "    except ImportError:\n",
        "        def __repr__(self):\n",
        "            return 'pydot is needed for network visualisation'\n",
        "\n",
        "\n",
        "#####################\n",
        "## Layers\n",
        "##################### \n",
        "\n",
        "import numpy as np\n",
        "import torch\n",
        "from torch import nn\n",
        "import torch.nn.functional as F\n",
        "from collections import namedtuple\n",
        "import copy\n",
        "\n",
        "torch.backends.cudnn.benchmark = True\n",
        "device = torch.device(\"cuda:0\" if torch.cuda.is_available() else \"cpu\")\n",
        "cpu = torch.device('cpu')\n",
        "    \n",
        "class Network(nn.Module):\n",
        "    def __init__(self, net, loss=None):\n",
        "        super().__init__()\n",
        "        self.graph = {path: (typ, typ(**params), inputs) for path, (typ, params, inputs) in build_graph(net).items()}\n",
        "        self.loss = loss or identity\n",
        "        for path, (_,node,_) in self.graph.items(): \n",
        "            setattr(self, path, node)\n",
        "    \n",
        "    def nodes(self):\n",
        "        return (node for _,node,_ in self.graph.values())\n",
        "    \n",
        "    def forward(self, inputs):\n",
        "        outputs = dict(inputs)\n",
        "        for k, (_, node, ins) in self.graph.items():\n",
        "            outputs[k] = node(*[outputs[x] for x in ins])\n",
        "        return outputs\n",
        "    \n",
        "    def half(self):\n",
        "        for node in self.nodes():\n",
        "            if isinstance(node, nn.Module) and not isinstance(node, nn.BatchNorm2d):\n",
        "                node.half()\n",
        "        return self\n",
        "\n",
        "build_model = lambda network, loss: Network(network, loss).half().to(device)\n",
        "show = lambda network, size=15: display(DotGraph(network.graph if isinstance(network, Network) else build_graph(network), size=size))\n",
        "    \n",
        "class Add(namedtuple('Add', [])):\n",
        "    def __call__(self, x, y): return x + y \n",
        "    \n",
        "class AddWeighted(namedtuple('AddWeighted', ['wx', 'wy'])):\n",
        "    def __call__(self, x, y): return self.wx*x + self.wy*y \n",
        "    \n",
        "class Identity(namedtuple('Identity', [])):\n",
        "    def __call__(self, x): return x\n",
        "\n",
        "class BatchNorm(nn.BatchNorm2d):\n",
        "    def __init__(self, num_features, eps=1e-05, momentum=0.1, weight=True, bias=True):\n",
        "        super().__init__(num_features, eps=eps, momentum=momentum)\n",
        "        self.weight.data.fill_(1.0)\n",
        "        self.bias.data.fill_(0.0)\n",
        "        self.weight.requires_grad = weight\n",
        "        self.bias.requires_grad = bias\n",
        "\n",
        "class GhostBatchNorm(BatchNorm):\n",
        "    def __init__(self, num_features, num_splits, **kw):\n",
        "        super().__init__(num_features, **kw)\n",
        "        self.num_splits = num_splits\n",
        "        self.register_buffer('running_mean', torch.zeros(num_features*self.num_splits))\n",
        "        self.register_buffer('running_var', torch.ones(num_features*self.num_splits))\n",
        "\n",
        "    def train(self, mode=True):\n",
        "        if (self.training is True) and (mode is False): #lazily collate stats when we are going to use them\n",
        "            self.running_mean = torch.mean(self.running_mean.view(self.num_splits, self.num_features), dim=0).repeat(self.num_splits)\n",
        "            self.running_var = torch.mean(self.running_var.view(self.num_splits, self.num_features), dim=0).repeat(self.num_splits)\n",
        "        return super().train(mode)\n",
        "        \n",
        "    def forward(self, input):\n",
        "        N, C, H, W = input.shape\n",
        "        if self.training or not self.track_running_stats:\n",
        "            return F.batch_norm(\n",
        "                input.view(-1, C*self.num_splits, H, W), self.running_mean, self.running_var, \n",
        "                self.weight.repeat(self.num_splits), self.bias.repeat(self.num_splits),\n",
        "                True, self.momentum, self.eps).view(N, C, H, W) \n",
        "        else:\n",
        "            return F.batch_norm(\n",
        "                input, self.running_mean[:self.num_features], self.running_var[:self.num_features], \n",
        "                self.weight, self.bias, False, self.momentum, self.eps)\n",
        "        \n",
        "class Mul(nn.Module):\n",
        "    def __init__(self, weight):\n",
        "        super().__init__()\n",
        "        self.weight = weight\n",
        "    def __call__(self, x): \n",
        "        return x*self.weight\n",
        "    \n",
        "class Flatten(nn.Module):\n",
        "    def forward(self, x): \n",
        "        return x.view(x.size(0), x.size(1))\n",
        "\n",
        "# Losses\n",
        "class CrossEntropyLoss(namedtuple('CrossEntropyLoss', [])):\n",
        "    def __call__(self, log_probs, target):\n",
        "        return torch.nn.functional.nll_loss(log_probs, target, reduction='none')\n",
        "    \n",
        "class KLLoss(namedtuple('KLLoss', [])):        \n",
        "    def __call__(self, log_probs):\n",
        "        return -log_probs.mean(dim=1)\n",
        "\n",
        "class Correct(namedtuple('Correct', [])):\n",
        "    def __call__(self, classifier, target):\n",
        "        return classifier.max(dim = 1)[1] == target\n",
        "\n",
        "class LogSoftmax(namedtuple('LogSoftmax', ['dim'])):\n",
        "    def __call__(self, x):\n",
        "        return torch.nn.functional.log_softmax(x, self.dim, _stacklevel=5)\n",
        "\n",
        "    \n",
        "# node definitions   \n",
        "from inspect import signature    \n",
        "empty_signature = inspect.Signature()\n",
        "\n",
        "class node_def(namedtuple('node_def', ['type'])):\n",
        "    def __call__(self, *args, **kwargs):\n",
        "        return (self.type, dict(signature(self.type).bind(*args, **kwargs).arguments))\n",
        "\n",
        "conv = node_def(nn.Conv2d)\n",
        "linear = node_def(nn.Linear)\n",
        "batch_norm = node_def(BatchNorm)\n",
        "pool = node_def(nn.MaxPool2d)\n",
        "relu = node_def(nn.ReLU)\n",
        "    \n",
        "def map_types(mapping, net):\n",
        "    def f(node):\n",
        "        typ, *rest = node\n",
        "        return (mapping.get(typ, typ), *rest)\n",
        "    return map_nested(f, net) \n",
        "\n",
        "#####################\n",
        "## Compat\n",
        "##################### \n",
        "\n",
        "def to_numpy(x):\n",
        "    if isinstance(x, torch.Tensor):\n",
        "        return x.detach().cpu().numpy()  \n",
        "    return x\n",
        "  \n",
        "def flip_lr(x):\n",
        "    if isinstance(x, torch.Tensor):\n",
        "        return torch.flip(x, [-1]) \n",
        "    return x[..., ::-1].copy()\n",
        "  \n",
        "trainable_params = lambda model: {k:p for k,p in model.named_parameters() if p.requires_grad}\n",
        "\n",
        "#####################\n",
        "## Optimizers\n",
        "##################### \n",
        "\n",
        "from functools import partial\n",
        "\n",
        "def nesterov_update(w, dw, v, lr, weight_decay, momentum):\n",
        "    dw.add_(weight_decay, w).mul_(-lr)\n",
        "    v.mul_(momentum).add_(dw)\n",
        "    w.add_(dw.add_(momentum, v))\n",
        "\n",
        "norm = lambda x: torch.norm(x.reshape(x.size(0),-1).float(), dim=1)[:,None,None,None]\n",
        "\n",
        "def LARS_update(w, dw, v, lr, weight_decay, momentum):\n",
        "    nesterov_update(w, dw, v, lr*(norm(w)/(norm(dw)+1e-2)).to(w.dtype), weight_decay, momentum)\n",
        "\n",
        "def zeros_like(weights):\n",
        "    return [torch.zeros_like(w) for w in weights]\n",
        "\n",
        "def optimiser(weights, param_schedule, update, state_init):\n",
        "    weights = list(weights)\n",
        "    return {'update': update, 'param_schedule': param_schedule, 'step_number': 0, 'weights': weights,  'opt_state': state_init(weights)}\n",
        "\n",
        "def opt_step(update, param_schedule, step_number, weights, opt_state):\n",
        "    step_number += 1\n",
        "    param_values = {k: f(step_number) for k, f in param_schedule.items()}\n",
        "    for w, v in zip(weights, opt_state):\n",
        "        if w.requires_grad:\n",
        "            update(w.data, w.grad.data, v, **param_values)\n",
        "    return {'update': update, 'param_schedule': param_schedule, 'step_number': step_number, 'weights': weights,  'opt_state': opt_state}\n",
        "\n",
        "LARS = partial(optimiser, update=LARS_update, state_init=zeros_like)\n",
        "SGD = partial(optimiser, update=nesterov_update, state_init=zeros_like)\n",
        "  \n",
        "class PiecewiseLinear(namedtuple('PiecewiseLinear', ('knots', 'vals'))):\n",
        "    def __call__(self, t):\n",
        "        return np.interp([t], self.knots, self.vals)[0]\n",
        "     \n",
        "class Const(namedtuple('Const', ['val'])):\n",
        "    def __call__(self, x):\n",
        "        return self.val\n",
        "\n",
        "#####################\n",
        "## DATA\n",
        "##################### \n",
        "\n",
        "import torchvision\n",
        "from functools import lru_cache as cache\n",
        "\n",
        "@cache(None)\n",
        "def cifar10(root='./data'):\n",
        "    download = lambda train: torchvision.datasets.CIFAR10(root=root, train=train, download=True)\n",
        "    return {k: {'data': torch.tensor(v.data), 'targets': torch.tensor(v.targets)} \n",
        "            for k,v in [('train', download(True)), ('valid', download(False))]}\n",
        "  \n",
        "cifar10_mean, cifar10_std = [\n",
        "    (125.31, 122.95, 113.87), # equals np.mean(cifar10()['train']['data'], axis=(0,1,2)) \n",
        "    (62.99, 62.09, 66.70), # equals np.std(cifar10()['train']['data'], axis=(0,1,2))\n",
        "]\n",
        "cifar10_classes= 'airplane, automobile, bird, cat, deer, dog, frog, horse, ship, truck'.split(', ')\n",
        "\n",
        "#####################\n",
        "## data preprocessing\n",
        "#####################\n",
        "mean, std = [torch.tensor(x, device=device, dtype=torch.float16) for x in (cifar10_mean, cifar10_std)]\n",
        "\n",
        "normalise = lambda data, mean=mean, std=std: (data - mean)/std\n",
        "unnormalise = lambda data, mean=mean, std=std: data*std + mean\n",
        "pad = lambda data, border: nn.ReflectionPad2d(border)(data)\n",
        "transpose = lambda x, source='NHWC', target='NCHW': x.permute([source.index(d) for d in target]) \n",
        "to = lambda *args, **kwargs: (lambda x: x.to(*args, **kwargs))\n",
        "\n",
        "def preprocess(dataset, transforms):\n",
        "    dataset = copy.copy(dataset)\n",
        "    for transform in reversed(transforms):\n",
        "        dataset['data'] = transform(dataset['data'])\n",
        "    return dataset\n",
        "\n",
        "#####################\n",
        "## Data augmentation\n",
        "#####################\n",
        "\n",
        "chunks = lambda data, splits: (data[start:end] for (start, end) in zip(splits, splits[1:]))\n",
        "\n",
        "even_splits = lambda N, num_chunks: np.cumsum([0] + [(N//num_chunks)+1]*(N % num_chunks)  + [N//num_chunks]*(num_chunks - (N % num_chunks)))\n",
        "\n",
        "def shuffled(xs, inplace=False):\n",
        "    xs = xs if inplace else copy.copy(xs) \n",
        "    np.random.shuffle(xs)\n",
        "    return xs\n",
        "\n",
        "def transformed(data, targets, transform, max_options=None, unshuffle=False):\n",
        "    i = torch.randperm(len(data), device=device)\n",
        "    data = data[i]\n",
        "    options = shuffled(transform.options(data.shape), inplace=True)[:max_options]\n",
        "    data = torch.cat([transform.apply(x, **choice) for choice, x in zip(options, chunks(data, even_splits(len(data), len(options))))])\n",
        "    return (data[torch.argsort(i)], targets) if unshuffle else (data, targets[i])\n",
        "\n",
        "class Batches():\n",
        "    def __init__(self, batch_size, transforms=(), dataset=None, shuffle=True, drop_last=False, max_options=None):\n",
        "        self.dataset, self.transforms, self.shuffle, self.max_options = dataset, transforms, shuffle, max_options\n",
        "        N = len(dataset['data'])\n",
        "        self.splits = list(range(0, N+1, batch_size))\n",
        "        if not drop_last and self.splits[-1] != N:\n",
        "            self.splits.append(N)\n",
        "     \n",
        "    def __iter__(self):\n",
        "        data, targets = self.dataset['data'], self.dataset['targets']\n",
        "        for transform in self.transforms:\n",
        "            data, targets = transformed(data, targets, transform, max_options=self.max_options, unshuffle=not self.shuffle)\n",
        "        if self.shuffle:\n",
        "            i = torch.randperm(len(data), device=device)\n",
        "            data, targets = data[i], targets[i]\n",
        "        return ({'input': x.clone(), 'target': y} for (x, y) in zip(chunks(data, self.splits), chunks(targets, self.splits)))\n",
        "    \n",
        "    def __len__(self): \n",
        "        return len(self.splits) - 1\n",
        "    \n",
        "#####################\n",
        "## Augmentations\n",
        "#####################\n",
        "\n",
        "class Crop(namedtuple('Crop', ('h', 'w'))):\n",
        "    def apply(self, x, x0, y0):\n",
        "        return x[..., y0:y0+self.h, x0:x0+self.w] \n",
        "\n",
        "    def options(self, shape):\n",
        "        *_, H, W = shape\n",
        "        return [{'x0': x0, 'y0': y0} for x0 in range(W+1-self.w) for y0 in range(H+1-self.h)]\n",
        "    \n",
        "class FlipLR(namedtuple('FlipLR', ())):\n",
        "    def apply(self, x, choice):\n",
        "        return flip_lr(x) if choice else x \n",
        "        \n",
        "    def options(self, shape):\n",
        "        return [{'choice': b} for b in [True, False]]\n",
        "\n",
        "class Cutout(namedtuple('Cutout', ('h', 'w'))):\n",
        "    def apply(self, x, x0, y0):\n",
        "        x[..., y0:y0+self.h, x0:x0+self.w] = 0.0\n",
        "        return x\n",
        "\n",
        "    def options(self, shape):\n",
        "        *_, H, W = shape\n",
        "        return [{'x0': x0, 'y0': y0} for x0 in range(W+1-self.w) for y0 in range(H+1-self.h)]  \n",
        "\n",
        "#####################\n",
        "## TRAINING\n",
        "#####################\n",
        "\n",
        "import time\n",
        "\n",
        "class Timer():\n",
        "    def __init__(self, synch=None):\n",
        "        self.synch = synch or (lambda: None)\n",
        "        self.synch()\n",
        "        self.times = [time.perf_counter()]\n",
        "        self.total_time = 0.0\n",
        "\n",
        "    def __call__(self, update_total=True):\n",
        "        self.synch()\n",
        "        self.times.append(time.perf_counter())\n",
        "        delta_t = self.times[-1] - self.times[-2]\n",
        "        if update_total:\n",
        "            self.total_time += delta_t\n",
        "        return delta_t\n",
        "\n",
        "default_table_formats = {float: '{:{w}.4f}', str: '{:>{w}s}', 'default': '{:{w}}', 'title': '{:>{w}s}'}\n",
        "\n",
        "def table_formatter(val, is_title=False, col_width=12, formats=None):\n",
        "    formats = formats or default_table_formats\n",
        "    type_ = lambda val: float if isinstance(val, (float, np.float)) else type(val)\n",
        "    return (formats['title'] if is_title else formats.get(type_(val), formats['default'])).format(val, w=col_width)\n",
        "\n",
        "every = lambda n, col: (lambda data: data[col] % n == 0)\n",
        "\n",
        "class Table():\n",
        "    def __init__(self, keys=None, report=(lambda data: True), formatter=table_formatter):\n",
        "        self.keys, self.report, self.formatter = keys, report, formatter\n",
        "        self.log = []\n",
        "        \n",
        "    def append(self, data):\n",
        "        self.log.append(data)\n",
        "        data = {' '.join(p): v for p,v in path_iter(data)}\n",
        "        self.keys = self.keys or data.keys()\n",
        "        if len(self.log) is 1:\n",
        "            print(*(self.formatter(k, True) for k in self.keys))\n",
        "        if self.report(data):\n",
        "            print(*(self.formatter(data[k]) for k in self.keys))\n",
        "            \n",
        "    def df(self):\n",
        "        return pd.DataFrame([{'_'.join(p): v for p,v in path_iter(row)} for row in self.log])     \n",
        "            \n",
        "def reduce(batches, state, steps):\n",
        "    #state: is a dictionary\n",
        "    #steps: are functions that take (batch, state)\n",
        "    #and return a dictionary of updates to the state (or None)\n",
        "    \n",
        "    for batch in chain(batches, [None]): \n",
        "    #we send an extra batch=None at the end for steps that \n",
        "    #need to do some tidying-up (e.g. log_activations)\n",
        "        for step in steps:\n",
        "            updates = step(batch, state)\n",
        "            if updates:\n",
        "                for k,v in updates.items():\n",
        "                    state[k] = v                  \n",
        "    return state\n",
        "  \n",
        "#define keys in the state dict as constants\n",
        "MODEL = 'model'\n",
        "VALID_MODEL = 'valid_model'\n",
        "OUTPUT = 'output'\n",
        "OPTS = 'optimisers'\n",
        "ACT_LOG = 'activation_log'\n",
        "WEIGHT_LOG = 'weight_log'\n",
        "\n",
        "#step definitions\n",
        "def forward(training_mode):\n",
        "    def step(batch, state):\n",
        "        if not batch: return\n",
        "        model = state[MODEL] if training_mode or (VALID_MODEL not in state) else state[VALID_MODEL]\n",
        "        if model.training != training_mode: #without the guard it's slow!\n",
        "            model.train(training_mode)\n",
        "        return {OUTPUT: model.loss(model(batch))}\n",
        "    return step\n",
        "\n",
        "def forward_tta(tta_transforms):\n",
        "    def step(batch, state):\n",
        "        if not batch: return\n",
        "        model = state[MODEL] if (VALID_MODEL not in state) else state[VALID_MODEL]\n",
        "        if model.training:\n",
        "            model.train(False)\n",
        "        logits = torch.mean(torch.stack([model({'input': transform(batch['input'].clone())})['logits'].detach() for transform in tta_transforms], dim=0), dim=0)\n",
        "        return {OUTPUT: model.loss(dict(batch, logits=logits))}\n",
        "    return step\n",
        "\n",
        "def backward(dtype=torch.float16):\n",
        "    def step(batch, state):\n",
        "        state[MODEL].zero_grad()\n",
        "        if not batch: return\n",
        "        state[OUTPUT]['loss'].to(dtype).sum().backward()\n",
        "    return step\n",
        "\n",
        "def opt_steps(batch, state):\n",
        "    if not batch: return\n",
        "    return {OPTS: [opt_step(**opt) for opt in state[OPTS]]}\n",
        "\n",
        "def log_activations(node_names=('loss', 'acc')):\n",
        "    logs = []\n",
        "    def step(batch, state):\n",
        "        if batch:\n",
        "            logs.extend((k, state[OUTPUT][k].detach()) for k in node_names)\n",
        "        else:\n",
        "            res = map_values((lambda xs: to_numpy(torch.cat(xs)).astype(np.float)), group_by_key(logs))\n",
        "            logs.clear()\n",
        "            return {ACT_LOG: res}\n",
        "    return step\n",
        "\n",
        "def update_ema(momentum, update_freq=1):\n",
        "    n = iter(count())\n",
        "    rho = momentum**update_freq\n",
        "    def step(batch, state):\n",
        "        if not batch: return\n",
        "        if (next(n) % update_freq) != 0: return\n",
        "        for v, ema_v in zip(state[MODEL].state_dict().values(), state[VALID_MODEL].state_dict().values()):\n",
        "            ema_v *= rho\n",
        "            ema_v += (1-rho)*v\n",
        "    return step\n",
        "\n",
        "train_steps = (forward(training_mode=True), log_activations(('loss', 'acc')), backward(), opt_steps)\n",
        "valid_steps = (forward(training_mode=False), log_activations(('loss', 'acc')))\n",
        "\n",
        "epoch_stats = lambda state: {k: np.mean(v) for k, v in state[ACT_LOG].items()}\n",
        "\n",
        "def train_epoch(state, timer, train_batches, valid_batches, train_steps=train_steps, valid_steps=valid_steps, on_epoch_end=identity):\n",
        "    train_summary, train_time = epoch_stats(on_epoch_end(reduce(train_batches, state, train_steps))), timer()\n",
        "    valid_summary, valid_time = epoch_stats(reduce(valid_batches, state, valid_steps)), timer(update_total=False) #DAWNBench rules\n",
        "    return {\n",
        "        'train': union({'time': train_time}, train_summary), \n",
        "        'valid': union({'time': valid_time}, valid_summary), \n",
        "        'total time': timer.total_time\n",
        "    }\n",
        "\n",
        "summary = lambda logs, cols=['valid_acc']: logs.df().query('epoch==epoch.max()')[cols].describe().transpose().astype({'count': int})[\n",
        "    ['count', 'mean', 'min', 'max', 'std']]\n",
        "\n",
        "#on_epoch_end\n",
        "def log_weights(state, weights):\n",
        "    state[WEIGHT_LOG] = state.get(WEIGHT_LOG, [])\n",
        "    state[WEIGHT_LOG].append({k: to_numpy(v.data) for k,v in weights.items()})\n",
        "    return state\n",
        "\n",
        "def fine_tune_bn_stats(state, batches, model_key=VALID_MODEL):\n",
        "    reduce(batches, {MODEL: state[model_key]}, [forward(True)])\n",
        "    return state\n",
        "\n",
        "#misc\n",
        "def warmup_cudnn(model, batch):\n",
        "    #run forward and backward pass of the model\n",
        "    #to allow benchmarking of cudnn kernels \n",
        "    reduce([batch], {MODEL: model}, [forward(True), backward()])\n",
        "    torch.cuda.synchronize()\n",
        "\n",
        "\n",
        "#####################\n",
        "## Plotting\n",
        "#####################\n",
        "\n",
        "import altair as alt\n",
        "alt.renderers.enable('colab')\n",
        "import pandas as pd\n",
        "import matplotlib.pyplot as plt\n",
        "from IPython.display import SVG\n",
        "\n",
        "def empty_plot(ax, **kw):\n",
        "    ax.axis('off')\n",
        "    return ax\n",
        "\n",
        "def image_plot(ax, img, title):\n",
        "    ax.imshow(to_numpy(unnormalise(transpose(img, 'CHW', 'HWC'))).astype(np.int))\n",
        "    ax.set_title(title)\n",
        "    ax.axis('off')\n",
        "\n",
        "def layout(figures, sharex=False, sharey=False, figure_title=None, col_width=4, row_height = 3.25, **kw):\n",
        "    nrows, ncols = np.array(figures).shape\n",
        "\n",
        "    fig, axs = plt.subplots(nrows=nrows, ncols=ncols, sharex=sharex, sharey=sharey, figsize=(col_width*ncols, row_height*nrows))\n",
        "    axs = [figure(ax, **kw) for row in zip(np.array(axs).reshape(nrows, ncols), figures) for ax, figure in zip(*row)]\n",
        "    fig.suptitle(figure_title)\n",
        "    return fig, axs\n",
        "\n",
        "#####################\n",
        "## Network\n",
        "#####################\n",
        "\n",
        "conv_block = lambda c_in, c_out: {\n",
        "    'conv': conv(in_channels=c_in, out_channels=c_out, kernel_size=(3, 3), stride=(1, 1), padding=(1, 1), bias=False), \n",
        "    'norm': batch_norm(c_out), \n",
        "    'act':  relu(),\n",
        "}\n",
        "\n",
        "conv_pool_block = lambda c_in, c_out: dict(conv_block(c_in, c_out), pool=pool(2))\n",
        "conv_pool_block_pre = lambda c_in, c_out: reorder(conv_pool_block(c_in, c_out), ('conv', 'pool', 'norm', 'act'))\n",
        "\n",
        "residual = lambda c, conv_block: {\n",
        "    'in': (Identity, {}),\n",
        "    'res1': conv_block(c, c),\n",
        "    'res2': conv_block(c, c),\n",
        "    'out': (Identity, {}),\n",
        "    'add': (Add, {}, ['in', 'out']),\n",
        "}\n",
        "\n",
        "def build_network(channels, extra_layers, res_layers, scale, conv_block=conv_block, \n",
        "                  prep_block=conv_block, conv_pool_block=conv_pool_block, types=None): \n",
        "    net = {\n",
        "        'prep': prep_block(3, channels['prep']),\n",
        "        'layer1': conv_pool_block(channels['prep'], channels['layer1']),\n",
        "        'layer2': conv_pool_block(channels['layer1'], channels['layer2']),\n",
        "        'layer3': conv_pool_block(channels['layer2'], channels['layer3']),\n",
        "        'pool': pool(4),\n",
        "        'classifier': {\n",
        "            'flatten': (Flatten, {}),\n",
        "            'conv': linear(channels['layer3'], 10, bias=False),\n",
        "            'scale': (Mul, {'weight': scale}),\n",
        "        },\n",
        "        'logits': (Identity, {}),\n",
        "    }\n",
        "    for layer in res_layers:\n",
        "        net[layer]['residual'] = residual(channels[layer], conv_block)\n",
        "    for layer in extra_layers:\n",
        "        net[layer]['extra'] = conv_block(channels[layer], channels[layer])     \n",
        "    if types: net = map_types(types, net)\n",
        "    return net\n",
        "\n",
        "channels={'prep': 64, 'layer1': 128, 'layer2': 256, 'layer3': 512}\n",
        "network = partial(build_network, channels=channels, extra_layers=(), res_layers=('layer1', 'layer3'), scale=1/8)   \n",
        "\n",
        "x_ent_loss = Network({\n",
        "  'loss':  (nn.CrossEntropyLoss, {'reduction': 'none'}, ['logits', 'target']),\n",
        "  'acc': (Correct, {}, ['logits', 'target'])\n",
        "})\n",
        "\n",
        "label_smoothing_loss = lambda alpha: Network({\n",
        "        'logprobs': (LogSoftmax, {'dim': 1}, ['logits']),\n",
        "        'KL':  (KLLoss, {}, ['logprobs']),\n",
        "        'xent':  (CrossEntropyLoss, {}, ['logprobs', 'target']),\n",
        "        'loss': (AddWeighted, {'wx': 1-alpha, 'wy': alpha}, ['xent', 'KL']),\n",
        "        'acc': (Correct, {}, ['logits', 'target']),\n",
        "    })\n",
        "#####################\n",
        "## Misc\n",
        "#####################\n",
        "\n",
        "lr_schedule = lambda knots, vals, batch_size: PiecewiseLinear(np.array(knots)*len(train_batches(batch_size)), np.array(vals)/batch_size)"
      ],
      "metadata": {
        "colab": {
          "base_uri": "https://localhost:8080/"
        },
        "id": "uEY8dZUiN6Us",
        "outputId": "fcc30084-3ff2-45bb-c154-0c2264ff1c3a"
      },
      "execution_count": null,
      "outputs": [
        {
          "output_type": "stream",
          "name": "stderr",
          "text": [
            "<>:40: SyntaxWarning: \"is\" with a literal. Did you mean \"==\"?\n",
            "<>:440: SyntaxWarning: \"is\" with a literal. Did you mean \"==\"?\n",
            "<>:40: SyntaxWarning: \"is\" with a literal. Did you mean \"==\"?\n",
            "<>:440: SyntaxWarning: \"is\" with a literal. Did you mean \"==\"?\n",
            "<ipython-input-74-8d3d9ccb3473>:40: SyntaxWarning: \"is\" with a literal. Did you mean \"==\"?\n",
            "  net = {path: node if len(node) is 3 else (*node, None) for path, node in path_iter(net)}\n",
            "<ipython-input-74-8d3d9ccb3473>:440: SyntaxWarning: \"is\" with a literal. Did you mean \"==\"?\n",
            "  if len(self.log) is 1:\n"
          ]
        }
      ]
    },
    {
      "cell_type": "code",
      "source": [
        "#####################\n",
        "## Config\n",
        "#####################\n",
        "\n",
        "N_RUNS = 5 #number of times to run each experiment"
      ],
      "metadata": {
        "id": "3V8R1qkPOBta"
      },
      "execution_count": null,
      "outputs": []
    },
    {
      "cell_type": "code",
      "source": [
        "#####################\n",
        "## timings\n",
        "#####################\n",
        "dataset = cifar10() #downloads dataset\n",
        "print('Starting timer')\n",
        "t = Timer(synch=torch.cuda.synchronize)\n",
        "dataset = map_nested(to(device), dataset)\n",
        "print(f'Transfer to GPU:\\t{t():.3f}s')\n",
        "train_set = preprocess(dataset['train'], [partial(pad, border=4), transpose, normalise, to(torch.float16)])\n",
        "valid_set = preprocess(dataset['valid'], [transpose, normalise, to(torch.float16)])\n",
        "print(f'Data preprocessing:\\t{t():.3f}s')\n",
        "map_nested(to(cpu), {'train': train_set, 'valid': valid_set})\n",
        "print(f'Transfer to CPU:\\t{t():.3f}s')"
      ],
      "metadata": {
        "colab": {
          "base_uri": "https://localhost:8080/",
          "height": 171,
          "referenced_widgets": [
            "d1e78be97745425d80378367c989b3c3",
            "b9a81ed62e554bbda3b18a64f3d55f43",
            "3966267abe4e41a0877f98b97541748e",
            "db86f6e02a574cc1b266e8ad7d5b04cc",
            "2a34f5761f0248678f794ecdb9f2a3ef",
            "b52a5cd75cca4c878b6066a2e5eb48ee",
            "3fa40b2d267a49a3bdf980478b7fe4fe",
            "b442511bbc614d78b23598f971ae3a9f",
            "3d643becd36443d4acab955601a526e0",
            "a0a8eeab1d664c5c8bdc6128b9c65e13",
            "350877cf62a543609d15e08bc3dbf614"
          ]
        },
        "id": "BxwPBtLMOE9Z",
        "outputId": "6b57696a-82a9-4f39-d247-03d085bd1e41"
      },
      "execution_count": null,
      "outputs": [
        {
          "output_type": "stream",
          "name": "stdout",
          "text": [
            "Downloading https://www.cs.toronto.edu/~kriz/cifar-10-python.tar.gz to ./data/cifar-10-python.tar.gz\n"
          ]
        },
        {
          "output_type": "display_data",
          "data": {
            "text/plain": [
              "  0%|          | 0/170498071 [00:00<?, ?it/s]"
            ],
            "application/vnd.jupyter.widget-view+json": {
              "version_major": 2,
              "version_minor": 0,
              "model_id": "d1e78be97745425d80378367c989b3c3"
            }
          },
          "metadata": {}
        },
        {
          "output_type": "stream",
          "name": "stdout",
          "text": [
            "Extracting ./data/cifar-10-python.tar.gz to ./data\n",
            "Files already downloaded and verified\n",
            "Starting timer\n",
            "Transfer to GPU:\t0.042s\n",
            "Data preprocessing:\t0.102s\n",
            "Transfer to CPU:\t0.317s\n"
          ]
        }
      ]
    },
    {
      "cell_type": "code",
      "source": [
        "train_batches = partial(Batches, dataset=train_set, shuffle=True,  drop_last=True, max_options=200)\n",
        "valid_batches = partial(Batches, dataset=valid_set, shuffle=False, drop_last=False)\n",
        "batches = train_batches(batch_size=8, transforms=(Crop(32, 32), FlipLR(), Cutout(8, 8)), shuffle=False)\n"
      ],
      "metadata": {
        "id": "s-1Xh4WoOJXL"
      },
      "execution_count": null,
      "outputs": []
    },
    {
      "cell_type": "code",
      "source": [
        "epochs, batch_size = 24, 512\n",
        "transforms = (Crop(32, 32), FlipLR(), Cutout(8, 8))\n",
        "opt_params = {'lr': lr_schedule([0, 5, epochs], [0.0, 0.4, 0.0], batch_size), 'weight_decay': Const(5e-4*batch_size), 'momentum': Const(0.9)}\n",
        "\n",
        "model = build_model(baseline_net, x_ent_loss)  \n",
        "warmup_cudnn(model, next(iter(train_batches(batch_size, transforms))))\n",
        "logs, state, timer = Table(), {MODEL: model, OPTS: [SGD(trainable_params(model).values(), opt_params)]}, Timer(torch.cuda.synchronize)\n",
        "for epoch in range(epochs):\n",
        "    logs.append(union({'epoch': epoch+1}, train_epoch(state, timer, train_batches(batch_size, transforms), valid_batches(batch_size))))"
      ],
      "metadata": {
        "colab": {
          "base_uri": "https://localhost:8080/"
        },
        "id": "qDM9vJ3aOgs-",
        "outputId": "7f2e157f-a6ab-453f-a37c-383b56b33980"
      },
      "execution_count": null,
      "outputs": [
        {
          "output_type": "stream",
          "name": "stderr",
          "text": [
            "<ipython-input-74-8d3d9ccb3473>:262: UserWarning: This overload of add_ is deprecated:\n",
            "\tadd_(Number alpha, Tensor other)\n",
            "Consider using one of the following signatures instead:\n",
            "\tadd_(Tensor other, *, Number alpha) (Triggered internally at ../torch/csrc/utils/python_arg_parser.cpp:1420.)\n",
            "  dw.add_(weight_decay, w).mul_(-lr)\n",
            "<ipython-input-74-8d3d9ccb3473>:508: DeprecationWarning: `np.float` is a deprecated alias for the builtin `float`. To silence this warning, use `float` by itself. Doing this will not modify any behavior and is safe. If you specifically wanted the numpy scalar type, use `np.float64` here.\n",
            "Deprecated in NumPy 1.20; for more details and guidance: https://numpy.org/devdocs/release/1.20.0-notes.html#deprecations\n",
            "  res = map_values((lambda xs: to_numpy(torch.cat(xs)).astype(np.float)), group_by_key(logs))\n"
          ]
        },
        {
          "output_type": "stream",
          "name": "stdout",
          "text": [
            "       epoch   train time   train loss    train acc   valid time   valid loss    valid acc   total time\n",
            "           1      11.6121       1.6560       0.4006       1.4088       1.3660       0.5029      11.6121\n"
          ]
        },
        {
          "output_type": "stream",
          "name": "stderr",
          "text": [
            "<ipython-input-74-8d3d9ccb3473>:426: DeprecationWarning: `np.float` is a deprecated alias for the builtin `float`. To silence this warning, use `float` by itself. Doing this will not modify any behavior and is safe. If you specifically wanted the numpy scalar type, use `np.float64` here.\n",
            "Deprecated in NumPy 1.20; for more details and guidance: https://numpy.org/devdocs/release/1.20.0-notes.html#deprecations\n",
            "  type_ = lambda val: float if isinstance(val, (float, np.float)) else type(val)\n"
          ]
        },
        {
          "output_type": "stream",
          "name": "stdout",
          "text": [
            "           2      11.9323       0.9574       0.6578       0.7875       1.1391       0.6402      23.5444\n",
            "           3      12.0164       0.7330       0.7432       0.7891       0.8498       0.7034      35.5608\n",
            "           4      11.8084       0.6311       0.7787       0.7792       0.7635       0.7405      47.3692\n",
            "           5      11.5243       0.5615       0.8042       0.7875       0.7815       0.7350      58.8935\n",
            "           6      11.4352       0.5057       0.8256       0.7754       0.5166       0.8241      70.3287\n",
            "           7      11.5885       0.4511       0.8462       0.7901       0.5238       0.8210      81.9172\n",
            "           8      11.8043       0.4084       0.8610       0.7887       0.5093       0.8307      93.7215\n",
            "           9      11.8611       0.3875       0.8682       0.7949       0.5669       0.8114     105.5826\n",
            "          10      11.7597       0.3633       0.8758       0.7767       0.3888       0.8643     117.3423\n",
            "          11      11.6664       0.3487       0.8812       0.7915       0.4899       0.8343     129.0087\n",
            "          12      11.6042       0.3330       0.8875       0.7734       0.3989       0.8645     140.6130\n",
            "          13      11.5679       0.3101       0.8956       0.7769       0.4484       0.8431     152.1809\n",
            "          14      11.5852       0.2912       0.9010       0.7765       0.4760       0.8453     163.7661\n",
            "          15      11.6501       0.2679       0.9080       0.7810       0.4070       0.8647     175.4162\n",
            "          16      11.6162       0.2476       0.9170       0.7908       0.3420       0.8851     187.0324\n",
            "          17      11.6689       0.2333       0.9207       0.7915       0.3433       0.8862     198.7013\n",
            "          18      11.6565       0.2125       0.9282       0.7891       0.3335       0.8876     210.3578\n",
            "          19      11.6643       0.1856       0.9383       0.7921       0.3067       0.8979     222.0222\n",
            "          20      11.6866       0.1674       0.9455       0.7738       0.3566       0.8866     233.7088\n",
            "          21      11.6761       0.1419       0.9533       0.7917       0.2597       0.9117     245.3849\n",
            "          22      11.6876       0.1170       0.9630       0.7946       0.2321       0.9229     257.0725\n",
            "          23      11.6691       0.0951       0.9710       0.7906       0.1934       0.9381     268.7416\n",
            "          24      11.6605       0.0761       0.9786       0.7803       0.1788       0.9419     280.4021\n"
          ]
        }
      ]
    },
    {
      "cell_type": "markdown",
      "source": [
        "# **By Changing the model, following Results are achieved**"
      ],
      "metadata": {
        "id": "BvO6wYqUs_eY"
      }
    },
    {
      "cell_type": "markdown",
      "source": [
        "# **Train Accuracy: 0.9786**\n",
        "#**Test Accuracy: 0.9419**"
      ],
      "metadata": {
        "id": "nMSu5hX4tM9O"
      }
    },
    {
      "cell_type": "code",
      "source": [
        "epochs, batch_size = 24, 512\n",
        "transforms = (Crop(32, 32), FlipLR(), Cutout(8, 8))\n",
        "opt_params = {'lr': lr_schedule([0, 5, epochs], [0.0, 0.4, 0.0], batch_size), 'weight_decay': Const(5e-4*batch_size), 'momentum': Const(0.9)}\n",
        "\n",
        "model = build_model(network(conv_pool_block=conv_pool_block_opt), x_ent_loss)\n",
        "logs, state, timer = Table(), {MODEL: model, OPTS: [SGD(trainable_params(model).values(), opt_params)]}, Timer(torch.cuda.synchronize)\n",
        "for epoch in range(epochs):\n",
        "    logs.append(union({'epoch': epoch+1}, train_epoch(state, timer, train_batches(batch_size, transforms), valid_batches(batch_size))))"
      ],
      "metadata": {
        "colab": {
          "base_uri": "https://localhost:8080/"
        },
        "id": "9pAHNBcHOwHf",
        "outputId": "0484d515-6f19-4d66-a792-52a036cd04ac"
      },
      "execution_count": null,
      "outputs": [
        {
          "output_type": "stream",
          "name": "stderr",
          "text": [
            "<ipython-input-74-8d3d9ccb3473>:508: DeprecationWarning: `np.float` is a deprecated alias for the builtin `float`. To silence this warning, use `float` by itself. Doing this will not modify any behavior and is safe. If you specifically wanted the numpy scalar type, use `np.float64` here.\n",
            "Deprecated in NumPy 1.20; for more details and guidance: https://numpy.org/devdocs/release/1.20.0-notes.html#deprecations\n",
            "  res = map_values((lambda xs: to_numpy(torch.cat(xs)).astype(np.float)), group_by_key(logs))\n"
          ]
        },
        {
          "output_type": "stream",
          "name": "stdout",
          "text": [
            "       epoch   train time   train loss    train acc   valid time   valid loss    valid acc   total time\n",
            "           1      11.2754       1.2388       0.5517       0.7849       1.2451       0.5526      11.2754\n"
          ]
        },
        {
          "output_type": "stream",
          "name": "stderr",
          "text": [
            "<ipython-input-74-8d3d9ccb3473>:426: DeprecationWarning: `np.float` is a deprecated alias for the builtin `float`. To silence this warning, use `float` by itself. Doing this will not modify any behavior and is safe. If you specifically wanted the numpy scalar type, use `np.float64` here.\n",
            "Deprecated in NumPy 1.20; for more details and guidance: https://numpy.org/devdocs/release/1.20.0-notes.html#deprecations\n",
            "  type_ = lambda val: float if isinstance(val, (float, np.float)) else type(val)\n"
          ]
        },
        {
          "output_type": "stream",
          "name": "stdout",
          "text": [
            "           2      11.7731       0.9489       0.6612       0.7863       0.7552       0.7328      23.0485\n",
            "           3      11.8955       0.7341       0.7426       0.7885       0.7230       0.7542      34.9440\n",
            "           4      11.7122       0.6336       0.7775       0.7853       0.7326       0.7330      46.6562\n",
            "           5      11.3327       0.5550       0.8065       0.7615       0.8543       0.7230      57.9889\n",
            "           6      11.2386       0.4980       0.8262       0.7610       0.6259       0.7868      69.2275\n",
            "           7      11.2556       0.4405       0.8482       0.7548       0.4956       0.8264      80.4832\n",
            "           8      11.3972       0.4139       0.8600       0.7588       0.5294       0.8197      91.8804\n",
            "           9      11.4780       0.3867       0.8675       0.7683       0.4078       0.8594     103.3584\n",
            "          10      11.4877       0.3618       0.8768       0.7695       0.3970       0.8630     114.8461\n",
            "          11      11.3897       0.3430       0.8828       0.7598       0.5721       0.8099     126.2358\n",
            "          12      11.3333       0.3219       0.8923       0.7564       0.4039       0.8626     137.5691\n",
            "          13      11.3306       0.3075       0.8958       0.7546       0.4242       0.8585     148.8997\n",
            "          14      11.3130       0.2893       0.9023       0.7553       0.3753       0.8743     160.2126\n",
            "          15      11.2988       0.2687       0.9096       0.7557       0.3099       0.8955     171.5115\n",
            "          16      11.3135       0.2513       0.9141       0.7522       0.3123       0.8934     182.8250\n",
            "          17      11.3202       0.2340       0.9207       0.7525       0.3027       0.8995     194.1452\n",
            "          18      11.3423       0.2105       0.9293       0.7515       0.3658       0.8827     205.4876\n",
            "          19      11.3340       0.1898       0.9356       0.7570       0.2857       0.9050     216.8216\n",
            "          20      11.3282       0.1666       0.9454       0.7543       0.2785       0.9069     228.1498\n",
            "          21      11.3131       0.1406       0.9538       0.7606       0.2320       0.9217     239.4628\n",
            "          22      11.3105       0.1138       0.9645       0.7524       0.2211       0.9270     250.7734\n",
            "          23      11.2978       0.0942       0.9716       0.7602       0.1915       0.9374     262.0712\n",
            "          24      11.2782       0.0758       0.9786       0.7570       0.1765       0.9425     273.3493\n"
          ]
        }
      ]
    },
    {
      "cell_type": "markdown",
      "source": [
        "#**By Changing the model, following Results are achieved**\n",
        "#**Train Accuracy: 0.9786**\n",
        "#**Test Accuracy: 0.9425**"
      ],
      "metadata": {
        "id": "PkzGsqzLxWid"
      }
    },
    {
      "cell_type": "code",
      "source": [
        "epochs, batch_size = 50, 512\n",
        "transforms = (Crop(32, 32), FlipLR(), Cutout(8, 8))\n",
        "opt_params = {'lr': lr_schedule([0, 5, epochs], [0.0, 0.4, 0.0], batch_size), 'weight_decay': Const(5e-4*batch_size), 'momentum': Const(0.9)}\n",
        "\n",
        "model = build_model(network(conv_pool_block=conv_pool_block_opt), x_ent_loss)\n",
        "logs, state, timer = Table(), {MODEL: model, OPTS: [SGD(trainable_params(model).values(), opt_params)]}, Timer(torch.cuda.synchronize)\n",
        "for epoch in range(epochs):\n",
        "    logs.append(union({'epoch': epoch+1}, train_epoch(state, timer, train_batches(batch_size, transforms), valid_batches(batch_size))))"
      ],
      "metadata": {
        "colab": {
          "base_uri": "https://localhost:8080/"
        },
        "id": "G5UMvWtVxEOm",
        "outputId": "37bf6211-fe59-43a4-e38e-4a06788a9ff7"
      },
      "execution_count": null,
      "outputs": [
        {
          "output_type": "stream",
          "name": "stderr",
          "text": [
            "<ipython-input-74-8d3d9ccb3473>:508: DeprecationWarning: `np.float` is a deprecated alias for the builtin `float`. To silence this warning, use `float` by itself. Doing this will not modify any behavior and is safe. If you specifically wanted the numpy scalar type, use `np.float64` here.\n",
            "Deprecated in NumPy 1.20; for more details and guidance: https://numpy.org/devdocs/release/1.20.0-notes.html#deprecations\n",
            "  res = map_values((lambda xs: to_numpy(torch.cat(xs)).astype(np.float)), group_by_key(logs))\n"
          ]
        },
        {
          "output_type": "stream",
          "name": "stdout",
          "text": [
            "       epoch   train time   train loss    train acc   valid time   valid loss    valid acc   total time\n",
            "           1      11.0826       1.6549       0.4022       0.7588       1.4570       0.4849      11.0826\n"
          ]
        },
        {
          "output_type": "stream",
          "name": "stderr",
          "text": [
            "<ipython-input-74-8d3d9ccb3473>:426: DeprecationWarning: `np.float` is a deprecated alias for the builtin `float`. To silence this warning, use `float` by itself. Doing this will not modify any behavior and is safe. If you specifically wanted the numpy scalar type, use `np.float64` here.\n",
            "Deprecated in NumPy 1.20; for more details and guidance: https://numpy.org/devdocs/release/1.20.0-notes.html#deprecations\n",
            "  type_ = lambda val: float if isinstance(val, (float, np.float)) else type(val)\n"
          ]
        },
        {
          "output_type": "stream",
          "name": "stdout",
          "text": [
            "           2      11.5299       0.9501       0.6599       0.7904       0.9376       0.6883      22.6125\n",
            "           3      11.8596       0.7304       0.7434       0.7865       0.8373       0.7197      34.4721\n",
            "           4      11.8448       0.6308       0.7796       0.7916       0.6378       0.7714      46.3168\n",
            "           5      11.4673       0.5647       0.8036       0.7767       0.6249       0.7788      57.7841\n",
            "           6      11.2273       0.5023       0.8265       0.7517       0.6201       0.7917      69.0114\n",
            "           7      11.2076       0.4517       0.8452       0.7523       0.5959       0.7996      80.2191\n",
            "           8      11.2984       0.4214       0.8567       0.7757       0.5412       0.8181      91.5175\n",
            "           9      11.4699       0.3954       0.8630       0.7747       0.5133       0.8233     102.9874\n",
            "          10      11.4953       0.3823       0.8685       0.7738       0.6348       0.7840     114.4827\n",
            "          11      11.4075       0.3683       0.8755       0.7717       0.4943       0.8331     125.8902\n",
            "          12      11.3578       0.3629       0.8766       0.7584       0.6080       0.7958     137.2481\n",
            "          13      11.3035       0.3460       0.8831       0.7488       0.7489       0.7489     148.5516\n",
            "          14      11.3024       0.3366       0.8855       0.7537       0.4583       0.8435     159.8540\n",
            "          15      11.3135       0.3274       0.8872       0.7589       0.4219       0.8597     171.1675\n",
            "          16      11.3322       0.3223       0.8900       0.7554       0.4141       0.8606     182.4997\n",
            "          17      11.3318       0.3116       0.8952       0.7712       0.3973       0.8682     193.8314\n",
            "          18      11.3342       0.2990       0.8982       0.7620       0.3631       0.8785     205.1657\n",
            "          19      11.3545       0.2928       0.9006       0.7560       0.3748       0.8744     216.5202\n",
            "          20      11.3839       0.2836       0.9036       0.7730       0.3965       0.8684     227.9041\n",
            "          21      11.3705       0.2774       0.9050       0.7578       0.3913       0.8691     239.2746\n",
            "          22      11.3671       0.2682       0.9098       0.7591       0.4006       0.8649     250.6417\n",
            "          23      11.3782       0.2583       0.9130       0.7439       0.4195       0.8595     262.0200\n",
            "          24      11.4049       0.2522       0.9146       0.7547       0.5028       0.8426     273.4248\n",
            "          25      11.3979       0.2483       0.9164       0.7683       0.3958       0.8680     284.8227\n",
            "          26      11.3813       0.2371       0.9206       0.7698       0.3382       0.8816     296.2040\n",
            "          27      11.3555       0.2289       0.9232       0.7718       0.3579       0.8769     307.5594\n",
            "          28      11.3552       0.2265       0.9237       0.7537       0.4397       0.8474     318.9147\n",
            "          29      11.3600       0.2216       0.9256       0.7529       0.4558       0.8578     330.2747\n",
            "          30      11.3353       0.2070       0.9308       0.7517       0.2841       0.9060     341.6100\n",
            "          31      11.3282       0.2007       0.9323       0.7498       0.3285       0.8880     352.9382\n",
            "          32      11.3376       0.1936       0.9349       0.7665       0.4802       0.8461     364.2758\n",
            "          33      11.3151       0.1881       0.9373       0.7527       0.3778       0.8812     375.5909\n",
            "          34      11.3513       0.1722       0.9437       0.7557       0.3744       0.8833     386.9422\n",
            "          35      11.3101       0.1626       0.9462       0.7521       0.2774       0.9071     398.2524\n",
            "          36      11.3184       0.1582       0.9465       0.7603       0.3854       0.8727     409.5708\n",
            "          37      11.3104       0.1456       0.9534       0.7560       0.3781       0.8782     420.8811\n",
            "          38      11.3654       0.1443       0.9524       0.7555       0.2607       0.9143     432.2465\n",
            "          39      11.3242       0.1302       0.9573       0.7695       0.2995       0.9046     443.5707\n",
            "          40      11.2995       0.1181       0.9618       0.7508       0.2675       0.9145     454.8702\n",
            "          41      11.3190       0.1138       0.9630       0.7518       0.2603       0.9132     466.1893\n",
            "          42      11.3305       0.0986       0.9699       0.7543       0.2485       0.9210     477.5198\n",
            "          43      11.3039       0.0876       0.9728       0.7496       0.2243       0.9267     488.8236\n",
            "          44      11.3061       0.0741       0.9781       0.7466       0.1962       0.9360     500.1298\n",
            "          45      11.3125       0.0650       0.9815       0.7506       0.2012       0.9316     511.4422\n",
            "          46      11.3065       0.0538       0.9852       0.7541       0.1716       0.9455     522.7488\n",
            "          47      11.2897       0.0456       0.9880       0.7530       0.1712       0.9460     534.0385\n",
            "          48      11.2906       0.0409       0.9896       0.7606       0.1616       0.9480     545.3290\n",
            "          49      11.2772       0.0335       0.9922       0.7612       0.1580       0.9481     556.6062\n",
            "          50      11.2706       0.0286       0.9941       0.7546       0.1541       0.9501     567.8769\n"
          ]
        }
      ]
    },
    {
      "cell_type": "markdown",
      "source": [
        "#**By Changing the model, following Results are achieved**\n",
        "#**Train Accuracy: 0.9941**\n",
        "#**Test Accuracy: 0.9501**"
      ],
      "metadata": {
        "id": "aEJHz4WCwfn3"
      }
    },
    {
      "cell_type": "code",
      "source": [
        "celu_net = network(conv_pool_block=conv_pool_block_pre, types={nn.ReLU: partial(nn.CELU, alpha=0.075)})\n",
        "show(celu_net)"
      ],
      "metadata": {
        "id": "NeVxTtOjO5Te"
      },
      "execution_count": null,
      "outputs": []
    },
    {
      "cell_type": "code",
      "source": [
        "epochs, batch_size = 24, 512\n",
        "transforms = (Crop(32, 32), FlipLR(), Cutout(8, 8))\n",
        "opt_params = {'lr': lr_schedule([0, epochs/5, epochs], [0.0, 0.4, 0.0], batch_size), 'weight_decay': Const(5e-4*batch_size), 'momentum': Const(0.9)}\n",
        "\n",
        "logs = Table(report=every(epochs,'epoch'))\n",
        "for run in range(N_RUNS):\n",
        "    model = build_model(celu_net, label_smoothing_loss(0.2))\n",
        "    state, timer = {MODEL: model, OPTS: [SGD(trainable_params(model).values(), opt_params)]}, Timer(torch.cuda.synchronize)\n",
        "    for epoch in range(epochs):\n",
        "        logs.append(union({'run': run+1, 'epoch': epoch+1}, train_epoch(state, timer, train_batches(batch_size, transforms), valid_batches(batch_size))))\n",
        "summary(logs)"
      ],
      "metadata": {
        "id": "JVJEHuBbPF80"
      },
      "execution_count": null,
      "outputs": []
    },
    {
      "cell_type": "code",
      "source": [
        "def cov(X):\n",
        "    X = X/np.sqrt(X.size(0) - 1)\n",
        "    return X.t() @ X\n",
        "\n",
        "def patches(data, patch_size=(3, 3), dtype=torch.float32):\n",
        "    h, w = patch_size\n",
        "    c = data.size(1)\n",
        "    return data.unfold(2,h,1).unfold(3,w,1).transpose(1,3).reshape(-1, c, h, w).to(dtype)\n",
        "\n",
        "def eigens(patches):\n",
        "    n,c,h,w = patches.shape\n",
        "    Σ = cov(patches.reshape(n, c*h*w))\n",
        "    Λ, V = torch.symeig(Σ, eigenvectors=True)\n",
        "    return Λ.flip(0), V.t().reshape(c*h*w, c, h, w).flip(0)\n",
        "\n",
        "Λ, V = eigens(patches(train_set['data'][:10000,:,4:-4,4:-4])) #center crop to remove padding\n",
        "\n",
        "layout([\n",
        "    [partial(image_plot, img=V[i].to(torch.float16)*3, title=f'{i+1} ({torch.sqrt(Λ[i]):.2f})') for i in range(len(V))],\n",
        "    [partial(image_plot, img=-V[i].to(torch.float16)*3, title='') for i in range(len(V))],\n",
        "], col_width=1.0, row_height=1.0\n",
        ");\n",
        "\n",
        "def whitening_block(c_in, c_out, Λ=None, V=None, eps=1e-2):\n",
        "    filt = nn.Conv2d(3, 27, kernel_size=(3,3), padding=(1,1), bias=False)\n",
        "    filt.weight.data = (V/torch.sqrt(Λ+eps)[:,None,None,None])\n",
        "    filt.weight.requires_grad = False \n",
        "                                   \n",
        "    return {\n",
        "        'whiten': (identity, {'value': filt}),\n",
        "        'conv': conv(27, c_out, kernel_size=(1, 1), bias=False),\n",
        "        'norm': batch_norm(c_out), \n",
        "        'act':  relu(),\n",
        "    }\n",
        "\n",
        "input_whitening_net = network(conv_pool_block=conv_pool_block_pre, prep_block=partial(whitening_block, Λ=Λ, V=V), scale=1/16, types={\n",
        "    nn.ReLU: partial(nn.CELU, 0.3),\n",
        "    BatchNorm: partial(GhostBatchNorm, num_splits=16, weight=False)\n",
        "})"
      ],
      "metadata": {
        "colab": {
          "base_uri": "https://localhost:8080/",
          "height": 374
        },
        "id": "C_GKHzLkPNJF",
        "outputId": "a95e2496-1d9c-43cd-80af-6df44cf8ddfb"
      },
      "execution_count": null,
      "outputs": [
        {
          "output_type": "stream",
          "name": "stderr",
          "text": [
            "<ipython-input-89-1238e1e01faf>:13: UserWarning: torch.symeig is deprecated in favor of torch.linalg.eigh and will be removed in a future PyTorch release.\n",
            "The default behavior has changed from using the upper triangular portion of the matrix by default to using the lower triangular portion.\n",
            "L, _ = torch.symeig(A, upper=upper)\n",
            "should be replaced with\n",
            "L = torch.linalg.eigvalsh(A, UPLO='U' if upper else 'L')\n",
            "and\n",
            "L, V = torch.symeig(A, eigenvectors=True)\n",
            "should be replaced with\n",
            "L, V = torch.linalg.eigh(A, UPLO='U' if upper else 'L') (Triggered internally at ../aten/src/ATen/native/BatchLinearAlgebra.cpp:2794.)\n",
            "  Λ, V = torch.symeig(Σ, eigenvectors=True)\n",
            "<ipython-input-74-8d3d9ccb3473>:574: DeprecationWarning: `np.int` is a deprecated alias for the builtin `int`. To silence this warning, use `int` by itself. Doing this will not modify any behavior and is safe. When replacing `np.int`, you may wish to use e.g. `np.int64` or `np.int32` to specify the precision. If you wish to review your current use, check the release note link for additional information.\n",
            "Deprecated in NumPy 1.20; for more details and guidance: https://numpy.org/devdocs/release/1.20.0-notes.html#deprecations\n",
            "  ax.imshow(to_numpy(unnormalise(transpose(img, 'CHW', 'HWC'))).astype(np.int))\n"
          ]
        },
        {
          "output_type": "display_data",
          "data": {
            "text/plain": [
              "<Figure size 1944x144 with 54 Axes>"
            ],
            "image/png": "[encoded data removed]"
          },
          "metadata": {
            "needs_background": "light"
          }
        }
      ]
    },
    {
      "cell_type": "code",
      "source": [
        "epochs, batch_size = 100, 512\n",
        "transforms = (Crop(32, 32), FlipLR(), Cutout(8, 8))\n",
        "opt_params = {'lr': lr_schedule([0, epochs/5, epochs], [0.0, 0.6, 0.0], batch_size), 'weight_decay': Const(5e-4*batch_size), 'momentum': Const(0.9)}\n",
        "opt_params_bias = {'lr': lr_schedule([0, epochs/5, epochs], [0.0, 0.6*64, 0.0], batch_size), 'weight_decay': Const(5e-4*batch_size/64), 'momentum': Const(0.9)}\n",
        "\n",
        "logs = Table(report=every(epochs,'epoch'))\n",
        "for run in range(N_RUNS):\n",
        "    model = build_model(input_whitening_net, label_smoothing_loss(0.2))\n",
        "    is_bias = group_by_key(('bias' in k, v) for k, v in trainable_params(model).items())\n",
        "    state, timer = {MODEL: model, OPTS: [SGD(is_bias[False], opt_params), SGD(is_bias[True], opt_params_bias)]}, Timer(torch.cuda.synchronize)\n",
        "    for epoch in range(epochs):\n",
        "        logs.append(union({'run': run+1, 'epoch': epoch+1}, train_epoch(state, timer, train_batches(batch_size, transforms), valid_batches(batch_size))))\n",
        "summary(logs)"
      ],
      "metadata": {
        "colab": {
          "base_uri": "https://localhost:8080/"
        },
        "id": "OA4DZxrWPVgT",
        "outputId": "7758ce90-ca52-4ea7-e75f-327baf092a0c"
      },
      "execution_count": null,
      "outputs": [
        {
          "output_type": "stream",
          "name": "stderr",
          "text": [
            "<ipython-input-74-8d3d9ccb3473>:508: DeprecationWarning: `np.float` is a deprecated alias for the builtin `float`. To silence this warning, use `float` by itself. Doing this will not modify any behavior and is safe. If you specifically wanted the numpy scalar type, use `np.float64` here.\n",
            "Deprecated in NumPy 1.20; for more details and guidance: https://numpy.org/devdocs/release/1.20.0-notes.html#deprecations\n",
            "  res = map_values((lambda xs: to_numpy(torch.cat(xs)).astype(np.float)), group_by_key(logs))\n"
          ]
        },
        {
          "output_type": "stream",
          "name": "stdout",
          "text": [
            "         run        epoch   train time   train loss    train acc   valid time   valid loss    valid acc   total time\n"
          ]
        },
        {
          "output_type": "stream",
          "name": "stderr",
          "text": [
            "<ipython-input-74-8d3d9ccb3473>:426: DeprecationWarning: `np.float` is a deprecated alias for the builtin `float`. To silence this warning, use `float` by itself. Doing this will not modify any behavior and is safe. If you specifically wanted the numpy scalar type, use `np.float64` here.\n",
            "Deprecated in NumPy 1.20; for more details and guidance: https://numpy.org/devdocs/release/1.20.0-notes.html#deprecations\n",
            "  type_ = lambda val: float if isinstance(val, (float, np.float)) else type(val)\n"
          ]
        },
        {
          "output_type": "stream",
          "name": "stdout",
          "text": [
            "           1          100      10.6102       0.8848       0.9971       0.7813       0.9504       0.9612    1065.6518\n",
            "           2          100      10.6490       0.8852       0.9969       0.7878       0.9494       0.9611    1067.6165\n",
            "           3          100      10.6421       0.8841       0.9975       0.7692       0.9554       0.9558    1070.6785\n",
            "           4          100      10.6208       0.8842       0.9975       0.7736       0.9556       0.9555    1069.1491\n"
          ]
        }
      ]
    },
    {
      "cell_type": "markdown",
      "source": [
        "# **By Changing in Model, following Results are achieved**\n",
        "#**Train Accuracy: 0.9971**\n",
        "#**Test Accuracy: 0.9612**"
      ],
      "metadata": {
        "id": "BmKP1cUSPnta"
      }
    },
    {
      "cell_type": "code",
      "source": [],
      "metadata": {
        "id": "zBHwc6bc7Jwo"
      },
      "execution_count": null,
      "outputs": []
    }
  ]
}